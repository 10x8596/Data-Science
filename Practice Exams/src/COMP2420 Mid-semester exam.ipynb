{
 "cells": [
  {
   "cell_type": "markdown",
   "metadata": {},
   "source": [
    "<img src=\"img/anu-logo.png\" height=\"30\">\n",
    "\n",
    "<h1 align='center'> COMP2420 - Introduction to Data Management, <br/>Analysis and Security</h1>\n",
    "\n",
    "<h2 align='center'>Mid-Semester Exam 2022</h2>\n",
    "\n",
    "*****"
   ]
  },
  {
   "cell_type": "markdown",
   "metadata": {},
   "source": [
    "## Instructions\n",
    "\n",
    "|**Maximum Marks**         |  **100**\n",
    "|--------------------------|--------\n",
    "|  **Weightage**           |  **14%** of the Total Course Grade\n",
    "|  **Duration**            |  **15 min** Reading + **90 min** Typing\n",
    "|  **Permitted Material**  |  This is an open book exam. Any course </br> or online material can be used\n",
    "\n",
    "* There are four questions.  All answers are to be submitted via gitlab before the end of the exam time period.\n",
    "* **DO** save your changes frequently, so that you do not lose your work!  **DO NOT** change the names of the directories or of the files.\n",
    "* You can import any additional Python modules you may need for your analysis in the first code block. **DO NOT** try to install any modules other than those present in the Anaconda distribution. \n",
    "* For all coding questions please write your code after the comment `YOUR CODE HERE`.\n",
    "* In the process of testing your code, you can insert more cells or use print statements for debugging, but when submitting your file remember to remove these cells and calls respectively.\n",
    "* You will be marked on **correctness** and **readability** of your code/analysis/explanation. If your marker can't understand your code/analysis/explanation, then marks may be deducted. \n",
    "* You are **NOT** expected to import other modules."
   ]
  },
  {
   "cell_type": "code",
   "execution_count": 2,
   "metadata": {},
   "outputs": [],
   "source": [
    "# Imports\n",
    "import pandas as pd\n",
    "import numpy as np\n",
    "from sklearn.linear_model import LogisticRegression\n",
    "from sklearn.linear_model import LinearRegression\n",
    "from sklearn.neighbors import KNeighborsClassifier      \n",
    "from sklearn.preprocessing import LabelEncoder          \n",
    "from sklearn.preprocessing import StandardScaler       \n",
    "from sklearn.model_selection import train_test_split    \n",
    "from sklearn.metrics import confusion_matrix\n",
    "from scipy import stats\n",
    "from itertools import combinations\n",
    "import matplotlib.pyplot as plt\n",
    "import seaborn as sns\n",
    "plt.style.use('seaborn')\n",
    "%matplotlib inline\n",
    "\n",
    "import warnings\n",
    "warnings.filterwarnings(\"ignore\")\n",
    "\n",
    "import operator\n",
    "from sklearn.metrics import classification_report\n",
    "from sklearn.model_selection import KFold # Scikit-learn K-Folds cross-validator\n",
    "from sklearn.model_selection import cross_val_score # evaluating cross-validator performance\n",
    "k_fold = KFold(n_splits=10, shuffle=True, random_state=0) # KFold configuration   "
   ]
  },
  {
   "cell_type": "markdown",
   "metadata": {
    "tags": []
   },
   "source": [
    "*****\n",
    "## Question 1: Short Answer _[10 marks]_ \n",
    "\n",
    "Answer the following questions in the raw cell left below the question.\n",
    "\n",
    "    \n",
    "#### 1.0) Explain what the R-squared statistic is and what you would use it for.  What does an R-squared value of 1 mean?\n",
    "\n",
    "<span style= 'float: right;'><b>[2 marks]</b></span>"
   ]
  },
  {
   "cell_type": "raw",
   "metadata": {},
   "source": [
    "Statistical measure that represents the proportion of the variance for a dependent variable that's explained by an independent variable or variables in a regression model\n",
    "Best-case score: 1.0\n",
    "Worst-case score: nothing is explained by the items.\n",
    "Error in the model: -Inf to < 0 (any negative number).   Please note that it is a squared number and mathematically cannot take on a negative value.  if a negative value is returned when evaluating your model, then this indicates something has gone wrong.\n",
    "It doesn't necessarily convey accuracy, just how much variance is explained by the data.\n",
    "\n",
    "R-squared is the coefficient of determination and is a measure of the fraction of total variance that is explained by a given regression model (ie total variance in the target variable that is accounted for by the variance in the predictor variables). \n",
    "It is used to assess how good a fit a linear regression model (or a given regression model) is to a given data set. \n",
    "An R-squared value of 1 means that the model perfectly explains the data. "
   ]
  },
  {
   "cell_type": "markdown",
   "metadata": {},
   "source": [
    "#### 1.1) Consider we have a dataset containing all students in comp2420/6420 with four attributes: \n",
    "- ```anu_student_id```, \n",
    "- ```weight```, \n",
    "- ```height``` and \n",
    "- ```sex```. \n",
    "\n",
    "We want to build a decision tree model to predict ```sex``` by using all of the three ```student_id```, ```weight```, ```height``` features in the dataset. We use ```LabelEncoder``` to process the ```anu_student_id``` and ```sex```. The numbers of females and males are about the same in the dataset. Assuming you use the ```DecisionTreeClassifier``` from **sklearn** with default parameters and you randomly select 80% of the data for training and 20% for testing, without actually training the model, explain\n",
    "\n",
    "(a) What will be the approximate expected train score of the decision tree model and why?\n",
    "\n",
    "(b) What will be the approximate test score of the decision tree model and why?\n",
    "\n",
    "<span style= 'float: right;'><b>[4 marks]</b></span>"
   ]
  },
  {
   "cell_type": "raw",
   "metadata": {},
   "source": [
    "WRITTEN ANSWER HERE\n",
    "\n",
    "The approximate train score might be between 0.9 to 1 and ~test score might be between 0.8 and 0.9.\n",
    "Decision trees most of the time are highly accurate because they select the best features and recursively creates subsets which may have values for the best features. For this dataset, the model should have a high accuracy score, because most boys weigh more and are taller with slight variances here and there. The decision tree should be able to recognise this and split accordingly.\n"
   ]
  },
  {
   "cell_type": "markdown",
   "metadata": {},
   "source": [
    "#### 1.2) Consider a dataset that has two features ```x1``` and ```x2```, and you want to build a KMeans model with ```k=2```. You initialize the two centroids ```c1``` (the orange dot) and ```c2``` (the green dot) for the model. What problem can you see here and how can you solve it?\n",
    "\n",
    "<span style= 'float: right;'><b>[4 marks]</b></span>"
   ]
  },
  {
   "cell_type": "code",
   "execution_count": 3,
   "metadata": {},
   "outputs": [
    {
     "data": {
      "image/png": "[encoded data removed]",
      "text/plain": [
       "<Figure size 864x720 with 1 Axes>"
      ]
     },
     "metadata": {
      "needs_background": "light"
     },
     "output_type": "display_data"
    }
   ],
   "source": [
    "#For demostration purpose. do not change this cell.\n",
    "c1 = np.random.normal(3,1,(100,2))\n",
    "c2 = np.random.normal(-3,1,(100,2))\n",
    "c = np.concatenate((c1,c2),0)\n",
    "fig = plt.figure(figsize=(12,10))\n",
    "plt.scatter(c[:,0], c[:,1], label='data')\n",
    "plt.xlabel('x1')\n",
    "plt.ylabel('x2')\n",
    "plt.scatter(0,0,label='c1',s = 200)\n",
    "plt.text(0,0,\"c1\",fontsize=29)\n",
    "plt.scatter(20,20,label='c2', s = 200)\n",
    "plt.text(20,20,\"c2\",fontsize=28)\n",
    "plt.title('Demostration')\n",
    "plt.legend()\n",
    "plt.show()"
   ]
  },
  {
   "cell_type": "raw",
   "metadata": {
    "tags": []
   },
   "source": [
    "WRITTEN ANSWER HERE\n",
    "The centroid that is far away will not be updated and it ends up with all data points go to c1.\n",
    "\n",
    "To address the issue, you need to initialize a good set of the centroids.\n",
    "You can use a different initialization algorithm to avoid the problem, e.g.  kmeans++. "
   ]
  },
  {
   "cell_type": "markdown",
   "metadata": {
    "tags": []
   },
   "source": [
    "____\n",
    "## Question 2: Data Analysis & Visualisation _[30 marks]_\n",
    "\n",
    "In this section, we will be exploring an income dataset extracted from the census bureau database. The dataset contains n = 32561 clients' income.\n",
    "\n",
    "The below table is a description of the dataset:\n",
    "\n",
    "\n",
    "| Field |  Description |\n",
    "| ---: | :-------------------------- | \n",
    "| `age` | Age of the client. |\n",
    "| `education` | Bachelors, Some-college, 11th, HS-grad, Prof-school, Assoc-acdm, Assoc-voc, 9th, 7th-8th, 12th, Masters, 1st-4th, 10th, Doctorate, 5th-6th, Preschool.\n",
    "| `education-num` | Numerical education level. |\n",
    "| `occupation` | Tech-support, Craft-repair, Other-service, Sales, Exec-managerial, Prof-specialty, Handlers-cleaners, Machine-op-inspct, Adm-clerical, Farming-fishing, Transport-moving, Priv-house-serv, Protective-serv, Armed-Forces.\n",
    "| `race` | White, Asian-Pac-Islander, Amer-Indian-Eskimo, Other, Black. |\n",
    "| `sex` | Female, Male. |\n",
    "| `hours-per-week` | Working hours per week. |\n",
    "| `class` | annual income: >50K, <=50K. |"
   ]
  },
  {
   "cell_type": "markdown",
   "metadata": {},
   "source": [
    "#### 2.0) Import the Data\n",
    "- Import the data from (`CensusIncome.csv`) in the data directory to a dataframe.\n",
    "- Print out the first 5 rows of the data set along with the names of the columns.\n",
    "<span style= 'float: right;'><b>[2 marks]</b></span>"
   ]
  },
  {
   "cell_type": "code",
   "execution_count": 9,
   "metadata": {},
   "outputs": [
    {
     "data": {
      "text/html": [
       "<div>\n",
       "<style scoped>\n",
       "    .dataframe tbody tr th:only-of-type {\n",
       "        vertical-align: middle;\n",
       "    }\n",
       "\n",
       "    .dataframe tbody tr th {\n",
       "        vertical-align: top;\n",
       "    }\n",
       "\n",
       "    .dataframe thead th {\n",
       "        text-align: right;\n",
       "    }\n",
       "</style>\n",
       "<table border=\"1\" class=\"dataframe\">\n",
       "  <thead>\n",
       "    <tr style=\"text-align: right;\">\n",
       "      <th></th>\n",
       "      <th>occupation</th>\n",
       "      <th>race</th>\n",
       "      <th>sex</th>\n",
       "      <th>age</th>\n",
       "      <th>education</th>\n",
       "      <th>education-num</th>\n",
       "      <th>hours-per-week</th>\n",
       "      <th>class</th>\n",
       "    </tr>\n",
       "  </thead>\n",
       "  <tbody>\n",
       "    <tr>\n",
       "      <th>0</th>\n",
       "      <td>Adm-clerical</td>\n",
       "      <td>White</td>\n",
       "      <td>Male</td>\n",
       "      <td>39</td>\n",
       "      <td>Bachelors</td>\n",
       "      <td>13</td>\n",
       "      <td>40</td>\n",
       "      <td>&lt;=50K</td>\n",
       "    </tr>\n",
       "    <tr>\n",
       "      <th>1</th>\n",
       "      <td>Exec-managerial</td>\n",
       "      <td>White</td>\n",
       "      <td>Male</td>\n",
       "      <td>50</td>\n",
       "      <td>Bachelors</td>\n",
       "      <td>13</td>\n",
       "      <td>13</td>\n",
       "      <td>&lt;=50K</td>\n",
       "    </tr>\n",
       "    <tr>\n",
       "      <th>2</th>\n",
       "      <td>Handlers-cleaners</td>\n",
       "      <td>White</td>\n",
       "      <td>Male</td>\n",
       "      <td>38</td>\n",
       "      <td>HS-grad</td>\n",
       "      <td>9</td>\n",
       "      <td>40</td>\n",
       "      <td>&lt;=50K</td>\n",
       "    </tr>\n",
       "    <tr>\n",
       "      <th>3</th>\n",
       "      <td>Handlers-cleaners</td>\n",
       "      <td>Black</td>\n",
       "      <td>Male</td>\n",
       "      <td>53</td>\n",
       "      <td>11th</td>\n",
       "      <td>7</td>\n",
       "      <td>40</td>\n",
       "      <td>&lt;=50K</td>\n",
       "    </tr>\n",
       "    <tr>\n",
       "      <th>4</th>\n",
       "      <td>Prof-specialty</td>\n",
       "      <td>Black</td>\n",
       "      <td>Female</td>\n",
       "      <td>28</td>\n",
       "      <td>Bachelors</td>\n",
       "      <td>13</td>\n",
       "      <td>40</td>\n",
       "      <td>&lt;=50K</td>\n",
       "    </tr>\n",
       "  </tbody>\n",
       "</table>\n",
       "</div>"
      ],
      "text/plain": [
       "          occupation   race     sex  age  education  education-num  \\\n",
       "0       Adm-clerical  White    Male   39  Bachelors             13   \n",
       "1    Exec-managerial  White    Male   50  Bachelors             13   \n",
       "2  Handlers-cleaners  White    Male   38    HS-grad              9   \n",
       "3  Handlers-cleaners  Black    Male   53       11th              7   \n",
       "4     Prof-specialty  Black  Female   28  Bachelors             13   \n",
       "\n",
       "   hours-per-week  class  \n",
       "0              40  <=50K  \n",
       "1              13  <=50K  \n",
       "2              40  <=50K  \n",
       "3              40  <=50K  \n",
       "4              40  <=50K  "
      ]
     },
     "execution_count": 9,
     "metadata": {},
     "output_type": "execute_result"
    }
   ],
   "source": [
    "### YOUR CODE HERE ###\n",
    "data = pd.read_csv('./data/CensusIncome.csv')\n",
    "data.head(5)"
   ]
  },
  {
   "cell_type": "markdown",
   "metadata": {},
   "source": [
    "#### 2.1) List the top 5 occupations with the longest average `hours-per-week`.\n",
    "\n",
    "<span style= 'float: right;'><b>[3 marks]</b></span>\n"
   ]
  },
  {
   "cell_type": "code",
   "execution_count": 10,
   "metadata": {},
   "outputs": [
    {
     "name": "stdout",
     "output_type": "stream",
     "text": [
      "{'Farming-fishing': 46.989939637826964, 'Exec-managerial': 44.9877029021151, 'Transport-moving': 44.65623043206011, 'Protective-serv': 42.87057010785824, 'Prof-specialty': 42.38671497584541, 'Craft-repair': 42.30422054159551, 'Sales': 40.78109589041096, 'Machine-op-inspct': 40.755744255744254, 'Armed-Forces': 40.666666666666664, 'Tech-support': 39.432112068965516, 'Handlers-cleaners': 37.947445255474456, 'Adm-clerical': 37.55835543766578, 'Other-service': 34.70166919575114, 'Priv-house-serv': 32.88590604026846, '?': 31.90613130765057}\n",
      "\n",
      "Thhe top 5 occupation with longest average hours per week are:\n",
      "1 Farming-fishing\n",
      "2 Exec-managerial\n",
      "3 Transport-moving\n",
      "4 Protective-serv\n",
      "5 Prof-specialty\n"
     ]
    }
   ],
   "source": [
    "### YOUR CODE HERE: top 5 occupations with the longest average hours-per-week ###\n",
    "occupation_list = data['occupation'].unique()\n",
    "occupation_list\n",
    "dict_ = dict()\n",
    "for occupation in occupation_list:\n",
    "    dict_[occupation] = data.loc[data['occupation']==occupation, 'hours-per-week'].mean()\n",
    "    # List the top 5 by hours\n",
    "\n",
    "sorted_d = dict(sorted(dict_.items(), key=operator.itemgetter(1),reverse=True))\n",
    "print(sorted_d)\n",
    "print()\n",
    "print(\"Thhe top 5 occupation with longest average hours per week are:\")\n",
    "\n",
    "i = 0\n",
    "j = 1\n",
    "for key in sorted_d.keys():\n",
    "    if (i != 5):\n",
    "        print(j,key)\n",
    "        i = i+1\n",
    "        j = j+1"
   ]
  },
  {
   "cell_type": "code",
   "execution_count": 11,
   "metadata": {},
   "outputs": [
    {
     "data": {
      "text/plain": [
       "occupation\n",
       "Farming-fishing     46.989940\n",
       "Exec-managerial     44.987703\n",
       "Transport-moving    44.656230\n",
       "Protective-serv     42.870570\n",
       "Prof-specialty      42.386715\n",
       "Name: hours-per-week, dtype: float64"
      ]
     },
     "execution_count": 11,
     "metadata": {},
     "output_type": "execute_result"
    }
   ],
   "source": [
    "data.groupby(['occupation']).mean()['hours-per-week'].sort_values(ascending=False).iloc[:5]"
   ]
  },
  {
   "cell_type": "raw",
   "metadata": {},
   "source": [
    "Code for sorting dictionary:\n",
    "https://www.w3resource.com/python-exercises/dictionary/python-data-type-dictionary-exercise-1.php"
   ]
  },
  {
   "cell_type": "markdown",
   "metadata": {},
   "source": [
    "#### 2.2) Visualise the distribution of `hours-per-week` for each of the top 5 occupations in one figure.   Explain why you chose the visualisation method you used and why how it is suited to the data being analysed.\n",
    "\n",
    "<span style= 'float: right;'><b>[5 marks]</b></span>\n"
   ]
  },
  {
   "cell_type": "code",
   "execution_count": 12,
   "metadata": {},
   "outputs": [
    {
     "data": {
      "image/png": "[encoded data removed]",
      "text/plain": [
       "<Figure size 1080x864 with 1 Axes>"
      ]
     },
     "metadata": {
      "needs_background": "light"
     },
     "output_type": "display_data"
    }
   ],
   "source": [
    "### YOUR CODE HERE:  hours-per-week distribution for each of the top 5 occupations ###\n",
    "top_5_occupation = data.groupby(['occupation']).mean()['hours-per-week'].sort_values(ascending=False).iloc[:5].index\n",
    "plot_data = data[['occupation','hours-per-week', \"class\"]]\n",
    "plot_data['occupation_processed'] = plot_data['occupation'].apply(lambda x: x if x in top_5_occupation else 'other')\n",
    "plot = sns.catplot(x=\"occupation_processed\", y='hours-per-week', kind=\"violin\", split=True, data=plot_data)\n",
    "plot.fig.set_size_inches(15,12)\n",
    "plt.title(\"Distribution of hours-per-week\")\n",
    "plt.show()"
   ]
  },
  {
   "cell_type": "code",
   "execution_count": 13,
   "metadata": {},
   "outputs": [
    {
     "data": {
      "image/png": "[encoded data removed]",
      "text/plain": [
       "<Figure size 864x432 with 1 Axes>"
      ]
     },
     "metadata": {
      "needs_background": "light"
     },
     "output_type": "display_data"
    }
   ],
   "source": [
    "top_5_occupation = data.groupby(['occupation']).mean()['hours-per-week'].sort_values(ascending=False).iloc[:5].index\n",
    "plot_data = data[data.occupation.isin(top_5_occupation)][['occupation','hours-per-week']]\n",
    "plt.figure(figsize=[12,6])\n",
    "sns.violinplot(data=plot_data, x=\"occupation\", y=\"hours-per-week\")\n",
    "plt.title(\"Distribution of hours per week for the Top-5 occupations (with longest average hours per week)\");"
   ]
  },
  {
   "cell_type": "code",
   "execution_count": 14,
   "metadata": {},
   "outputs": [
    {
     "data": {
      "image/png": "[encoded data removed]",
      "text/plain": [
       "<Figure size 1296x432 with 5 Axes>"
      ]
     },
     "metadata": {
      "needs_background": "light"
     },
     "output_type": "display_data"
    }
   ],
   "source": [
    "prop_cycle = plt.rcParams['axes.prop_cycle']\n",
    "colors = prop_cycle.by_key()['color'] # you can also manually specify some colour values\n",
    "\n",
    "plt.figure(figsize=[18,6])\n",
    "for i, oc in enumerate(plot_data.occupation.unique()):\n",
    "    plt.subplot(1,len(top_5_occupation),i+1) \n",
    "    plt.hist(plot_data[plot_data.occupation==oc]['hours-per-week'], density=True, color=colors[i])\n",
    "    plt.xlabel(\"hours per week\")\n",
    "    plt.ylabel(\"density\")\n",
    "    plt.title(oc)\n",
    "plt.subplots_adjust(wspace=0.4)\n",
    "plt.suptitle(\"Distribution of hours per week for the Top-5 occupations (with longest average hours per week)\");"
   ]
  },
  {
   "cell_type": "markdown",
   "metadata": {},
   "source": [
    "#### 2.3) You were discussing work life balance with some friends and some were wondering if longer hours of working imply higher income levels. How can you use this data set to investigate the relationship between working longer hours and higher income levels?  Plot a figure to help illustrate your analysis and explain what relationship you can see.\n",
    "<span style= 'float: right;'><b>[10 marks]</b></span>"
   ]
  },
  {
   "cell_type": "code",
   "execution_count": 15,
   "metadata": {},
   "outputs": [
    {
     "data": {
      "image/png": "[encoded data removed]",
      "text/plain": [
       "<Figure size 864x720 with 1 Axes>"
      ]
     },
     "metadata": {
      "needs_background": "light"
     },
     "output_type": "display_data"
    }
   ],
   "source": [
    "### YOUR CODE HERE###|\n",
    "# for each divide all working hours into 100 different categories and record the average rate of having >50k income\n",
    "min_hr = min(data['hours-per-week'])-0.1\n",
    "max_hr = max(data['hours-per-week'])\n",
    "bins = np.linspace(min_hr,max_hr,100)\n",
    "d = {}\n",
    "\n",
    "for i in range(len(bins)-1):\n",
    "    sub_data = data['class'][(data['hours-per-week'] > bins[i]) & (data['hours-per-week'] <= bins[i+1])]\n",
    "    sub_data = sub_data.value_counts()/len(sub_data)\n",
    "    try:\n",
    "        d[bins[i]] = sub_data.loc['>50K']\n",
    "    except:\n",
    "        d[bins[i]] = 0\n",
    "        \n",
    "fig = plt.figure(figsize=(12,10))\n",
    "ax = fig.add_subplot(111)\n",
    "ax.scatter(d.keys(),d.values())\n",
    "ax.set_xlabel('# of working hours per week', fontsize=14)\n",
    "ax.set_ylabel('% of having >50k annual income', fontsize=14)\n",
    "ax.set_title('Working Hours VS Annual Income Level')\n",
    "plt.show()\n"
   ]
  },
  {
   "cell_type": "raw",
   "metadata": {},
   "source": [
    "WRITTEN ANSWER HERE\n",
    "1. Generally working longer hours tend to indicate earning >50k per year, ie indicate higher income levels. \n",
    "2. Strong linear relationship between around 30 hrs to 50 hrs."
   ]
  },
  {
   "cell_type": "markdown",
   "metadata": {},
   "source": [
    "#### 2.4) Are the working hours between females and males statistically different? You need to state clearly your null hypothesis, alternative hypothesis, and the conclusion and also justify the test you used. \n",
    "<span style= 'float: right;'><b>[10 marks]</b></span>"
   ]
  },
  {
   "cell_type": "raw",
   "metadata": {},
   "source": [
    "H0: the workings hours of male and female are the same\n",
    "HA: the workings hours of male and female are not the same"
   ]
  },
  {
   "cell_type": "code",
   "execution_count": 16,
   "metadata": {},
   "outputs": [
    {
     "name": "stdout",
     "output_type": "stream",
     "text": [
      "p value is 0.0, therefore we reject the null hypothesis and conclude the working hours between females and males are statistically different\n"
     ]
    }
   ],
   "source": [
    "### YOUR CODE HERE ###\n",
    "hrs_male = data['hours-per-week'][data['sex']=='Male']\n",
    "hrs_female = data['hours-per-week'][data['sex']=='Female']\n",
    "\n",
    "t, p = stats.ttest_ind(hrs_male, hrs_female)\n",
    "\n",
    "if p < 0.05:\n",
    "    print(f'p value is {p}, therefore we reject the null hypothesis and conclude the working hours between females and males are statistically different')\n",
    "else:\n",
    "    print(f'p value is {p}, therefore we fail to reject the null hypothesis and conclude the working hours between females and males are not statistically different')\n",
    "   "
   ]
  },
  {
   "cell_type": "markdown",
   "metadata": {
    "tags": []
   },
   "source": [
    "____\n",
    "## Question 3: Classification _[30 Marks]_\n",
    "\n",
    "In this section, we will keep using the income dataset in Question 2. **Take note of the column `class` being annual income, the prediction task is to determine whether a person makes over 50K a year or not.**"
   ]
  },
  {
   "cell_type": "markdown",
   "metadata": {},
   "source": [
    "#### 3.0) Further Exploration\n",
    "#### 3.0.0) Are there any missing values in the dataset? (*hint: consider only null values. i.e. \"?\" is not a missing value*)\n",
    "- Report the number of missing values for each of the attributes. If there are missing values, justify how you handled them.\n",
    "<span style= 'float: right;'><b>[2 marks]</b></span>\n"
   ]
  },
  {
   "cell_type": "code",
   "execution_count": 70,
   "metadata": {},
   "outputs": [
    {
     "data": {
      "text/plain": [
       "occupation        False\n",
       "race              False\n",
       "sex               False\n",
       "age               False\n",
       "education         False\n",
       "education-num     False\n",
       "hours-per-week    False\n",
       "class             False\n",
       "dtype: bool"
      ]
     },
     "execution_count": 70,
     "metadata": {},
     "output_type": "execute_result"
    }
   ],
   "source": [
    "### YOUR CODE HERE ###\n",
    "df.isna().any()"
   ]
  },
  {
   "cell_type": "markdown",
   "metadata": {},
   "source": [
    "#### 3.0.1) What is the distribution of the target variable?\n",
    "- Report the number of values in each class.\n",
    "- Report the ratio of each class in the target variable.\n",
    "\n",
    "<span style= 'float: right;'><b>[4 marks]</b></span>"
   ]
  },
  {
   "cell_type": "code",
   "execution_count": 17,
   "metadata": {},
   "outputs": [
    {
     "data": {
      "text/plain": [
       "<=50K    24720\n",
       ">50K      7841\n",
       "Name: class, dtype: int64"
      ]
     },
     "execution_count": 17,
     "metadata": {},
     "output_type": "execute_result"
    }
   ],
   "source": [
    "### YOUR CODE HERE for number of values in each class\n",
    "df['class'].value_counts()"
   ]
  },
  {
   "cell_type": "code",
   "execution_count": 18,
   "metadata": {},
   "outputs": [
    {
     "data": {
      "text/plain": [
       "<=50K    0.75919\n",
       ">50K     0.24081\n",
       "Name: class, dtype: float64"
      ]
     },
     "execution_count": 18,
     "metadata": {},
     "output_type": "execute_result"
    }
   ],
   "source": [
    "### YOUR CODE HERE for ratio of each class in the target variable\n",
    "data['class'].value_counts()/len(data['class'])"
   ]
  },
  {
   "cell_type": "markdown",
   "metadata": {},
   "source": [
    "#### 3.1) Preprocessing and splitting the dataset\n",
    "\n",
    "You need to \n",
    "1) preprocess the dataset (*Hint*: try to encode **Categorical Variables** to appropriate forms and **drop** unwanted variables) and justify each transformation/modification you performed. \n",
    "\n",
    "2) split the dataset to train and test sets. You may choose whatever test/train split you wish but be sure to explicitly state what you have chosen. **Note: make sure you dropped the first level when using one-hot encoding.**\n",
    "<span style= 'float: right;'><b>[4 marks]</b></span>"
   ]
  },
  {
   "cell_type": "code",
   "execution_count": 19,
   "metadata": {},
   "outputs": [],
   "source": [
    "### YOUR CODE HERE ###\n",
    "data_X = data[['occupation', 'race', 'sex','age', 'education-num', 'hours-per-week']] # we don't need education and education-num already includes all information.\n",
    "data_y = data['class']\n",
    "\n",
    "#transform target variable\n",
    "le = LabelEncoder()\n",
    "data_y = le.fit_transform(data_y)\n",
    "\n",
    "#process X\n",
    "cate_variable_names = ['occupation', 'race', 'sex'] # categorical variable\n",
    "continous_variable_names = ['age', 'education-num', 'hours-per-week']\n",
    "data_X_processed = pd.concat((data_X[continous_variable_names],pd.get_dummies(data_X[cate_variable_names], drop_first=True)),1) \n",
    "\n",
    "#split dataset\n",
    "data_train_X, data_test_X, data_train_y, data_test_y = train_test_split(data_X_processed, data_y, test_size = 0.2)"
   ]
  },
  {
   "cell_type": "raw",
   "metadata": {},
   "source": [
    "WRITTEN ANSWER HERE\n",
    "nominal variables are encoded using one-hot vectors.\n",
    "education was dropped because we have education-num in the dataset. \n",
    "target variable was recoded using labelEncoder() as it is a binary classification problem, we only have two classes."
   ]
  },
  {
   "cell_type": "markdown",
   "metadata": {},
   "source": [
    "#### 3.2) Fit the Logistic Regression Model\n",
    "\n",
    "Now you need to **fit the data using a logistic regression model**. When creating the model instance, make sure the model has an intercept and use `max_iter=2000` to allow more iterations for the model to converge. After creating the model, **get the coefficients assigned to each feature of the training data**. You'll need to match the order of the coefficients to the order of the predictors when you fit the model.\n",
    "<span style= 'float: right;'><b>[8 marks]</b></span>"
   ]
  },
  {
   "cell_type": "code",
   "execution_count": 20,
   "metadata": {},
   "outputs": [
    {
     "name": "stdout",
     "output_type": "stream",
     "text": [
      "Intercept is -9\n",
      "Coefficient for age is 0.04448573671582837\n",
      "Coefficient for education-num is 0.2683137856642176\n",
      "Coefficient for hours-per-week is 0.03155312034904751\n",
      "Coefficient for occupation_Adm-clerical is 0.6841711773486004\n",
      "Coefficient for occupation_Armed-Forces is -0.0425852702870331\n",
      "Coefficient for occupation_Craft-repair is 0.7876384219436326\n",
      "Coefficient for occupation_Exec-managerial is 1.5123094748971646\n",
      "Coefficient for occupation_Farming-fishing is -0.40803548969071407\n",
      "Coefficient for occupation_Handlers-cleaners is -0.10634493649760038\n",
      "Coefficient for occupation_Machine-op-inspct is 0.48050562919335105\n",
      "Coefficient for occupation_Other-service is -0.407251157780637\n",
      "Coefficient for occupation_Priv-house-serv is -1.1223765377754784\n",
      "Coefficient for occupation_Prof-specialty is 1.1745047092542351\n",
      "Coefficient for occupation_Protective-serv is 1.1521442627786673\n",
      "Coefficient for occupation_Sales is 0.9303318781361849\n",
      "Coefficient for occupation_Tech-support is 1.2111046501571654\n",
      "Coefficient for occupation_Transport-moving is 0.5668218637143055\n",
      "Coefficient for race_Asian-Pac-Islander is 0.40711674894504846\n",
      "Coefficient for race_Black is 0.13298138153125522\n",
      "Coefficient for race_Other is -0.31725643557725614\n",
      "Coefficient for race_White is 0.5036153124232704\n",
      "Coefficient for sex_Male is 1.126609022368061\n"
     ]
    }
   ],
   "source": [
    "### YOUR CODE HERE ###\n",
    "lr = LogisticRegression(max_iter=2000)\n",
    "lr_model = lr.fit(data_train_X, data_train_y)\n",
    "\n",
    "# output the results\n",
    "categories = data_train_X.columns\n",
    "print(\"Intercept is\", int(lr_model.intercept_))\n",
    "for i, coef in enumerate(lr_model.coef_.T):\n",
    "    print(\"Coefficient for\", categories[i], \"is\", coef[0])\n"
   ]
  },
  {
   "cell_type": "markdown",
   "metadata": {},
   "source": [
    "#### 3.3 Result Analysis\n",
    "\n",
    "#### 3.3.0. **Report the mean accuracy on the training and the testing dataset.**\n",
    "<span style= 'float: right;'><b>[2 marks]</b></span>"
   ]
  },
  {
   "cell_type": "code",
   "execution_count": 21,
   "metadata": {},
   "outputs": [
    {
     "name": "stdout",
     "output_type": "stream",
     "text": [
      "Train Score: 0.8090; Test Score: 0.8122\n"
     ]
    }
   ],
   "source": [
    "### YOUR CODE HERE ###\n",
    "train_score = lr_model.score(data_train_X, data_train_y)\n",
    "test_score = lr_model.score(data_test_X, data_test_y)\n",
    "print(f\"Train Score: {train_score:.4f}; Test Score: {test_score:.4f}\")"
   ]
  },
  {
   "cell_type": "markdown",
   "metadata": {},
   "source": [
    "#### 3.3.1. **Based on the coefficients you found in 3.2, analyse the effect of `age`,  `education-num`, and `hours-per-week`** (e.g. positive or negative) on income level `>50K` and `<=50K`.\n",
    "<span style= 'float: right;'><b>[3 marks]</b></span>"
   ]
  },
  {
   "cell_type": "raw",
   "metadata": {},
   "source": [
    "WRITTEN ANSWER HERE\n",
    "The coefficient for age is 0.045, suggesting older people has a higher chance to have income >50k.\n",
    "The coefficient for education-num is 0.2681, which is also a postive number, suggesting higher the education level leads to higher probablity of having income >50k.\n",
    "The coefficient for hours-per-week is 0.032, suggesting that the longer the working hours, the higher the chance of having an income >50k.\n",
    "All of these values make intuitive sense given the following:\n",
    "(1)longer working hours normally result in higher income; \n",
    "(2) Older people are normally more experienced, and \n",
    "(3) people with better education background normally earn more.\n",
    "\n",
    "One thing to note is that age and hour-per-week have larger ranges than education-num, smaller coefficient values don't necessarily mean age and hours-per-week are less important than education-num.\n",
    "\n",
    "Age and hour-per-week can take values over a larger range than education-num.  Hence this could explain why their regression coefficients are smaller than the one for education-num.  I.e. The change in income-level changes at a slower rate with age and hours worked per week (with the rate being slowest for hours worked per week), than with education level.  This does not necessarily mean that age and hours-per-week are less important than education-num.\n"
   ]
  },
  {
   "cell_type": "markdown",
   "metadata": {},
   "source": [
    "#### 3.3.2. **Is the Logistic Regression model you implemented overfitting or underfitting? Why?**\n",
    "<span style= 'float: right;'><b>2 marks]</b></span>"
   ]
  },
  {
   "cell_type": "raw",
   "metadata": {},
   "source": [
    "WRITTEN ANSWER HERE\n",
    "Not overfitting as the training and testing scores are similar. 80% accuracy is generally considered decent, while testing if the model is underfitting requires increasing the complexity of the model."
   ]
  },
  {
   "cell_type": "markdown",
   "metadata": {},
   "source": [
    "#### 3.3.3. **Based on the confusion matrix, calculate the *recall*, *precision*, *accuracy* and *f1 score* of the model on the test set. Based on the results, interpret the stengths and weaknesses of the model on the dataset**.\n",
    "<span style= 'float: right;'><b>[5 marks]</b></span>"
   ]
  },
  {
   "cell_type": "code",
   "execution_count": 22,
   "metadata": {},
   "outputs": [
    {
     "name": "stdout",
     "output_type": "stream",
     "text": [
      "Recall:    0.43324775353016687 \n",
      "Precision: 0.6650246305418719 \n",
      "Accuracy:  0.8122217104253032 \n",
      "F1 Score:  0.5246793626117373\n"
     ]
    }
   ],
   "source": [
    "### YOUR CODE HERE ###\n",
    "tn, fp, fn, tp = confusion_matrix(data_test_y, lr_model.predict(data_test_X)).ravel()\n",
    "\n",
    "recall = tp/(tp+fn)\n",
    "prec = tp/(tp+fp)\n",
    "acc = (tp+tn)/(tp+fp+fn+tn)\n",
    "f1 = (2*recall*prec)/(recall+prec)\n",
    "print(\"Recall:   \", recall,\n",
    "    \"\\nPrecision:\", prec,\n",
    "    \"\\nAccuracy: \", acc,\n",
    "    \"\\nF1 Score: \", f1)"
   ]
  },
  {
   "cell_type": "raw",
   "metadata": {},
   "source": [
    "The model has an overall decent accuracy of 81% but the recall is only 43%. This suggest the model is not performing well on identifying the positive samples, which are those with >50k income. This is very likely because of the unbalanced dataset. Oversampling, undersampling, or SMOTE can be used to help mitgate the issue of low recall here."
   ]
  },
  {
   "cell_type": "markdown",
   "metadata": {},
   "source": [
    "____\n",
    "## Question 4: Linear Regression _[30 Marks]_\n",
    "In this question, we are looking at a dataset `supercon.csv` of material and a number of their properties (six properties).  The dataset contains entries for almost 16,000 materials, with the first six columns containing properties relating to atomic mass, electric and magnetic parameters of each material, and the last column containing the critical temperatures $T_{c}$, which are temperatures at which the particular material transitions into a superconducting state (in which a direct electric current can flow through the material without resistivity). The six parameters are only a fraction of a larger parameter set which *may* affect the value of $T_{c}$. \n",
    "\n",
    "We are not concerned here with the larger parameter set but will focus on the six parameters given in the dataset.  We will just mention that normally microscopic theory is used to determine the transition   to a superconducting state ((i.e. the critical temperature $T_{c}$)) using complex calculations involving the different parameters.  \n",
    "The below table is a description of the dataset:\n",
    "\n",
    "| Field |  Description |\n",
    "| ---:| :--- |\n",
    "| `MeanAtomicMass` | Mean atomic mass |\n",
    "| `MeanAtomicValN`| Mean atomic valence number |\n",
    "| `MeanAtomicMagnM`| Mean atomic magnetic moment |\n",
    "| `MeanAtomicElNeg`| Mean atomic electronegativity |\n",
    "| `MaxDiffAtomicMass`| Maximum difference of atomic mass |\n",
    "| `MaxDiffAtomicElNeg`| Maximum difference of atomic electronegativity |\n",
    "| `T_c(K)` | Critical Temperature (in Kelvin) |\n",
    "\n",
    "We aim to use a simple machine learning approach, involving linear regression, and determine which of the six given material parameters _may_ affect the critical temperature $T_{c}$, and therefore may be included in one of the microscopic models studied by physicists.\n",
    "\n",
    "**NOTE:** Marks will be awarded for the steps taken in the development of the model as well as the accuracy of your final model."
   ]
  },
  {
   "cell_type": "markdown",
   "metadata": {
    "tags": []
   },
   "source": [
    "#### 4.0) Your **first task** is to import the data from the `supercon.csv` file (located in the `data` subdirectory), and prepare it for the subsequent analysis. \n",
    "\n",
    "<span style= 'float: right;'><b>[2 marks]</b></span>\n",
    "\n"
   ]
  },
  {
   "cell_type": "code",
   "execution_count": 33,
   "metadata": {},
   "outputs": [
    {
     "name": "stdout",
     "output_type": "stream",
     "text": [
      "15819\n"
     ]
    },
    {
     "data": {
      "text/html": [
       "<div>\n",
       "<style scoped>\n",
       "    .dataframe tbody tr th:only-of-type {\n",
       "        vertical-align: middle;\n",
       "    }\n",
       "\n",
       "    .dataframe tbody tr th {\n",
       "        vertical-align: top;\n",
       "    }\n",
       "\n",
       "    .dataframe thead th {\n",
       "        text-align: right;\n",
       "    }\n",
       "</style>\n",
       "<table border=\"1\" class=\"dataframe\">\n",
       "  <thead>\n",
       "    <tr style=\"text-align: right;\">\n",
       "      <th></th>\n",
       "      <th>MeanAtomicMass</th>\n",
       "      <th>MeanAtomicValN</th>\n",
       "      <th>MeanAtomicMagnMom</th>\n",
       "      <th>MeanAtomicElNeg</th>\n",
       "      <th>MaxDiffAtomicMass</th>\n",
       "      <th>MaxDiffAtomicElNeg</th>\n",
       "      <th>T_c(K)</th>\n",
       "    </tr>\n",
       "  </thead>\n",
       "  <tbody>\n",
       "    <tr>\n",
       "      <th>0</th>\n",
       "      <td>51.67</td>\n",
       "      <td>4.04</td>\n",
       "      <td>1.44</td>\n",
       "      <td>2.51</td>\n",
       "      <td>124.91</td>\n",
       "      <td>2.55</td>\n",
       "      <td>44.00</td>\n",
       "    </tr>\n",
       "    <tr>\n",
       "      <th>1</th>\n",
       "      <td>114.04</td>\n",
       "      <td>6.63</td>\n",
       "      <td>3.00</td>\n",
       "      <td>1.84</td>\n",
       "      <td>39.05</td>\n",
       "      <td>1.10</td>\n",
       "      <td>6.14</td>\n",
       "    </tr>\n",
       "    <tr>\n",
       "      <th>2</th>\n",
       "      <td>141.22</td>\n",
       "      <td>3.94</td>\n",
       "      <td>1.94</td>\n",
       "      <td>1.78</td>\n",
       "      <td>113.33</td>\n",
       "      <td>0.86</td>\n",
       "      <td>3.94</td>\n",
       "    </tr>\n",
       "    <tr>\n",
       "      <th>3</th>\n",
       "      <td>173.90</td>\n",
       "      <td>5.00</td>\n",
       "      <td>3.16</td>\n",
       "      <td>1.51</td>\n",
       "      <td>88.04</td>\n",
       "      <td>0.10</td>\n",
       "      <td>4.54</td>\n",
       "    </tr>\n",
       "    <tr>\n",
       "      <th>4</th>\n",
       "      <td>81.50</td>\n",
       "      <td>2.31</td>\n",
       "      <td>0.84</td>\n",
       "      <td>1.73</td>\n",
       "      <td>121.33</td>\n",
       "      <td>2.55</td>\n",
       "      <td>56.00</td>\n",
       "    </tr>\n",
       "  </tbody>\n",
       "</table>\n",
       "</div>"
      ],
      "text/plain": [
       "   MeanAtomicMass  MeanAtomicValN  MeanAtomicMagnMom  MeanAtomicElNeg  \\\n",
       "0           51.67            4.04               1.44             2.51   \n",
       "1          114.04            6.63               3.00             1.84   \n",
       "2          141.22            3.94               1.94             1.78   \n",
       "3          173.90            5.00               3.16             1.51   \n",
       "4           81.50            2.31               0.84             1.73   \n",
       "\n",
       "   MaxDiffAtomicMass  MaxDiffAtomicElNeg  T_c(K)  \n",
       "0             124.91                2.55   44.00  \n",
       "1              39.05                1.10    6.14  \n",
       "2             113.33                0.86    3.94  \n",
       "3              88.04                0.10    4.54  \n",
       "4             121.33                2.55   56.00  "
      ]
     },
     "execution_count": 33,
     "metadata": {},
     "output_type": "execute_result"
    }
   ],
   "source": [
    "### YOUR CODE HERE ###\n",
    "import timeit\n",
    "import numpy as np\n",
    "import pandas as pd\n",
    "import matplotlib.pyplot as plt\n",
    "import seaborn as sns\n",
    "plt.style.use('seaborn')\n",
    "\n",
    "%matplotlib inline\n",
    "\n",
    "from sklearn.model_selection import train_test_split\n",
    "from sklearn.metrics import accuracy_score\n",
    "from sklearn.preprocessing import StandardScaler, Normalizer\n",
    "from sklearn.linear_model import LinearRegression\n",
    "\n",
    "data = pd.read_csv('./data/supercon.csv')\n",
    "column_names = data.columns\n",
    "print(len(data))\n",
    "data.head()"
   ]
  },
  {
   "cell_type": "code",
   "execution_count": 34,
   "metadata": {},
   "outputs": [
    {
     "data": {
      "text/html": [
       "<div>\n",
       "<style scoped>\n",
       "    .dataframe tbody tr th:only-of-type {\n",
       "        vertical-align: middle;\n",
       "    }\n",
       "\n",
       "    .dataframe tbody tr th {\n",
       "        vertical-align: top;\n",
       "    }\n",
       "\n",
       "    .dataframe thead th {\n",
       "        text-align: right;\n",
       "    }\n",
       "</style>\n",
       "<table border=\"1\" class=\"dataframe\">\n",
       "  <thead>\n",
       "    <tr style=\"text-align: right;\">\n",
       "      <th></th>\n",
       "      <th>MeanAtomicMass</th>\n",
       "      <th>MeanAtomicValN</th>\n",
       "      <th>MeanAtomicMagnMom</th>\n",
       "      <th>MeanAtomicElNeg</th>\n",
       "      <th>MaxDiffAtomicMass</th>\n",
       "      <th>MaxDiffAtomicElNeg</th>\n",
       "      <th>T_c(K)</th>\n",
       "    </tr>\n",
       "  </thead>\n",
       "  <tbody>\n",
       "    <tr>\n",
       "      <th>0</th>\n",
       "      <td>-0.671210</td>\n",
       "      <td>-0.459389</td>\n",
       "      <td>-0.556716</td>\n",
       "      <td>0.947328</td>\n",
       "      <td>0.106894</td>\n",
       "      <td>0.802030</td>\n",
       "      <td>44.00</td>\n",
       "    </tr>\n",
       "    <tr>\n",
       "      <th>1</th>\n",
       "      <td>1.047982</td>\n",
       "      <td>1.598902</td>\n",
       "      <td>1.086746</td>\n",
       "      <td>-0.775492</td>\n",
       "      <td>-1.466734</td>\n",
       "      <td>-0.701048</td>\n",
       "      <td>6.14</td>\n",
       "    </tr>\n",
       "    <tr>\n",
       "      <th>2</th>\n",
       "      <td>1.797183</td>\n",
       "      <td>-0.538859</td>\n",
       "      <td>-0.029965</td>\n",
       "      <td>-0.929774</td>\n",
       "      <td>-0.105342</td>\n",
       "      <td>-0.949834</td>\n",
       "      <td>3.94</td>\n",
       "    </tr>\n",
       "    <tr>\n",
       "      <th>3</th>\n",
       "      <td>2.697989</td>\n",
       "      <td>0.303530</td>\n",
       "      <td>1.255306</td>\n",
       "      <td>-1.624045</td>\n",
       "      <td>-0.568853</td>\n",
       "      <td>-1.737654</td>\n",
       "      <td>4.54</td>\n",
       "    </tr>\n",
       "    <tr>\n",
       "      <th>4</th>\n",
       "      <td>0.151036</td>\n",
       "      <td>-1.834231</td>\n",
       "      <td>-1.188817</td>\n",
       "      <td>-1.058343</td>\n",
       "      <td>0.041280</td>\n",
       "      <td>0.802030</td>\n",
       "      <td>56.00</td>\n",
       "    </tr>\n",
       "  </tbody>\n",
       "</table>\n",
       "</div>"
      ],
      "text/plain": [
       "   MeanAtomicMass  MeanAtomicValN  MeanAtomicMagnMom  MeanAtomicElNeg  \\\n",
       "0       -0.671210       -0.459389          -0.556716         0.947328   \n",
       "1        1.047982        1.598902           1.086746        -0.775492   \n",
       "2        1.797183       -0.538859          -0.029965        -0.929774   \n",
       "3        2.697989        0.303530           1.255306        -1.624045   \n",
       "4        0.151036       -1.834231          -1.188817        -1.058343   \n",
       "\n",
       "   MaxDiffAtomicMass  MaxDiffAtomicElNeg  T_c(K)  \n",
       "0           0.106894            0.802030   44.00  \n",
       "1          -1.466734           -0.701048    6.14  \n",
       "2          -0.105342           -0.949834    3.94  \n",
       "3          -0.568853           -1.737654    4.54  \n",
       "4           0.041280            0.802030   56.00  "
      ]
     },
     "execution_count": 34,
     "metadata": {},
     "output_type": "execute_result"
    }
   ],
   "source": [
    "# It would also be a good idea to standardise the features (optional)\n",
    "ss = StandardScaler()\n",
    "for col in column_names[:-1]:\n",
    "   ss.fit(np.array(data[col]).reshape(-1,1))\n",
    "   data[col] = ss.transform(np.array(data[col]).reshape(-1,1))\n",
    "   \n",
    "   # or you can do both fit and transform using one line\n",
    "   # data[col] = ss.fit_transform(np.array(data[col]).reshape(-1,1))   \n",
    "   \n",
    "data.head()"
   ]
  },
  {
   "cell_type": "markdown",
   "metadata": {},
   "source": [
    "#### 4.1) Your **next task** is to build a linear regression model which can predict the value of the critical temperature (\"target\") given the material parameters (\"predictors\"). You will have to determine values of _intercept_ $\\beta_{0}$ and six _coefficients_ $\\beta_{i}$ to use for predicting $T_{c}$. \n",
    "\n",
    "$$\n",
    "T_{c} = \\beta_{0} + \\sum_{i=1}^{6}\\beta_{i}\\cdot predictor_{i}\n",
    "$$\n",
    "\n",
    "**Note** You are expected to split the dataset into training and testing tests before training the model. \n",
    "\n",
    "<span style= 'float: right;'><b>[10 marks]</b></span>"
   ]
  },
  {
   "cell_type": "code",
   "execution_count": 35,
   "metadata": {},
   "outputs": [
    {
     "name": "stdout",
     "output_type": "stream",
     "text": [
      "The model intercept: 33.12753662197617\n",
      "The model coefficients: \n",
      "MeanAtomicMass:-0.64529, MeanAtomicValN:-8.62572, MeanAtomicMagnMom:-0.69934, MeanAtomicElNeg:1.41494, MaxDiffAtomicMass:3.40942, MaxDiffAtomicElNeg:16.1578\n"
     ]
    }
   ],
   "source": [
    "train_data, test_data = train_test_split(data, train_size = 0.8, random_state=2) \n",
    "\n",
    "# Training Data\n",
    "train_input  = train_data[data.columns[:-1]]  # get all the columns except the last column \n",
    "train_output = train_data[data.columns[-1]]  # only get the last column \n",
    "\n",
    "# Testing Data\n",
    "test_input  = test_data[data.columns[:-1]]  # get all the columns except the last column \n",
    "test_output = test_data[data.columns[-1]] # only get the last column \n",
    "\n",
    "lr = LinearRegression() \n",
    "\n",
    "model = lr.fit(train_input, train_output) \n",
    "\n",
    "b0 = model.intercept_ \n",
    "print(f'The model intercept: {b0}') \n",
    "\n",
    "bs = model.coef_ # regression slopes \n",
    "print(f'The model coefficients: \\n{\", \".join([name + \":\"+  str(round(c,5)) for name, c in zip(data.columns[:-1], bs)])}')"
   ]
  },
  {
   "cell_type": "markdown",
   "metadata": {},
   "source": [
    "#### 4.2) Discuss the regression model you have built in terms of what the values of the intercept and regression coefficients are indicating.  \n",
    "<span style= 'float: right;'><b>[6 marks]</b></span>"
   ]
  },
  {
   "cell_type": "raw",
   "metadata": {},
   "source": [
    "The model intercept value of 22.6 indicates the mean value for the Critical Temperature (in Kelvin), when the all the feature (input) values are zeros.\n",
    "The co-efficient values indicate the contribution of each feature to the prediction, when the model was trained using all the feature values.\n",
    "\n",
    "The MaxDiffAtomicElNeg seems to have the highest (positive) impact on the Critical Temperature, followed by MeanAtomicElNeg. The MeanAtomicValN seems to be having the highest negative impact in this model which is trained using all the available features. However, because there can be features that are dependent on each other, a change in the value of one feature might cause a change in another feature. Because of this, it can be harder to interpret each coefficient, and to do so would require \"holding all other variables constant\" (which is unrealistic). "
   ]
  },
  {
   "cell_type": "markdown",
   "metadata": {},
   "source": [
    "#### 4.3) Your next task is to evaluate your regression model's performance on both the training and testing data subsets.  Print your model's scores for both the training and testing data.\n",
    "***NOTE***:\n",
    "Don't worry if the scores are appearing to be low as this is a very preliminary analysis using a limited feature set.\n",
    "\n",
    "<span style= 'float: right;'><b>[6 marks]</b></span>"
   ]
  },
  {
   "cell_type": "code",
   "execution_count": 36,
   "metadata": {},
   "outputs": [
    {
     "name": "stdout",
     "output_type": "stream",
     "text": [
      "Evaluating using the training set:\n",
      "The R-squared value: 0.4927821771088525\n",
      "The co-relation co-efficient: 0.7019844564581559\n",
      "\n",
      "Evaluating using the testing set:\n",
      "The R-squared value: 0.48779259737447356\n",
      "The co-relation co-efficient: 0.6984215040893812\n"
     ]
    },
    {
     "data": {
      "text/plain": [
       "<bound method RegressorMixin.score of LinearRegression()>"
      ]
     },
     "execution_count": 36,
     "metadata": {},
     "output_type": "execute_result"
    }
   ],
   "source": [
    "### YOUR CODE HERE ###\n",
    "print(\"Evaluating using the training set:\")\n",
    "print(\"The R-squared value:\", model.score(train_input, train_output))  #get the R-squared value\n",
    "print(\"The co-relation co-efficient:\", np.sqrt(model.score(train_input, train_output))) # the corelation coefficient\n",
    "print()\n",
    "print(\"Evaluating using the testing set:\")\n",
    "print(\"The R-squared value:\", model.score(test_input, test_output)) # #get the R-squared value\n",
    "print(\"The co-relation co-efficient:\", np.sqrt(model.score(test_input, test_output))) # the corelation coefficient\n",
    "model.score"
   ]
  },
  {
   "cell_type": "markdown",
   "metadata": {},
   "source": [
    "#### 4.4) What is the metric(s) you used to evaluate your model's performance in question 4.3? Interpret and discuss the scores you obtained for the training and test sets.\n",
    "\n",
    "<span style= 'float: right;'><b>[6 marks]</b></span>"
   ]
  },
  {
   "cell_type": "raw",
   "metadata": {},
   "source": [
    "WRITTEN ANSWER HERE\n",
    "In Linear Regression, the model score returns the coefficient of determination of the prediction (R-squared value)\n",
    "At the moment, we are seeing similar scores for the training and testing scores (although not great) so it is not indicating an over-fitting problem."
   ]
  },
  {
   "cell_type": "markdown",
   "metadata": {},
   "source": [
    "#### 4.5) **(for COMP6420 students only)** You now want to investigate how critical temperature `T_c(K)` is affected by `MeanAtomicElNeg` in your dataset on its own.  Your task is therefore to generate a figure containing a scatter plot for the `T_c(K)` vs `MeanAtomicElNeg`, and also plot the line given by the regression model between `T_c(K)` and `MeanAtomicElNeg`.\n",
    " (*hint: like we did in Lab 4*).\n",
    "\n",
    "<span style= 'float: right;'><b>[8 marks]</b></span>"
   ]
  },
  {
   "cell_type": "code",
   "execution_count": 37,
   "metadata": {},
   "outputs": [
    {
     "name": "stdout",
     "output_type": "stream",
     "text": [
      "The model intercept: 33.05038589587815\n",
      "The model coefficient: 11.984989828169676\n"
     ]
    },
    {
     "data": {
      "image/png": "[encoded data removed]",
      "text/plain": [
       "<Figure size 432x288 with 1 Axes>"
      ]
     },
     "metadata": {
      "needs_background": "light"
     },
     "output_type": "display_data"
    }
   ],
   "source": [
    "### YOUR CODE HERE ###\n",
    "\n",
    "# Training another Linear Regression model to predict the T_c(K) using the one feature (MeanAtomicElNeg)\n",
    "# Training Data\n",
    "train_input2  = np.array(train_data['MeanAtomicElNeg']).reshape(-1, 1)  # get only the relevant column\n",
    "train_output2 = train_data['T_c(K)'] # only get the target column\n",
    "\n",
    "# Testing Data\n",
    "test_input2  = np.array(test_data['MeanAtomicElNeg']).reshape(-1, 1)  # get only the relevant column\n",
    "test_output2 = test_data['T_c(K)'] # only get the target column\n",
    "\n",
    "lr2 = LinearRegression() # new model\n",
    "\n",
    "model2 = lr2.fit(train_input2, train_output2)\n",
    "\n",
    "b0 = model2.intercept_\n",
    "print(f'The model intercept: {b0}')\n",
    "\n",
    "bs = model2.coef_[0] # regression slope\n",
    "print(f'The model coefficient: {bs}')\n",
    "\n",
    "plt.scatter(data.MeanAtomicElNeg, data['T_c(K)'], alpha=0.5, s=0.15)\n",
    "x_range = [train_input2.min(), train_input2.max()]\n",
    "y_range = [b0+bs*x_range[0], b0+bs*x_range[1]]\n",
    "plt.plot(x_range, y_range, 'r') # plotting the regression line\n",
    "plt.xlabel('MeanAtomicElNeg')\n",
    "plt.ylabel('$T_c(K)$');"
   ]
  },
  {
   "cell_type": "markdown",
   "metadata": {},
   "source": [
    "#### 4.6) **(for COMP6420 students only)** Based on the plot in question 4.5, reflect on whether the linear regression model you implemented in question 4.5 is suitable or not. Justify your answer.\n",
    "\n",
    "<span style= 'float: right;'><b>[4 marks]</b></span>"
   ]
  },
  {
   "cell_type": "code",
   "execution_count": 38,
   "metadata": {},
   "outputs": [
    {
     "name": "stdout",
     "output_type": "stream",
     "text": [
      "Evaluating using the training set:\n",
      "The R-squared value: 0.12343529387129748\n",
      "The co-relation co-efficient: 0.35133359342837894\n",
      "\n",
      "Evaluating using the testing set:\n",
      "The R-squared value: 0.12619478024354136\n",
      "The co-relation co-efficient: 0.35523904662007716\n"
     ]
    }
   ],
   "source": [
    "# The performance of the second model training using only one feature\n",
    "print(\"Evaluating using the training set:\")\n",
    "print(\"The R-squared value:\", model2.score(train_input2, train_output2))  #get the R-squared value\n",
    "print(\"The co-relation co-efficient:\", np.sqrt(model2.score(train_input2, train_output2))) # the corelation coefficient\n",
    "print()\n",
    "print(\"Evaluating using the testing set:\")\n",
    "print(\"The R-squared value:\", model2.score(test_input2, test_output2)) # get the R-squared value\n",
    "print(\"The co-relation co-efficient:\", np.sqrt(model2.score(test_input2, test_output2))) # the corelation coefficient"
   ]
  },
  {
   "cell_type": "raw",
   "metadata": {},
   "source": [
    "\n",
    "The scores are much worse than the model which used all the features.\n",
    "The plot above clearly shows that the relationship between the feature and the target is not best captured in using a linear model."
   ]
  },
  {
   "cell_type": "code",
   "execution_count": null,
   "metadata": {},
   "outputs": [],
   "source": []
  }
 ],
 "metadata": {
  "kernelspec": {
   "display_name": "Python 3 (ipykernel)",
   "language": "python",
   "name": "python3"
  },
  "language_info": {
   "codemirror_mode": {
    "name": "ipython",
    "version": 3
   },
   "file_extension": ".py",
   "mimetype": "text/x-python",
   "name": "python",
   "nbconvert_exporter": "python",
   "pygments_lexer": "ipython3",
   "version": "3.7.11"
  },
  "metadata": {
   "interpreter": {
    "hash": "31f2aee4e71d21fbe5cf8b01ff0e069b9275f58929596ceb00d14d90e3e16cd6"
   }
  }
 },
 "nbformat": 4,
 "nbformat_minor": 4
}
