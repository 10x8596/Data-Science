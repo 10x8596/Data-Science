{
 "cells": [
  {
   "cell_type": "markdown",
   "metadata": {},
   "source": [
    "<h1 align='center'> COMP2420/COMP6420 - Introduction to Data Management, <br/>Analysis and Security</h1>\n",
    "\n",
    "<h1 align='center'>Final Exam - Semester 1, 2022</h1>\n",
    "\n",
    "\n",
    "*****\n"
   ]
  },
  {
   "cell_type": "markdown",
   "metadata": {},
   "source": [
    "### Please insert your name and student number in this cell, run the cell (which should be in markdown mode).\n",
    "### Next: Save, add, commit and PUSH asap. \n",
    "### Then: Check through a browser that you can see the edits made to this cell\n",
    "\n",
    "Name:\n",
    "\n",
    "Student ID: "
   ]
  },
  {
   "cell_type": "markdown",
   "metadata": {},
   "source": [
    "## Instructions\n",
    "\n",
    "|**Maximum Marks**         |**100 for COMP2420 and 125 for COMP6420 students**\n",
    "|--------------------------|--------\n",
    "|  **Weightage**           |  **50%** of the Total Course Grade\n",
    "|  **Duration**            |  **15 min** Reading + **180 min** Typing\n",
    "|  **Permitted Material**  |  **Open Book**\n",
    "\n",
    "### General Instructions\n",
    "* Before the exam starts, insert your name and student ID in the cell above.  Save the notebook, add, commit and Push your repo immediately to test that this process works and also to minimise issues with Pushing at the end of the exam.\n",
    "* Check through a browser that your test COMMIT and PUSH worked by checking that your name and student ID appear in the cell in the browser (the cell should be in markdown mode so that you can see it in the browser).\n",
    "* Remember to start recording your self-invigilation video and to show your student ID (or licence/passport) in the video at the beginning.\n",
    "* Save, Commit and PUSH your changes frequently, so that you do not lose your work. It is recommended that you do this after attempting each question at least.\n",
    "* Your final PUSH needs to be *before* the deadline and includes your exam notebook AND your Statement of Originality to be valid.\n",
    "* Do **not** change the names of the directories or the name of any of the files.\n",
    "\n",
    "### Code Instructions\n",
    "* You can import any additional Python modules you may need for your analysis in the first code block. **DO NOT** install any modules other than those present in the Anaconda distribution. \n",
    "* For all coding questions please write your code after the comment `YOUR CODE HERE`.\n",
    "* In the process of testing your code, you can insert more cells or use print statements for debugging, but when submitting your file remember to remove these cells and calls respectively.\n",
    "* You will be marked on **correctness** and **readability** of your code, if your marker can't understand your code your marks may be deducted. \n",
    "\n",
    "### Written Answer Questions\n",
    "* You will be marked on the **correctness**, **depth** and **clarity** of your written answers. If your marker cannot understand your answer, marks may be deducted.\n",
    "* Reference your sources where appropriate to avoid plagiarism.\n",
    "* Avoid long-winded answers and give precise answers. Answers should be clear and legible."
   ]
  },
  {
   "cell_type": "code",
   "execution_count": 58,
   "metadata": {},
   "outputs": [],
   "source": [
    "# Important Imports for the question/s\n",
    "import pandas as pd\n",
    "import numpy as np\n",
    "import seaborn as sns\n",
    "import matplotlib.pyplot as plt\n",
    "from sklearn.model_selection import train_test_split\n",
    "from sklearn.tree import DecisionTreeClassifier, plot_tree\n",
    "from sklearn.cluster import KMeans\n",
    "from sklearn.decomposition import PCA\n",
    "from sklearn.metrics import confusion_matrix, plot_confusion_matrix\n",
    "from sklearn.preprocessing import LabelEncoder\n",
    "from scipy import stats\n",
    "import sqlite3\n",
    "from sqlite3 import Error\n",
    "plt.style.use('seaborn-notebook')\n",
    "## inline figures\n",
    "%matplotlib inline\n",
    "\n",
    "# Getting rid of warnings\n",
    "import warnings\n",
    "warnings.filterwarnings(\"ignore\")"
   ]
  },
  {
   "cell_type": "code",
   "execution_count": 177,
   "metadata": {},
   "outputs": [],
   "source": [
    "# Add imports as necessary. \n",
    "# You are only allowed to use what is in the standard Anaconda installation\n",
    "from sklearn.preprocessing import StandardScaler          # Scaling variables\n",
    "from sklearn.metrics import classification_report\n",
    "from sklearn import tree\n"
   ]
  },
  {
   "cell_type": "markdown",
   "metadata": {},
   "source": [
    "## Question 1: Security \n",
    "## _[20 marks for COMP2420, 25 marks for COMP6420]_ (LO7,LO8)\n",
    "The following questions will cover the topic of Security covered in the lectures and labs. Please provide your written answers in the raw text boxes provided. _Any_ external information you use **must be referenced**. Provide references in the raw textbox and statement of originality."
   ]
  },
  {
   "cell_type": "markdown",
   "metadata": {},
   "source": [
    "### Q1.1: Information Security and Diffie-Hellman (DH) Key Exchange\n",
    "\n",
    "Which aspect of the Information Security Triad does the Diffie-Hellman (DH) key exchange help to preserve? Explain how this preservation is achieved using the DH key exchange.\n",
    "\n",
    "Note: we are looking here for an logical explanation of how the DH helps preserve your nominated aspect of the Information Security Triad, **not** for a detailed listing of the steps of the DH algorithm.\n",
    "<span style= 'float: right;'><b>[3 marks]</b></span>"
   ]
  },
  {
   "cell_type": "raw",
   "metadata": {},
   "source": [
    "# YOUR ANSWER HERE\n",
    "Confidentiality. DH key exchange helps distributing secret keys between two entities without the key being compromised by a third party. To do so, both entity chooses a secret number that is not identical. Then they both compute a number to send to the other party which they then use to derive the common secret key."
   ]
  },
  {
   "cell_type": "markdown",
   "metadata": {},
   "source": [
    "### Q1.2: DH Key Exchange in Action\n",
    "\n",
    "Alice and Bob decides to use the DH key exchange to help in securing their exchange of information as illustrated in the diagram below.\n",
    "\n",
    "![DH key exchange diagram'](image/DH_key_exchange_diagram.png)\n",
    "\n",
    "Given the following information (also depicted in the diagram):\n",
    "\n",
    "p=31 (a prime number) and g=13 (a generator or primitive root of p).  Alice chooses a secret random number a=12.  Bob chooses a secret random number b=7.\n",
    "\n",
    "### Q1.2.1) What is the number A that Alice sends to Bob?\n",
    "### Q1.2.2) What is the number B that Bob sends to Alice?\n",
    "### Q1.2.3) What is the common secret key K?\n",
    "\n",
    "**Please explain how you obtained values for A, B and K.**\n",
    "\n",
    "Note: you can use the code cell below to perform and show the required calculations to find A, B and K.  However, you don't have to use Python to do the calculations but you should still show and explain how you do the calculations in the text box.  Just providing values for A, B and K without providing an explanation will result in no marks being awarded for this question.\n",
    "<span style= 'float: right;'><b>[5 marks]</b></span>"
   ]
  },
  {
   "cell_type": "code",
   "execution_count": 175,
   "metadata": {},
   "outputs": [
    {
     "name": "stdout",
     "output_type": "stream",
     "text": [
      "A: 8\n",
      "B: 22\n",
      "2 2\n",
      "True\n"
     ]
    }
   ],
   "source": [
    "#code cell for calculations\n",
    "# ALice:\n",
    "# Alice chose 12.\n",
    "a = 12\n",
    "g = 13\n",
    "p = 31\n",
    "A = g**a % p\n",
    "print(\"A:\",A)\n",
    "\n",
    "\n",
    "# Bob Chose 7\n",
    "b = 7\n",
    "B = g**b % p\n",
    "print(\"B:\",B)\n",
    "\n",
    "\n",
    "# Secret Key\n",
    "K1 = B**a % p\n",
    "K2 = A**b % p\n",
    "print(K1, K2)\n",
    "print(K1==K2)"
   ]
  },
  {
   "cell_type": "raw",
   "metadata": {},
   "source": [
    "# YOUR ANSWER HERE\n",
    "Q1.2.1) Alice sends the number 8 to Bob"
   ]
  },
  {
   "cell_type": "raw",
   "metadata": {},
   "source": [
    "# YOUR ANSWER HERE\n",
    "Q1.2.2) Bob sends the numnber 22 to Alice"
   ]
  },
  {
   "cell_type": "raw",
   "metadata": {},
   "source": [
    "# YOUR ANSWER HERE\n",
    "Q1.2.3) The common secret key is 2."
   ]
  },
  {
   "cell_type": "markdown",
   "metadata": {},
   "source": [
    "### Q1.3: What could go wrong?\n",
    "The DH key exchange protocol allowed Alice and Bob to securely exchange secret key, or so they thought.  What particular form of attack is the DH key exchange susceptible to?  Briefly explain how the attack works and what can be done to mitigate against it.\n",
    "<span style= 'float: right;'><b>[3 marks]</b></span>"
   ]
  },
  {
   "cell_type": "raw",
   "metadata": {},
   "source": [
    "# YOUR ANSWER HERE\n",
    "DH key is prone to Man in the middle attack. In this attack the perpetrator eavesdrops in a conversation between two entities and can impersonate one of the entities by listening in to the informations being shared. Some ways to prevent this attack would be to avoid wifi connections that aren't protected with a password or not using public networks.\n",
    "\n",
    "Reference: https://www.imperva.com/learn/application-security/man-in-the-middle-attack-mitm/#:~:text=A%20man%20in%20the%20middle,exchange%20of%20information%20is%20underway."
   ]
  },
  {
   "cell_type": "markdown",
   "metadata": {},
   "source": [
    "### Q1.4: Checking that Alice agreed to the terms of a contract\n",
    "Alice and Bob negotiated a contract for deliverables that Alice needs to agree formally to provide.  They choose to get Alice to sign the contract digitally.  Let’s say that the contract is encapsulated in a message `m` given by the number `34` (`m=34`).  This message needs to be signed by Alice and sent to Bob.  They agree to use RSA as a method of authentication where `p=3, q=11, e=7 and d=3`.\n",
    "\n",
    "#### Q1.4.1) What is Alice’s private key and public key?\n",
    "\n",
    "#### Q1.4.2) Given the message `m=34`, what is the signed message `s` that is sent to Bob? (Explain how this was obtained.)\n",
    "Note: We don't require you to hash the message `m`.\n",
    "\n",
    "#### Q1.4.3) Demonstrate how Bob would go about verifying the signed message? (Please explain the steps).\n",
    "<span style= 'float: right;'><b>[5 marks]</b></span>\n"
   ]
  },
  {
   "cell_type": "code",
   "execution_count": 180,
   "metadata": {},
   "outputs": [],
   "source": [
    "##code cell to help with calculations if needed\n",
    "def are_relatively_prime(a, b):\n",
    "    \"\"\"Return ``True`` if ``a`` and ``b`` are two relatively prime numbers.\n",
    "\n",
    "    Two numbers are relatively prime if they share no common factors,\n",
    "    i.e. there is no integer (except 1) that divides both.\n",
    "    \"\"\"\n",
    "    for n in range(2, min(a, b) + 1):\n",
    "        if a % n == b % n == 0:\n",
    "            return False\n",
    "    return True\n",
    "\n",
    "def generate_key_pair(p,q):\n",
    "    \n",
    "    # TODO: Calculate N = p*q and r = (p-1)(q-1)\n",
    "    N = p*q \n",
    "    r = (p-1)*(q-1) \n",
    "    \n",
    "    e = 7\n",
    "\n",
    "    d =3 \n",
    "    \n",
    "    # return public key and private key pairs.\n",
    "    public_key = (N,e)\n",
    "    private_key = (N,d)\n",
    "    return public_key, private_key\n",
    "\n",
    "def encrypt(public_key, message):\n",
    "    # TODO: encrypt the given message with the public key \n",
    "    return  pow(message,public_key[1]) % public_key[0]\n",
    "\n",
    "def decrypt(private_key, message):\n",
    "    # TODO: retrieve the original message from the encrypted message with your private key \n",
    "    return  pow(message,private_key[1]) % private_key[0]"
   ]
  },
  {
   "cell_type": "code",
   "execution_count": 183,
   "metadata": {},
   "outputs": [
    {
     "name": "stdout",
     "output_type": "stream",
     "text": [
      "public key is (33, 7), private key is (33, 3)\n",
      "message: 34\n",
      "encrypted message: 1\n",
      "decrypted message: 1\n"
     ]
    }
   ],
   "source": [
    "p = 3\n",
    "q = 11\n",
    "msg = 34\n",
    "public_key, private_key = generate_key_pair(p,q)\n",
    "print ('public key is {}, private key is {}'.format(public_key, private_key) )\n",
    "print ('message: {}'.format(msg))\n",
    "print ('encrypted message: {}'.format(encrypt(public_key,msg)))\n",
    "print ('decrypted message: {}'.format(decrypt(private_key,encrypt(public_key,msg) )))"
   ]
  },
  {
   "cell_type": "raw",
   "metadata": {
    "tags": []
   },
   "source": [
    "# YOUR ANSWER HERE\n",
    "Alice's public key is (33, 7) and private key is (33, 3). The signed message sent to Bob is 1. \n",
    "\n",
    "\n",
    "Code from Lab10"
   ]
  },
  {
   "cell_type": "markdown",
   "metadata": {},
   "source": [
    "### Q1.5: Is it really Alice who signed?\n",
    "How can Alice and Bob go about making sure that Alice’s public key can be trusted to belong to her? Discuss in terms of components of existing infrastructure that Bob and Alice can use.\n",
    "\n",
    "<span style= 'float: right;'><b>[4 marks]</b></span>"
   ]
  },
  {
   "cell_type": "raw",
   "metadata": {},
   "source": [
    "# YOUR ANSWER HERE\n",
    "This formula could be used s^e mod n where s is the signed message. Hashing could also work."
   ]
  },
  {
   "cell_type": "markdown",
   "metadata": {},
   "source": [
    "### Q1.6: **(COMP6420 ONLY)** Vulnerabilities\n",
    "Discuss possible security vulnerabilities with Alice and Bob’s plan above and make suggestions on steps they could take to improve their plan.\n",
    "<span style= 'float: right;'><b>[5 marks]</b></span>"
   ]
  },
  {
   "cell_type": "raw",
   "metadata": {},
   "source": [
    "# YOUR ANSWER HERE\n"
   ]
  },
  {
   "cell_type": "markdown",
   "metadata": {},
   "source": [
    "****\n",
    "## Q2 - Ethics \n",
    "## _[10 Marks for COMP2420, 15 marks for COMP6420]_ (LO6,LO7)\n",
    "The following questions will cover topics of ethics in data science covered in the lectures and labs. Please provide your written answers in the raw text boxes provided. _Any_ external information you use **must be referenced**. Provide references in the raw textbox and statement of originality."
   ]
  },
  {
   "cell_type": "markdown",
   "metadata": {},
   "source": [
    "Consider the following case study:\n",
    "\n",
    ">In a recent study ([Gichoya et al, 2022](https://www.thelancet.com/journals/landig/article/PIIS2589-7500(22)00063-2/fulltext)), researchers found that standard Artificial Intelligence (AI) deep learning models can be trained to predict patients' racial identity from medical images and show high performance.  This high performance was obtained across multiple image modalities (i.e. different types of medical images like x-rays (area under the receiver operating characteristics curve (AUC) range 0·91–0·99), CT  chest imaging (area under the receiver operating characteristics curve (AUC) range 0·87-0.96) and mammography (area under the receiver operating characteristics curve (AUC) 0.81)).  \n",
    "\n",
    ">The performance of the prediction model does not seem to rely on obvious confounders.  I.e., other factors that could have an association to race/racial identity, such as body-mass index, disease distribution and breast density, did not help explain the results obtained.  The research also showed that the deep learning models used performed well over all anatomical regions and frequency spectrums of the images, leading the authors to suggest that \"the efforts to control this behaviour when it is undesirable will be challenging and demand further study.\"  \n",
    "\n",
    ">At this stage, the researchers cannot explain how the AI models can predict racial identity from medical images.  The authors cautioned that the results from their study \"emphasise that the ability of AI deep learning models to predict self-reported race is itself not the issue of importance. However, the finding that AI can accurately predict self-reported race, even from corrupted, cropped, and noised medical images, often when clinical experts cannot, creates an enormous risk for all model deployments in medical imaging.\"  \n",
    "\n",
    "\n",
    "\n",
    "#### Q2.1: Ethics of using AI in the medical field\n",
    "\n",
    "Identify and discuss potential social and ethical implications (if any) of the findings described in the given case study.  Please explain your reasoning clearly (including in the case you don't believe there are any social and ethical implications).\n",
    "<span style= 'float: right;'><b>[2 marks]</b></span>"
   ]
  },
  {
   "cell_type": "raw",
   "metadata": {},
   "source": [
    "# YOUR ANSWER HERE\n"
   ]
  },
  {
   "cell_type": "markdown",
   "metadata": {},
   "source": [
    "#### Q2.2: Explainable AI\n",
    "Given that human experts cannot themselves identify the racial identity of patients from medical images and the AI prediction model developers cannot explain how their models can, should models with such capability be used in healthcare? Please explain why or why not?\n",
    "<span style= 'float: right;'><b>[2 marks]</b></span>"
   ]
  },
  {
   "cell_type": "raw",
   "metadata": {},
   "source": [
    "# YOUR ANSWER HERE\n",
    "I don't see a harmful outcome of AI being able to identify a patient's race so I belive it's okay to use in healthcare especially if it results in better healthcare. \n"
   ]
  },
  {
   "cell_type": "markdown",
   "metadata": {},
   "source": [
    "#### Q2.3: Decision-Making\n",
    "Increasingly, AI prediction models are being used in healthcare (and many other sectors) to help in making important decisions that have significant impact on people's lives.  Discuss a number of considerations that must be taken into account in interpreting results obtained from such models. \n",
    "\n",
    "Note: You may consider factors that influence the performance of AI prediction models.\n",
    "\n",
    "<span style= 'float: right;'><b>[3 marks]</b></span>"
   ]
  },
  {
   "cell_type": "raw",
   "metadata": {},
   "source": [
    "# YOUR ANSWER HERE\n"
   ]
  },
  {
   "cell_type": "markdown",
   "metadata": {},
   "source": [
    "#### Q2.4: Solution?\n",
    "As a data scientist, how would you approach designing prediction algorithms that are ethical in the context of medical applications? Please outline the design considerations you would make and state any assumptions.\n",
    "\n",
    "Note: You may want to consider different possible outcomes where racial identity could matter or not matter in making a medical diagnosis and/or providing patient care. For example, in [work by computer scientist Emma Pierson at Cornell](https://news.mit.edu/2022/artificial-intelligence-predicts-patients-race-from-medical-images-0520), it was shown that \"algorithms that learn from patients' pain experiences can find new sources of knee pain in X-rays that disproportionately affect Black patients — and are disproportionately missed by radiologists\".\n",
    "\n",
    "You may also want to consider that a good AI prediction model should be able to provide reliable diagnosis outcomes for any patient.\n",
    "\n",
    "Also remember that \"a good data scientist needs to understand the ethical issues surrounding the data they obtain/use, the algorithms they employ, and its impact on people\".  ([OpenDS4All](https://github.com/odpi/OpenDS4All))\n",
    "\n",
    "\n",
    "<span style= 'float: right;'><b>[3 marks]</b></span>"
   ]
  },
  {
   "cell_type": "raw",
   "metadata": {},
   "source": [
    "# YOUR ANSWER HERE\n"
   ]
  },
  {
   "cell_type": "markdown",
   "metadata": {},
   "source": [
    "#### Q2.5 **(COMP6420 ONLY)** Consequences\n",
    "Examine potential consequences that could arise if data scientists aim to remove the ability of the AI systems in the medical field to recognise racial identity versus the case where they did not try to remove this ability.  What do you think is the way to go (removing or not removing the ability to recognise racial identity)? Please provide justifications for your answer.\n",
    "<span style= 'float: right;'><b>[5 marks]</b></span>"
   ]
  },
  {
   "cell_type": "raw",
   "metadata": {},
   "source": [
    "# YOUR ANSWER HERE\n"
   ]
  },
  {
   "cell_type": "markdown",
   "metadata": {},
   "source": [
    "****\n",
    "## Question 3: Databases & SQL \n",
    "## _[20 marks for COMP2420, 25 marks for COMP6420]_ (LO1, LO2, LO3)\n",
    "The following questions will cover the topics of Databases & SQL covered in the\n",
    "lectures and labs. Please provide your written answers in the raw text boxes\n",
    "provided, and code answers in the code boxes provided.\n",
    "_Any_ external information you use **must be referenced**. Provide references\n",
    "in the raw textbox or code box as appropriate, and statement of originality."
   ]
  },
  {
   "cell_type": "markdown",
   "metadata": {},
   "source": [
    "### Q3.1: Structured Sanity\n",
    "\n",
    "Consider the following scenario:\n",
    "\n",
    "> Assume that you have taken a research position at Geoscience Australia. Your first task is to collect satellite, and ocean data for your research on the extent on coastal erosion in Australia and its effects on people, the built environment and infrastructure.\n",
    "\n",
    "How structured is the data that you are looking to collect? Discuss what data might be present in this process and how it could be structured, if at all. **Clearly state all assumptions.**\n",
    "<span style= 'float: right;'><b>[3 marks]</b></span>"
   ]
  },
  {
   "cell_type": "raw",
   "metadata": {},
   "source": [
    "asy# YOUR ANSWER HERE\n",
    "The data should be fully structured so that it can be Machine readable and is easy to analyse. For example as a csv file or SQL database."
   ]
  },
  {
   "cell_type": "markdown",
   "metadata": {},
   "source": [
    "### Q3.2: Music database\n",
    "\n",
    "The following question is designed to test your SQL skills. You have been provided a database from a music store.  \n",
    "Your database looks as follows:\n",
    "\n",
    "![Music Database ER Diagram](image/q3_database_ER.png)\n",
    "\n",
    "You will be required to run a number of queries over this database to help gather some insights. You should provide the query, and the output in an appropriate format. You may use the Pandas SQL<>DataFrame functionality, or regular SQLite3 cursor functionality. \n",
    "\n",
    "The final answer to each sub-question should be obtained by executing one SQL statement **only**.  No further processing on the result to get the final answer.  Answer can be formatted as raw printed output or a Pandas DataFrame."
   ]
  },
  {
   "cell_type": "code",
   "execution_count": 153,
   "metadata": {},
   "outputs": [
    {
     "name": "stdout",
     "output_type": "stream",
     "text": [
      "Connection established!\n"
     ]
    }
   ],
   "source": [
    "# PLEASE KEEP THIS CODE.\n",
    "# OTHERWISE, YOU WILL NOT BE ABLE TO READ THE DATABASE\n",
    "def create_connection(db_file):\n",
    "    \"\"\" Connect to the specified SQLite database, if not exist, create a new one (in memory);\n",
    "    :db_file: location of db to connect to\n",
    "    :return: Connection object or None\n",
    "    \"\"\"\n",
    "    conn = None\n",
    "    try:\n",
    "        conn = sqlite3.connect(db_file)\n",
    "        print(\"Connection established!\")\n",
    "    except Error as e:\n",
    "        print(\"Error Connecting to Database\")\n",
    "        raise(e)\n",
    "    return conn\n",
    "\n",
    "dbfile_nw = \"./data/q3.db\"\n",
    "conn = create_connection(dbfile_nw) \n",
    "conn.text_factory = lambda b: b.decode(errors = 'ignore')\n",
    "cur = conn.cursor()\n",
    "# remember to close the connection when everything is done"
   ]
  },
  {
   "cell_type": "markdown",
   "metadata": {},
   "source": [
    "#### Q3.2.1: Customer Last Names\n",
    "Count the numbers of customers whose `LastName` begins with `S`.\n",
    "<span style= 'float: right;'><b>[3 marks]</b></span>"
   ]
  },
  {
   "cell_type": "code",
   "execution_count": 157,
   "metadata": {},
   "outputs": [
    {
     "data": {
      "text/html": [
       "<div>\n",
       "<style scoped>\n",
       "    .dataframe tbody tr th:only-of-type {\n",
       "        vertical-align: middle;\n",
       "    }\n",
       "\n",
       "    .dataframe tbody tr th {\n",
       "        vertical-align: top;\n",
       "    }\n",
       "\n",
       "    .dataframe thead th {\n",
       "        text-align: right;\n",
       "    }\n",
       "</style>\n",
       "<table border=\"1\" class=\"dataframe\">\n",
       "  <thead>\n",
       "    <tr style=\"text-align: right;\">\n",
       "      <th></th>\n",
       "      <th>COUNT(LastName)</th>\n",
       "    </tr>\n",
       "  </thead>\n",
       "  <tbody>\n",
       "    <tr>\n",
       "      <th>0</th>\n",
       "      <td>8</td>\n",
       "    </tr>\n",
       "  </tbody>\n",
       "</table>\n",
       "</div>"
      ],
      "text/plain": [
       "   COUNT(LastName)\n",
       "0                8"
      ]
     },
     "metadata": {},
     "output_type": "display_data"
    }
   ],
   "source": [
    "# YOUR CODE HERE\n",
    "query = \"SELECT COUNT(LastName) FROM customers WHERE SUBSTRING(LastName, 1, 1)='S';\"\n",
    "df_result = pd.read_sql_query(query, conn)\n",
    "display(df_result)"
   ]
  },
  {
   "cell_type": "raw",
   "metadata": {},
   "source": [
    "Reference code to select substring - https://www.w3schools.com/sql/func_sqlserver_substring.asp"
   ]
  },
  {
   "cell_type": "markdown",
   "metadata": {
    "tags": []
   },
   "source": [
    "#### Q3.2.2: Albums by Artists\n",
    "List all the Album titles for the Artist named `AC/DC`.\n",
    "<span style= 'float: right;'><b>[3 marks]</b></span>"
   ]
  },
  {
   "cell_type": "code",
   "execution_count": 161,
   "metadata": {},
   "outputs": [
    {
     "data": {
      "text/html": [
       "<div>\n",
       "<style scoped>\n",
       "    .dataframe tbody tr th:only-of-type {\n",
       "        vertical-align: middle;\n",
       "    }\n",
       "\n",
       "    .dataframe tbody tr th {\n",
       "        vertical-align: top;\n",
       "    }\n",
       "\n",
       "    .dataframe thead th {\n",
       "        text-align: right;\n",
       "    }\n",
       "</style>\n",
       "<table border=\"1\" class=\"dataframe\">\n",
       "  <thead>\n",
       "    <tr style=\"text-align: right;\">\n",
       "      <th></th>\n",
       "      <th>Title</th>\n",
       "    </tr>\n",
       "  </thead>\n",
       "  <tbody>\n",
       "    <tr>\n",
       "      <th>0</th>\n",
       "      <td>For Those About To Rock We Salute You</td>\n",
       "    </tr>\n",
       "    <tr>\n",
       "      <th>1</th>\n",
       "      <td>Let There Be Rock</td>\n",
       "    </tr>\n",
       "  </tbody>\n",
       "</table>\n",
       "</div>"
      ],
      "text/plain": [
       "                                   Title\n",
       "0  For Those About To Rock We Salute You\n",
       "1                      Let There Be Rock"
      ]
     },
     "metadata": {},
     "output_type": "display_data"
    }
   ],
   "source": [
    "# YOUR CODE HERE\n",
    "query = \"SELECT Title FROM albums INNER JOIN artists ON albums.ArtistId=artists.ArtistId WHERE artists.Name='AC/DC';\"\n",
    "df_result = pd.read_sql_query(query, conn)\n",
    "display(df_result)"
   ]
  },
  {
   "cell_type": "markdown",
   "metadata": {},
   "source": [
    "#### Q3.2.3: Album sizes\n",
    "What are the albums that take up more than `1e+10` bytes of space? Order these albums in asending order according to space taken.\n",
    "<span style= 'float: right;'><b>[4 marks]</b></span>"
   ]
  },
  {
   "cell_type": "code",
   "execution_count": 172,
   "metadata": {},
   "outputs": [
    {
     "data": {
      "text/html": [
       "<div>\n",
       "<style scoped>\n",
       "    .dataframe tbody tr th:only-of-type {\n",
       "        vertical-align: middle;\n",
       "    }\n",
       "\n",
       "    .dataframe tbody tr th {\n",
       "        vertical-align: top;\n",
       "    }\n",
       "\n",
       "    .dataframe thead th {\n",
       "        text-align: right;\n",
       "    }\n",
       "</style>\n",
       "<table border=\"1\" class=\"dataframe\">\n",
       "  <thead>\n",
       "    <tr style=\"text-align: right;\">\n",
       "      <th></th>\n",
       "      <th>AlbumId</th>\n",
       "      <th>Title</th>\n",
       "      <th>ArtistId</th>\n",
       "      <th>TrackId</th>\n",
       "      <th>Name</th>\n",
       "      <th>AlbumId</th>\n",
       "      <th>MediaTypeId</th>\n",
       "      <th>GenreId</th>\n",
       "      <th>Composer</th>\n",
       "      <th>Milliseconds</th>\n",
       "      <th>Bytes</th>\n",
       "      <th>UnitPrice</th>\n",
       "    </tr>\n",
       "  </thead>\n",
       "  <tbody>\n",
       "    <tr>\n",
       "      <th>0</th>\n",
       "      <td>227</td>\n",
       "      <td>Battlestar Galactica, Season 3</td>\n",
       "      <td>147</td>\n",
       "      <td>2820</td>\n",
       "      <td>Occupation / Precipice</td>\n",
       "      <td>227</td>\n",
       "      <td>3</td>\n",
       "      <td>19</td>\n",
       "      <td>None</td>\n",
       "      <td>5286953</td>\n",
       "      <td>1054423946</td>\n",
       "      <td>1.99</td>\n",
       "    </tr>\n",
       "    <tr>\n",
       "      <th>1</th>\n",
       "      <td>229</td>\n",
       "      <td>Lost, Season 3</td>\n",
       "      <td>149</td>\n",
       "      <td>3224</td>\n",
       "      <td>Through a Looking Glass</td>\n",
       "      <td>229</td>\n",
       "      <td>3</td>\n",
       "      <td>21</td>\n",
       "      <td>None</td>\n",
       "      <td>5088838</td>\n",
       "      <td>1059546140</td>\n",
       "      <td>1.99</td>\n",
       "    </tr>\n",
       "  </tbody>\n",
       "</table>\n",
       "</div>"
      ],
      "text/plain": [
       "   AlbumId                           Title  ArtistId  TrackId  \\\n",
       "0      227  Battlestar Galactica, Season 3       147     2820   \n",
       "1      229                  Lost, Season 3       149     3224   \n",
       "\n",
       "                      Name  AlbumId  MediaTypeId  GenreId Composer  \\\n",
       "0   Occupation / Precipice      227            3       19     None   \n",
       "1  Through a Looking Glass      229            3       21     None   \n",
       "\n",
       "   Milliseconds       Bytes  UnitPrice  \n",
       "0       5286953  1054423946       1.99  \n",
       "1       5088838  1059546140       1.99  "
      ]
     },
     "metadata": {},
     "output_type": "display_data"
    }
   ],
   "source": [
    "# YOUR CODE HERE\n",
    "query = \"SELECT * FROM albums INNER JOIN tracks ON albums.AlbumId=tracks.AlbumId WHERE Bytes > 1000000000 ORDER BY Bytes ASC;\"\n",
    "df_result = pd.read_sql_query(query, conn)\n",
    "display(df_result)"
   ]
  },
  {
   "cell_type": "markdown",
   "metadata": {},
   "source": [
    "#### Q3.2.4: Most versatile artist\n",
    "Find the name of the artist who has tracks covering the most number of distinct `genres`.\n",
    "\n",
    "Note: We are looking for the artist whose work appears across the most number of genres.\n",
    "<span style= 'float: right;'><b>[5 marks]</b></span>"
   ]
  },
  {
   "cell_type": "code",
   "execution_count": null,
   "metadata": {},
   "outputs": [],
   "source": [
    "# YOUR CODE HERE\n"
   ]
  },
  {
   "cell_type": "markdown",
   "metadata": {},
   "source": [
    "### Q3.3: Reflecting on the Music database schema"
   ]
  },
  {
   "cell_type": "markdown",
   "metadata": {},
   "source": [
    "#### Q3.3.1 Based on the database schema, comment on the relationship between genres and tracks in this schema and any potential improvements you would make to this design. Justify your answer.\n",
    "<span style= 'float: right;'><b>[2 marks]</b></span>"
   ]
  },
  {
   "cell_type": "raw",
   "metadata": {},
   "source": [
    "# YOUR ANSWER HERE\n",
    "There's a one-to-many relationship between genres and tracks (one genre, many tracks)."
   ]
  },
  {
   "cell_type": "markdown",
   "metadata": {},
   "source": [
    "#### Q3.3.2 **(COMP6420 ONLY)** Assume you are trying insert details into the database about a track and its artist but the track is not associated with an album. Can this situation be handled using the given database? If not, what changes would you make to the schema to allow it? Justify your answer.\n",
    "\n",
    "<span style= 'float: right;'><b>[5 marks]</b></span>"
   ]
  },
  {
   "cell_type": "raw",
   "metadata": {},
   "source": [
    "# YOUR ANSWER HERE\n"
   ]
  },
  {
   "cell_type": "markdown",
   "metadata": {
    "tags": []
   },
   "source": [
    "****\n",
    "## Question 4: Data Analysis \n",
    "## _[20 marks for COMP2420, 25 marks for COMP6420]_ (LO3,LO4,LO5,LO6)\n",
    "The following questions will cover the topic of Data Analysis covered in the\n",
    "lectures and labs. Please provide your written answers in the raw text boxes\n",
    "provided, and code answers in the code boxes provided.\n",
    "_Any_ external information you use **must be referenced**. Provide references\n",
    "in the raw textbox or code box as appropriate, and statement of originality.\n",
    "\n",
    "The `data/Q4Q5.csv` file captures the details of how CO2 emissions by a vehicle can vary with the different features. The dataset has been taken from Canada Government official open data website. This contains data over a period of 7 years. There are total 7385 rows and 12 columns.\n",
    "\n",
    "A full description of the dataset is as follows:\n",
    "\n",
    "| **Name**          | **Description**                                                         |\n",
    "| ----------------- | ----------------------------------------------------------------------- |\n",
    "|UniqueID| unique identifer for each of the record in the dataset|\n",
    "|Vehicle Class | TWO-SEATER, COMPACT ,MID-SIZE, FULL-SIZE, SUV, PICKUP TRUCK|\n",
    "|Engine Size(L)| the size of the engine |\n",
    "|Cylinders| number of cylinders |\n",
    "|Transmission | A = automatic, M = manual|\n",
    "|Number of Gear |3 - 10 = Number of gears|\n",
    "|Fuel type | X = regular gasoline|\n",
    "||Z = premium gasoline|\n",
    "||D = diesel|\n",
    "||E = ethanol (E85)|\n",
    "||N = natural gas|\n",
    "|Fuel consumption|Fuel Consumption City (L/100 km) = City fuel consumption|\n",
    "||Fuel Consumption Hwy (L/100 km) = Highway fuel consumption|\n",
    "||Fuel Consumption Comb (L/100 km) =  the combined fuel consumption (55% city, 45% hwy) |\n",
    "||Fuel Consumption Comb (mpg) = fuel consumption miles per imperial gallon|\n",
    "|CO2 Emissions(g/km) | the tailpipe emissions of carbon dioxide (in grams per kilometre) for combined city and highway driving |"
   ]
  },
  {
   "cell_type": "markdown",
   "metadata": {},
   "source": [
    "### Q4.1: Importing the Data\n",
    "\n",
    "Import the dataset to a variable `q4q5_df`. Report the number of missing values for each attributes and display the first 5 rows of the dataset along with the column headers.\n",
    "\n",
    "<span style= 'float: right;'><b>[2 marks]</b></span>"
   ]
  },
  {
   "cell_type": "code",
   "execution_count": 126,
   "metadata": {},
   "outputs": [
    {
     "name": "stdout",
     "output_type": "stream",
     "text": [
      "These columns have nan:  \n",
      " UniqueID                              0\n",
      "Vehicle Class                       497\n",
      "Engine Size(L)                        0\n",
      "Cylinders                             0\n",
      "Transmission                          0\n",
      "Number of Gear                      295\n",
      "Fuel Type                             0\n",
      "Fuel Consumption City (L/100 km)      0\n",
      "Fuel Consumption Hwy (L/100 km)       0\n",
      "Fuel Consumption Comb (L/100 km)      0\n",
      "Fuel Consumption Comb (mpg)           0\n",
      "CO2 Emissions(g/km)                   0\n",
      "dtype: int64\n"
     ]
    },
    {
     "data": {
      "text/html": [
       "<div>\n",
       "<style scoped>\n",
       "    .dataframe tbody tr th:only-of-type {\n",
       "        vertical-align: middle;\n",
       "    }\n",
       "\n",
       "    .dataframe tbody tr th {\n",
       "        vertical-align: top;\n",
       "    }\n",
       "\n",
       "    .dataframe thead th {\n",
       "        text-align: right;\n",
       "    }\n",
       "</style>\n",
       "<table border=\"1\" class=\"dataframe\">\n",
       "  <thead>\n",
       "    <tr style=\"text-align: right;\">\n",
       "      <th></th>\n",
       "      <th>UniqueID</th>\n",
       "      <th>Vehicle Class</th>\n",
       "      <th>Engine Size(L)</th>\n",
       "      <th>Cylinders</th>\n",
       "      <th>Transmission</th>\n",
       "      <th>Number of Gear</th>\n",
       "      <th>Fuel Type</th>\n",
       "      <th>Fuel Consumption City (L/100 km)</th>\n",
       "      <th>Fuel Consumption Hwy (L/100 km)</th>\n",
       "      <th>Fuel Consumption Comb (L/100 km)</th>\n",
       "      <th>Fuel Consumption Comb (mpg)</th>\n",
       "      <th>CO2 Emissions(g/km)</th>\n",
       "    </tr>\n",
       "  </thead>\n",
       "  <tbody>\n",
       "    <tr>\n",
       "      <th>0</th>\n",
       "      <td>4431257050385092718</td>\n",
       "      <td>COMPACT</td>\n",
       "      <td>2.0</td>\n",
       "      <td>4</td>\n",
       "      <td>A</td>\n",
       "      <td>5.0</td>\n",
       "      <td>Z</td>\n",
       "      <td>9.9</td>\n",
       "      <td>6.7</td>\n",
       "      <td>8.5</td>\n",
       "      <td>33</td>\n",
       "      <td>196</td>\n",
       "    </tr>\n",
       "    <tr>\n",
       "      <th>1</th>\n",
       "      <td>7272501878989789175</td>\n",
       "      <td>COMPACT</td>\n",
       "      <td>2.4</td>\n",
       "      <td>4</td>\n",
       "      <td>M</td>\n",
       "      <td>6.0</td>\n",
       "      <td>Z</td>\n",
       "      <td>11.2</td>\n",
       "      <td>7.7</td>\n",
       "      <td>9.6</td>\n",
       "      <td>29</td>\n",
       "      <td>221</td>\n",
       "    </tr>\n",
       "    <tr>\n",
       "      <th>2</th>\n",
       "      <td>871771505959663499</td>\n",
       "      <td>COMPACT</td>\n",
       "      <td>1.5</td>\n",
       "      <td>4</td>\n",
       "      <td>A</td>\n",
       "      <td>7.0</td>\n",
       "      <td>Z</td>\n",
       "      <td>6.0</td>\n",
       "      <td>5.8</td>\n",
       "      <td>5.9</td>\n",
       "      <td>48</td>\n",
       "      <td>136</td>\n",
       "    </tr>\n",
       "    <tr>\n",
       "      <th>3</th>\n",
       "      <td>6497200756518372995</td>\n",
       "      <td>SUV</td>\n",
       "      <td>3.5</td>\n",
       "      <td>6</td>\n",
       "      <td>A</td>\n",
       "      <td>6.0</td>\n",
       "      <td>Z</td>\n",
       "      <td>12.7</td>\n",
       "      <td>9.1</td>\n",
       "      <td>11.1</td>\n",
       "      <td>25</td>\n",
       "      <td>255</td>\n",
       "    </tr>\n",
       "    <tr>\n",
       "      <th>4</th>\n",
       "      <td>7315936316372124351</td>\n",
       "      <td>SUV</td>\n",
       "      <td>3.5</td>\n",
       "      <td>6</td>\n",
       "      <td>A</td>\n",
       "      <td>6.0</td>\n",
       "      <td>Z</td>\n",
       "      <td>12.1</td>\n",
       "      <td>8.7</td>\n",
       "      <td>10.6</td>\n",
       "      <td>27</td>\n",
       "      <td>244</td>\n",
       "    </tr>\n",
       "  </tbody>\n",
       "</table>\n",
       "</div>"
      ],
      "text/plain": [
       "              UniqueID Vehicle Class  Engine Size(L)  Cylinders Transmission  \\\n",
       "0  4431257050385092718       COMPACT             2.0          4            A   \n",
       "1  7272501878989789175       COMPACT             2.4          4            M   \n",
       "2   871771505959663499       COMPACT             1.5          4            A   \n",
       "3  6497200756518372995           SUV             3.5          6            A   \n",
       "4  7315936316372124351           SUV             3.5          6            A   \n",
       "\n",
       "   Number of Gear Fuel Type  Fuel Consumption City (L/100 km)  \\\n",
       "0             5.0         Z                               9.9   \n",
       "1             6.0         Z                              11.2   \n",
       "2             7.0         Z                               6.0   \n",
       "3             6.0         Z                              12.7   \n",
       "4             6.0         Z                              12.1   \n",
       "\n",
       "   Fuel Consumption Hwy (L/100 km)  Fuel Consumption Comb (L/100 km)  \\\n",
       "0                              6.7                               8.5   \n",
       "1                              7.7                               9.6   \n",
       "2                              5.8                               5.9   \n",
       "3                              9.1                              11.1   \n",
       "4                              8.7                              10.6   \n",
       "\n",
       "   Fuel Consumption Comb (mpg)  CO2 Emissions(g/km)  \n",
       "0                           33                  196  \n",
       "1                           29                  221  \n",
       "2                           48                  136  \n",
       "3                           25                  255  \n",
       "4                           27                  244  "
      ]
     },
     "execution_count": 126,
     "metadata": {},
     "output_type": "execute_result"
    }
   ],
   "source": [
    "# YOUR CODE HERE\n",
    "data = pd.read_csv('data/Q4Q5.csv')\n",
    "print(\"These columns have nan: \",'\\n', data.isna().sum())\n",
    "data.head()"
   ]
  },
  {
   "cell_type": "markdown",
   "metadata": {},
   "source": [
    "### Q4.2: Better fuel better efficiency\n",
    "\n",
    "There are five different fuel types available in the dataset. Your tasks are as follows:\n",
    "\n",
    " - Use a visualisation to compare the distribution of `Fuel Consumption Comb (L/100 km)` of different `Transmission` for each of the `Fuel Type`. Please justify why you picked the visualisation.\n",
    " - Provide a written response of your findings including any interesting patterns in the visualisation.\n",
    " \n",
    "<span style= 'float: right;'><b>[5 marks]</b></span>"
   ]
  },
  {
   "cell_type": "code",
   "execution_count": 127,
   "metadata": {},
   "outputs": [
    {
     "data": {
      "text/plain": [
       "array(['Z', 'D', 'X', 'E', 'N'], dtype=object)"
      ]
     },
     "execution_count": 127,
     "metadata": {},
     "output_type": "execute_result"
    }
   ],
   "source": [
    "data['Fuel Type'].unique()"
   ]
  },
  {
   "cell_type": "code",
   "execution_count": 128,
   "metadata": {},
   "outputs": [
    {
     "data": {
      "text/html": [
       "<div>\n",
       "<style scoped>\n",
       "    .dataframe tbody tr th:only-of-type {\n",
       "        vertical-align: middle;\n",
       "    }\n",
       "\n",
       "    .dataframe tbody tr th {\n",
       "        vertical-align: top;\n",
       "    }\n",
       "\n",
       "    .dataframe thead th {\n",
       "        text-align: right;\n",
       "    }\n",
       "</style>\n",
       "<table border=\"1\" class=\"dataframe\">\n",
       "  <thead>\n",
       "    <tr style=\"text-align: right;\">\n",
       "      <th></th>\n",
       "      <th>UniqueID</th>\n",
       "      <th>Vehicle Class</th>\n",
       "      <th>Engine Size(L)</th>\n",
       "      <th>Cylinders</th>\n",
       "      <th>Transmission</th>\n",
       "      <th>Number of Gear</th>\n",
       "      <th>Fuel Type</th>\n",
       "      <th>Fuel Consumption City (L/100 km)</th>\n",
       "      <th>Fuel Consumption Hwy (L/100 km)</th>\n",
       "      <th>Fuel Consumption Comb (L/100 km)</th>\n",
       "      <th>Fuel Consumption Comb (mpg)</th>\n",
       "      <th>CO2 Emissions(g/km)</th>\n",
       "    </tr>\n",
       "  </thead>\n",
       "  <tbody>\n",
       "    <tr>\n",
       "      <th>0</th>\n",
       "      <td>4431257050385092718</td>\n",
       "      <td>COMPACT</td>\n",
       "      <td>2.0</td>\n",
       "      <td>4</td>\n",
       "      <td>0</td>\n",
       "      <td>5.0</td>\n",
       "      <td>4</td>\n",
       "      <td>9.9</td>\n",
       "      <td>6.7</td>\n",
       "      <td>8.5</td>\n",
       "      <td>33</td>\n",
       "      <td>196</td>\n",
       "    </tr>\n",
       "    <tr>\n",
       "      <th>1</th>\n",
       "      <td>7272501878989789175</td>\n",
       "      <td>COMPACT</td>\n",
       "      <td>2.4</td>\n",
       "      <td>4</td>\n",
       "      <td>1</td>\n",
       "      <td>6.0</td>\n",
       "      <td>4</td>\n",
       "      <td>11.2</td>\n",
       "      <td>7.7</td>\n",
       "      <td>9.6</td>\n",
       "      <td>29</td>\n",
       "      <td>221</td>\n",
       "    </tr>\n",
       "    <tr>\n",
       "      <th>2</th>\n",
       "      <td>871771505959663499</td>\n",
       "      <td>COMPACT</td>\n",
       "      <td>1.5</td>\n",
       "      <td>4</td>\n",
       "      <td>0</td>\n",
       "      <td>7.0</td>\n",
       "      <td>4</td>\n",
       "      <td>6.0</td>\n",
       "      <td>5.8</td>\n",
       "      <td>5.9</td>\n",
       "      <td>48</td>\n",
       "      <td>136</td>\n",
       "    </tr>\n",
       "    <tr>\n",
       "      <th>3</th>\n",
       "      <td>6497200756518372995</td>\n",
       "      <td>SUV</td>\n",
       "      <td>3.5</td>\n",
       "      <td>6</td>\n",
       "      <td>0</td>\n",
       "      <td>6.0</td>\n",
       "      <td>4</td>\n",
       "      <td>12.7</td>\n",
       "      <td>9.1</td>\n",
       "      <td>11.1</td>\n",
       "      <td>25</td>\n",
       "      <td>255</td>\n",
       "    </tr>\n",
       "    <tr>\n",
       "      <th>4</th>\n",
       "      <td>7315936316372124351</td>\n",
       "      <td>SUV</td>\n",
       "      <td>3.5</td>\n",
       "      <td>6</td>\n",
       "      <td>0</td>\n",
       "      <td>6.0</td>\n",
       "      <td>4</td>\n",
       "      <td>12.1</td>\n",
       "      <td>8.7</td>\n",
       "      <td>10.6</td>\n",
       "      <td>27</td>\n",
       "      <td>244</td>\n",
       "    </tr>\n",
       "  </tbody>\n",
       "</table>\n",
       "</div>"
      ],
      "text/plain": [
       "              UniqueID Vehicle Class  Engine Size(L)  Cylinders  Transmission  \\\n",
       "0  4431257050385092718       COMPACT             2.0          4             0   \n",
       "1  7272501878989789175       COMPACT             2.4          4             1   \n",
       "2   871771505959663499       COMPACT             1.5          4             0   \n",
       "3  6497200756518372995           SUV             3.5          6             0   \n",
       "4  7315936316372124351           SUV             3.5          6             0   \n",
       "\n",
       "   Number of Gear  Fuel Type  Fuel Consumption City (L/100 km)  \\\n",
       "0             5.0          4                               9.9   \n",
       "1             6.0          4                              11.2   \n",
       "2             7.0          4                               6.0   \n",
       "3             6.0          4                              12.7   \n",
       "4             6.0          4                              12.1   \n",
       "\n",
       "   Fuel Consumption Hwy (L/100 km)  Fuel Consumption Comb (L/100 km)  \\\n",
       "0                              6.7                               8.5   \n",
       "1                              7.7                               9.6   \n",
       "2                              5.8                               5.9   \n",
       "3                              9.1                              11.1   \n",
       "4                              8.7                              10.6   \n",
       "\n",
       "   Fuel Consumption Comb (mpg)  CO2 Emissions(g/km)  \n",
       "0                           33                  196  \n",
       "1                           29                  221  \n",
       "2                           48                  136  \n",
       "3                           25                  255  \n",
       "4                           27                  244  "
      ]
     },
     "execution_count": 128,
     "metadata": {},
     "output_type": "execute_result"
    }
   ],
   "source": [
    "# Atrtibutes to encode - Transmission, Fuel type, Vehicle class\n",
    "le = LabelEncoder()\n",
    "data['Transmission'] = le.fit_transform(data['Transmission'])\n",
    "data['Fuel Type'] = le.fit_transform(data['Fuel Type'])\n",
    "data.head()"
   ]
  },
  {
   "cell_type": "code",
   "execution_count": 191,
   "metadata": {},
   "outputs": [
    {
     "data": {
      "image/png": "[encoded data removed]",
      "text/plain": [
       "<Figure size 432x288 with 1 Axes>"
      ]
     },
     "metadata": {
      "needs_background": "light"
     },
     "output_type": "display_data"
    }
   ],
   "source": [
    "# YOUR CODE HERE\n",
    "plt.scatter(data['Fuel Consumption Comb (L/100 km)'], data['Fuel Type'])\n",
    "plt.show()"
   ]
  },
  {
   "cell_type": "raw",
   "metadata": {},
   "source": [
    "# YOUR ANSWER HERE\n"
   ]
  },
  {
   "cell_type": "markdown",
   "metadata": {},
   "source": [
    "### Q4.3: Which type of cars consume more gasoline? SUV or full-size car?\n",
    "\n",
    "Your friend Cheng is thinking about buying a car for commuting. He would like to get either an SUV or a full-size sedan, and due to the current high petrol price, he wants to get the one with better fuel efficiency. To find out more, he has conducted some research online and found the following statement on a webpage: \n",
    "\n",
    "    Larger vehicles are notorious for guzzling gas. Since SUVs are heavier, even the most fuel-efficient vehicles in this category will get significantly fewer miles per gallon than sedans. On average, the most fuel-efficient SUVs average around 20-25 MPG, while sedans get anywhere from 30 to 40 MPG. The loss of fuel performance also comes with an increase in fuel cost, meaning more frequent stops at the gas station.\n",
    "\n",
    "But he's still not very convinced and has come to you, asking if you can use the provided dataset to help him to find out **if the average Fuel Consumption Comb (mpg) of SUV is statistically significantly lower than that of Full-Size**.\n",
    "\n",
    "You need to state clearly your **null hypothesis**, **alternative hypothesis**, **the conclusion** and also **justify the test you used.**\n",
    " \n",
    "*Hint: A Hypothesis test is an excellent method of comparing group means.*\n",
    "\n",
    "<span style= 'float: right;'><b>[5 marks]</b></span>"
   ]
  },
  {
   "cell_type": "raw",
   "metadata": {},
   "source": [
    "# YOUR HYPOTHESIS HERE\n",
    "H0:  Average Fuel consumption of SUV and Full-Size are same\n",
    "HA:  Average Fuel consumption of SUV and Full-Size are statistically different"
   ]
  },
  {
   "cell_type": "code",
   "execution_count": 134,
   "metadata": {},
   "outputs": [
    {
     "name": "stdout",
     "output_type": "stream",
     "text": [
      "p value is 0.5334381337913165, therefore we fail to reject the null hypothesis\n"
     ]
    }
   ],
   "source": [
    "# YOUR CODE HERE\n",
    "SUV = data['Fuel Consumption Comb (mpg)'][data['Vehicle Class']=='SUV']\n",
    "fullSize = data['Fuel Consumption Comb (mpg)'][data['Vehicle Class']=='FULL-SIZE']\n",
    "\n",
    "t, p = stats.ttest_ind(SUV, fullSize)\n",
    "\n",
    "if p < 0.05:\n",
    "    print(f'p value is {p}, therefore we reject the null hypothesis')\n",
    "else:\n",
    "    print(f'p value is {p}, therefore we fail to reject the null hypothesis')"
   ]
  },
  {
   "cell_type": "raw",
   "metadata": {},
   "source": [
    "# YOUR CONCLUSION HERE\n",
    "Average Fuel consumption of SUV and Full-Size are same"
   ]
  },
  {
   "cell_type": "raw",
   "metadata": {},
   "source": [
    "# YOUR JUSTIFICATION HERE\n",
    "p value is more than 0.05"
   ]
  },
  {
   "cell_type": "markdown",
   "metadata": {},
   "source": [
    "### Q4.4: Engine Size vs Fuel Consumption\n",
    "\n",
    "\n",
    "Your tasks are:\n",
    " - Use a visualisation to compare the relationship between fuel consumption and engine size for different transmissions. Please justify why you picked the visualisation.\n",
    " - Provide a written response on trends and any abnormal findings based on your analysis.\n",
    "\n",
    "<span style= 'float: right;'><b>[5 marks]</b></span>"
   ]
  },
  {
   "cell_type": "code",
   "execution_count": null,
   "metadata": {},
   "outputs": [],
   "source": [
    "# YOUR CODE HERE\n"
   ]
  },
  {
   "cell_type": "raw",
   "metadata": {},
   "source": [
    "# YOUR ANSWER HERE\n"
   ]
  },
  {
   "cell_type": "markdown",
   "metadata": {},
   "source": [
    "### Q4.5: Find Cluster and visualise it.\n",
    "\n",
    "#### Q4.5.1 Implement the `KMeans` clustering algorithm with `k = 5` using `sklearn` or equivalent packages. Provide graphical representations of your clustering output and an interpretation of the output.\n",
    " \n",
    "Your tasks are:\n",
    " - Implement the KMeans model with `k=5` using `Fuel Consumption Comb (L/100 km)`, `CO2 Emissions(g/km)`, `Engine Size(L)`, and `Cylinders`. \n",
    " - Provide a visualisation to show your clustering output.\n",
    " - Discuss insights shown by the output on the underlying data.\n",
    "\n",
    "*hint: consider reducing the dimensionality when generating the visualisation*\n",
    "\n",
    "<span style= 'float: right;'><b>[3 marks]</b></span>"
   ]
  },
  {
   "cell_type": "code",
   "execution_count": 146,
   "metadata": {},
   "outputs": [
    {
     "data": {
      "text/html": [
       "<div>\n",
       "<style scoped>\n",
       "    .dataframe tbody tr th:only-of-type {\n",
       "        vertical-align: middle;\n",
       "    }\n",
       "\n",
       "    .dataframe tbody tr th {\n",
       "        vertical-align: top;\n",
       "    }\n",
       "\n",
       "    .dataframe thead th {\n",
       "        text-align: right;\n",
       "    }\n",
       "</style>\n",
       "<table border=\"1\" class=\"dataframe\">\n",
       "  <thead>\n",
       "    <tr style=\"text-align: right;\">\n",
       "      <th></th>\n",
       "      <th>UniqueID</th>\n",
       "      <th>Vehicle Class</th>\n",
       "      <th>Engine Size(L)</th>\n",
       "      <th>Cylinders</th>\n",
       "      <th>Transmission</th>\n",
       "      <th>Number of Gear</th>\n",
       "      <th>Fuel Type</th>\n",
       "      <th>Fuel Consumption City (L/100 km)</th>\n",
       "      <th>Fuel Consumption Hwy (L/100 km)</th>\n",
       "      <th>Fuel Consumption Comb (L/100 km)</th>\n",
       "      <th>Fuel Consumption Comb (mpg)</th>\n",
       "      <th>CO2 Emissions(g/km)</th>\n",
       "    </tr>\n",
       "  </thead>\n",
       "  <tbody>\n",
       "    <tr>\n",
       "      <th>0</th>\n",
       "      <td>4431257050385092718</td>\n",
       "      <td>0</td>\n",
       "      <td>2.0</td>\n",
       "      <td>4</td>\n",
       "      <td>0</td>\n",
       "      <td>5.0</td>\n",
       "      <td>4</td>\n",
       "      <td>9.9</td>\n",
       "      <td>6.7</td>\n",
       "      <td>8.5</td>\n",
       "      <td>33</td>\n",
       "      <td>196</td>\n",
       "    </tr>\n",
       "    <tr>\n",
       "      <th>1</th>\n",
       "      <td>7272501878989789175</td>\n",
       "      <td>0</td>\n",
       "      <td>2.4</td>\n",
       "      <td>4</td>\n",
       "      <td>1</td>\n",
       "      <td>6.0</td>\n",
       "      <td>4</td>\n",
       "      <td>11.2</td>\n",
       "      <td>7.7</td>\n",
       "      <td>9.6</td>\n",
       "      <td>29</td>\n",
       "      <td>221</td>\n",
       "    </tr>\n",
       "    <tr>\n",
       "      <th>2</th>\n",
       "      <td>871771505959663499</td>\n",
       "      <td>0</td>\n",
       "      <td>1.5</td>\n",
       "      <td>4</td>\n",
       "      <td>0</td>\n",
       "      <td>7.0</td>\n",
       "      <td>4</td>\n",
       "      <td>6.0</td>\n",
       "      <td>5.8</td>\n",
       "      <td>5.9</td>\n",
       "      <td>48</td>\n",
       "      <td>136</td>\n",
       "    </tr>\n",
       "    <tr>\n",
       "      <th>3</th>\n",
       "      <td>6497200756518372995</td>\n",
       "      <td>4</td>\n",
       "      <td>3.5</td>\n",
       "      <td>6</td>\n",
       "      <td>0</td>\n",
       "      <td>6.0</td>\n",
       "      <td>4</td>\n",
       "      <td>12.7</td>\n",
       "      <td>9.1</td>\n",
       "      <td>11.1</td>\n",
       "      <td>25</td>\n",
       "      <td>255</td>\n",
       "    </tr>\n",
       "    <tr>\n",
       "      <th>4</th>\n",
       "      <td>7315936316372124351</td>\n",
       "      <td>4</td>\n",
       "      <td>3.5</td>\n",
       "      <td>6</td>\n",
       "      <td>0</td>\n",
       "      <td>6.0</td>\n",
       "      <td>4</td>\n",
       "      <td>12.1</td>\n",
       "      <td>8.7</td>\n",
       "      <td>10.6</td>\n",
       "      <td>27</td>\n",
       "      <td>244</td>\n",
       "    </tr>\n",
       "  </tbody>\n",
       "</table>\n",
       "</div>"
      ],
      "text/plain": [
       "              UniqueID  Vehicle Class  Engine Size(L)  Cylinders  \\\n",
       "0  4431257050385092718              0             2.0          4   \n",
       "1  7272501878989789175              0             2.4          4   \n",
       "2   871771505959663499              0             1.5          4   \n",
       "3  6497200756518372995              4             3.5          6   \n",
       "4  7315936316372124351              4             3.5          6   \n",
       "\n",
       "   Transmission  Number of Gear  Fuel Type  Fuel Consumption City (L/100 km)  \\\n",
       "0             0             5.0          4                               9.9   \n",
       "1             1             6.0          4                              11.2   \n",
       "2             0             7.0          4                               6.0   \n",
       "3             0             6.0          4                              12.7   \n",
       "4             0             6.0          4                              12.1   \n",
       "\n",
       "   Fuel Consumption Hwy (L/100 km)  Fuel Consumption Comb (L/100 km)  \\\n",
       "0                              6.7                               8.5   \n",
       "1                              7.7                               9.6   \n",
       "2                              5.8                               5.9   \n",
       "3                              9.1                              11.1   \n",
       "4                              8.7                              10.6   \n",
       "\n",
       "   Fuel Consumption Comb (mpg)  CO2 Emissions(g/km)  \n",
       "0                           33                  196  \n",
       "1                           29                  221  \n",
       "2                           48                  136  \n",
       "3                           25                  255  \n",
       "4                           27                  244  "
      ]
     },
     "execution_count": 146,
     "metadata": {},
     "output_type": "execute_result"
    }
   ],
   "source": [
    "data['Vehicle Class'] = le.fit_transform(data['Vehicle Class'])\n",
    "data.head()"
   ]
  },
  {
   "cell_type": "code",
   "execution_count": 147,
   "metadata": {},
   "outputs": [
    {
     "data": {
      "image/png": "[encoded data removed]",
      "text/plain": [
       "<Figure size 1080x360 with 1 Axes>"
      ]
     },
     "metadata": {
      "needs_background": "light"
     },
     "output_type": "display_data"
    }
   ],
   "source": [
    "# YOUR CODE HERE\n",
    "fig = plt.figure(figsize=(15,5))\n",
    "colors=[\"red\",\"blue\",\"green\",\"purple\",\"orange\"]\n",
    "\n",
    "pca = PCA(n_components=2)\n",
    "data_reduced = pd.DataFrame(pca.fit_transform(data[['Fuel Consumption Comb (L/100 km)', 'CO2 Emissions(g/km)', 'Engine Size(L)', 'Cylinders']]))\n",
    "\n",
    "# KMeans model\n",
    "kmc_model = KMeans(n_clusters=5, init='k-means++')\n",
    "kmc_model.fit(data_reduced)\n",
    "\n",
    "for i in range(np.max(kmc_model.labels_)+1):\n",
    "    plt.scatter(data_reduced[kmc_model.labels_==i].iloc[:,0], data_reduced[kmc_model.labels_==i].iloc[:,1], label=1, c=colors[i], alpha=0.5)\n",
    "plt.scatter(kmc_model.cluster_centers_[:,0], kmc_model.cluster_centers_[:,1], label='Cluster Centers', c=\"black\", s=200)\n",
    "plt.legend()\n",
    "plt.show()"
   ]
  },
  {
   "cell_type": "code",
   "execution_count": null,
   "metadata": {},
   "outputs": [
    {
     "data": {
      "text/plain": [
       "0    1954\n",
       "4    1952\n",
       "2    1186\n",
       "3     697\n",
       "1     639\n",
       "6     497\n",
       "5     460\n",
       "Name: Vehicle Class, dtype: int64"
      ]
     },
     "execution_count": 152,
     "metadata": {},
     "output_type": "execute_result"
    }
   ],
   "source": [
    "data['Vehicle Class'].value_counts()"
   ]
  },
  {
   "cell_type": "code",
   "execution_count": 151,
   "metadata": {},
   "outputs": [
    {
     "data": {
      "text/html": [
       "<div>\n",
       "<style scoped>\n",
       "    .dataframe tbody tr th:only-of-type {\n",
       "        vertical-align: middle;\n",
       "    }\n",
       "\n",
       "    .dataframe tbody tr th {\n",
       "        vertical-align: top;\n",
       "    }\n",
       "\n",
       "    .dataframe thead th {\n",
       "        text-align: right;\n",
       "    }\n",
       "</style>\n",
       "<table border=\"1\" class=\"dataframe\">\n",
       "  <thead>\n",
       "    <tr style=\"text-align: right;\">\n",
       "      <th></th>\n",
       "      <th>Cluster</th>\n",
       "      <th>Size</th>\n",
       "      <th>Most vehicle class in cluster</th>\n",
       "    </tr>\n",
       "  </thead>\n",
       "  <tbody>\n",
       "    <tr>\n",
       "      <th>0</th>\n",
       "      <td>0</td>\n",
       "      <td>2069</td>\n",
       "      <td>0    0\n",
       "dtype: int32</td>\n",
       "    </tr>\n",
       "    <tr>\n",
       "      <th>1</th>\n",
       "      <td>1</td>\n",
       "      <td>442</td>\n",
       "      <td>0    4\n",
       "dtype: int32</td>\n",
       "    </tr>\n",
       "    <tr>\n",
       "      <th>2</th>\n",
       "      <td>2</td>\n",
       "      <td>1493</td>\n",
       "      <td>0    0\n",
       "dtype: int32</td>\n",
       "    </tr>\n",
       "    <tr>\n",
       "      <th>3</th>\n",
       "      <td>3</td>\n",
       "      <td>1440</td>\n",
       "      <td>0    4\n",
       "dtype: int32</td>\n",
       "    </tr>\n",
       "    <tr>\n",
       "      <th>4</th>\n",
       "      <td>4</td>\n",
       "      <td>1941</td>\n",
       "      <td>0    4\n",
       "dtype: int32</td>\n",
       "    </tr>\n",
       "  </tbody>\n",
       "</table>\n",
       "</div>"
      ],
      "text/plain": [
       "   Cluster  Size Most vehicle class in cluster\n",
       "0        0  2069           0    0\n",
       "dtype: int32\n",
       "1        1   442           0    4\n",
       "dtype: int32\n",
       "2        2  1493           0    0\n",
       "dtype: int32\n",
       "3        3  1440           0    4\n",
       "dtype: int32\n",
       "4        4  1941           0    4\n",
       "dtype: int32"
      ]
     },
     "execution_count": 151,
     "metadata": {},
     "output_type": "execute_result"
    }
   ],
   "source": [
    "k = np.max(kmc_model.labels_)+1\n",
    "df_clusters = [data[kmc_model.labels_==i] for i in range(k)]\n",
    "\n",
    "cluster_dict = {\n",
    "    'Cluster': list(range(k)),\n",
    "    'Size': [len(df_clusters[i]) for i in range(k)],\n",
    "    'Most vehicle class in cluster':  [round(df_clusters[i]['Vehicle Class'].mode()) for i in range(k)]\n",
    "}\n",
    "pd.DataFrame(cluster_dict)"
   ]
  },
  {
   "cell_type": "code",
   "execution_count": 149,
   "metadata": {},
   "outputs": [
    {
     "name": "stdout",
     "output_type": "stream",
     "text": [
      "Cluster label 0:\n",
      "[[  0   1   2   3   4   5   6]\n",
      " [660 132 384   5 630 102 156]] \n",
      "\n",
      "Cluster label 1:\n",
      "[[  0   1   2   3   4   5   6]\n",
      " [ 59  48  34  44 108  80  69]] \n",
      "\n",
      "Cluster label 2:\n",
      "[[  0   1   2   4   5   6]\n",
      " [617  76 443 155  66 136]] \n",
      "\n",
      "Cluster label 3:\n",
      "[[  0   1   2   3   4   5   6]\n",
      " [195 159 133 359 457 105  32]] \n",
      "\n",
      "Cluster label 4:\n",
      "[[  0   1   2   3   4   5   6]\n",
      " [423 224 192 289 602 107 104]] \n",
      "\n"
     ]
    }
   ],
   "source": [
    "# Vehicle classes - COMPACT, SUV, MID-SIZE, TWO-SEATER, FULL-SIZE, PICKUP TRUCK (0, 1, 2, 3, 4, 5, 6)\n",
    "for i in range(np.max(kmc_model.labels_)+1):\n",
    "    print(f'Cluster label {i}:')\n",
    "    unique, counts = np.unique(data[kmc_model.labels_==i][\"Vehicle Class\"], return_counts=True)\n",
    "    print(np.asarray((unique, counts)), \"\\n\")"
   ]
  },
  {
   "cell_type": "raw",
   "metadata": {},
   "source": [
    "# YOUR ANSWER HERE\n",
    "Cluster 0 has mostly COMPACT and TWO-SEATERS, \n",
    "Cluster 1 has mostly TWO-SEATERS,\n",
    "Cluster 2 has mostly COMPACT, and MID-SIZE,\n",
    "Cluster 3 has mostly MID-SIZE and TWO-SEATER,\n",
    "Cluster 4 has mostly COMPACT and TWO-SEATER.\n",
    "\n",
    "code from Lab12 sample solution"
   ]
  },
  {
   "cell_type": "markdown",
   "metadata": {},
   "source": [
    "#### Q4.5.2 **(COMP6420 ONLY)** Comment on the suitability of Kmeans in this context and examine its strengths and/or limitations for this problem and generally.\n",
    "<span style= 'float: right;'><b>[5 marks]</b></span>"
   ]
  },
  {
   "cell_type": "raw",
   "metadata": {},
   "source": [
    "# YOUR ANSWER HERE\n"
   ]
  },
  {
   "cell_type": "markdown",
   "metadata": {},
   "source": [
    "****\n",
    "## Q5 - Machine Learning \n",
    "## _[30 Marks for COMP2420, 35 marks for COMP6420]_ (LO3,LO4,LO5,LO6)\n",
    "The following questions will cover the topic of Machine Learning covered in the\n",
    "lectures and labs. Please provide your written answers in the raw text boxes\n",
    "provided, and code answers in the code boxes provided.\n",
    "_Any_ external information you use **must be referenced**. Provide references\n",
    "in the raw textbox or code box as appropriate, and statement of originality."
   ]
  },
  {
   "cell_type": "markdown",
   "metadata": {},
   "source": [
    "### Q5.1: Without actually implementing the model, should you use logistic regression or knn to model the below dataset that has 2 features ```x1``` and ```x2```?"
   ]
  },
  {
   "cell_type": "markdown",
   "metadata": {},
   "source": [
    "<img src=\"data/q4_1.jpg\" width=400 height=400 />"
   ]
  },
  {
   "cell_type": "markdown",
   "metadata": {},
   "source": [
    "#### Q5.1.1) what train score should a default knn model get and why?\n",
    "<span style= 'float: right;'><b>[2 marks]</b></span>"
   ]
  },
  {
   "cell_type": "raw",
   "metadata": {},
   "source": [
    "# YOUR ANSWER HERE\n",
    "0.80"
   ]
  },
  {
   "cell_type": "markdown",
   "metadata": {},
   "source": [
    "#### Q5.1.2) what train score should a default logistic model get and why?\n",
    "<span style= 'float: right;'><b>[2 marks]</b></span>"
   ]
  },
  {
   "cell_type": "raw",
   "metadata": {},
   "source": [
    "# YOUR ANSWER HERE\n",
    "0.70"
   ]
  },
  {
   "cell_type": "markdown",
   "metadata": {},
   "source": [
    "### Q5.2: Classification\n",
    "\n",
    "In this section, we will keep using the car dataset in Question 4. **The task is to predict the `Vehicle Class` of a car.**\n",
    "\n",
    "#### Q5.2.1: Preprocessing and splitting the dataset\n",
    "\n",
    "You need to preprocess the dataset first. Things you need to do includes but not limited to:\n",
    "\n",
    "    1) encode categorical variables to appropriate forms.\n",
    "    \n",
    "    2) handle the missing values appropriately if there are any.\n",
    "    \n",
    "    3) drop unwanted features if necessary.\n",
    "\n",
    "    4) split the dataset to train and test sets. You may choose whatever test/train split you wish but be sure to explicitly state what you have chosen.\n",
    "    \n",
    "    5) justify each transformation/modification you performed.\n",
    "\n",
    "<span style= 'float: right;'><b>[8 marks]</b></span>"
   ]
  },
  {
   "cell_type": "code",
   "execution_count": 93,
   "metadata": {},
   "outputs": [
    {
     "data": {
      "text/html": [
       "<div>\n",
       "<style scoped>\n",
       "    .dataframe tbody tr th:only-of-type {\n",
       "        vertical-align: middle;\n",
       "    }\n",
       "\n",
       "    .dataframe tbody tr th {\n",
       "        vertical-align: top;\n",
       "    }\n",
       "\n",
       "    .dataframe thead th {\n",
       "        text-align: right;\n",
       "    }\n",
       "</style>\n",
       "<table border=\"1\" class=\"dataframe\">\n",
       "  <thead>\n",
       "    <tr style=\"text-align: right;\">\n",
       "      <th></th>\n",
       "      <th>UniqueID</th>\n",
       "      <th>Vehicle Class</th>\n",
       "      <th>Engine Size(L)</th>\n",
       "      <th>Cylinders</th>\n",
       "      <th>Transmission</th>\n",
       "      <th>Number of Gear</th>\n",
       "      <th>Fuel Type</th>\n",
       "      <th>Fuel Consumption City (L/100 km)</th>\n",
       "      <th>Fuel Consumption Hwy (L/100 km)</th>\n",
       "      <th>Fuel Consumption Comb (L/100 km)</th>\n",
       "      <th>Fuel Consumption Comb (mpg)</th>\n",
       "      <th>CO2 Emissions(g/km)</th>\n",
       "    </tr>\n",
       "  </thead>\n",
       "  <tbody>\n",
       "    <tr>\n",
       "      <th>0</th>\n",
       "      <td>4431257050385092718</td>\n",
       "      <td>COMPACT</td>\n",
       "      <td>2.0</td>\n",
       "      <td>4</td>\n",
       "      <td>A</td>\n",
       "      <td>5.0</td>\n",
       "      <td>Z</td>\n",
       "      <td>9.9</td>\n",
       "      <td>6.7</td>\n",
       "      <td>8.5</td>\n",
       "      <td>33</td>\n",
       "      <td>196</td>\n",
       "    </tr>\n",
       "    <tr>\n",
       "      <th>1</th>\n",
       "      <td>7272501878989789175</td>\n",
       "      <td>COMPACT</td>\n",
       "      <td>2.4</td>\n",
       "      <td>4</td>\n",
       "      <td>M</td>\n",
       "      <td>6.0</td>\n",
       "      <td>Z</td>\n",
       "      <td>11.2</td>\n",
       "      <td>7.7</td>\n",
       "      <td>9.6</td>\n",
       "      <td>29</td>\n",
       "      <td>221</td>\n",
       "    </tr>\n",
       "    <tr>\n",
       "      <th>2</th>\n",
       "      <td>871771505959663499</td>\n",
       "      <td>COMPACT</td>\n",
       "      <td>1.5</td>\n",
       "      <td>4</td>\n",
       "      <td>A</td>\n",
       "      <td>7.0</td>\n",
       "      <td>Z</td>\n",
       "      <td>6.0</td>\n",
       "      <td>5.8</td>\n",
       "      <td>5.9</td>\n",
       "      <td>48</td>\n",
       "      <td>136</td>\n",
       "    </tr>\n",
       "    <tr>\n",
       "      <th>3</th>\n",
       "      <td>6497200756518372995</td>\n",
       "      <td>SUV</td>\n",
       "      <td>3.5</td>\n",
       "      <td>6</td>\n",
       "      <td>A</td>\n",
       "      <td>6.0</td>\n",
       "      <td>Z</td>\n",
       "      <td>12.7</td>\n",
       "      <td>9.1</td>\n",
       "      <td>11.1</td>\n",
       "      <td>25</td>\n",
       "      <td>255</td>\n",
       "    </tr>\n",
       "    <tr>\n",
       "      <th>4</th>\n",
       "      <td>7315936316372124351</td>\n",
       "      <td>SUV</td>\n",
       "      <td>3.5</td>\n",
       "      <td>6</td>\n",
       "      <td>A</td>\n",
       "      <td>6.0</td>\n",
       "      <td>Z</td>\n",
       "      <td>12.1</td>\n",
       "      <td>8.7</td>\n",
       "      <td>10.6</td>\n",
       "      <td>27</td>\n",
       "      <td>244</td>\n",
       "    </tr>\n",
       "    <tr>\n",
       "      <th>5</th>\n",
       "      <td>9004354585794528778</td>\n",
       "      <td>MID-SIZE</td>\n",
       "      <td>3.5</td>\n",
       "      <td>6</td>\n",
       "      <td>A</td>\n",
       "      <td>6.0</td>\n",
       "      <td>Z</td>\n",
       "      <td>11.9</td>\n",
       "      <td>7.7</td>\n",
       "      <td>10.0</td>\n",
       "      <td>28</td>\n",
       "      <td>230</td>\n",
       "    </tr>\n",
       "    <tr>\n",
       "      <th>6</th>\n",
       "      <td>6584920238876815891</td>\n",
       "      <td>MID-SIZE</td>\n",
       "      <td>3.5</td>\n",
       "      <td>6</td>\n",
       "      <td>A</td>\n",
       "      <td>6.0</td>\n",
       "      <td>Z</td>\n",
       "      <td>11.8</td>\n",
       "      <td>8.1</td>\n",
       "      <td>10.1</td>\n",
       "      <td>28</td>\n",
       "      <td>232</td>\n",
       "    </tr>\n",
       "    <tr>\n",
       "      <th>7</th>\n",
       "      <td>2758529413893964523</td>\n",
       "      <td>MID-SIZE</td>\n",
       "      <td>3.7</td>\n",
       "      <td>6</td>\n",
       "      <td>A</td>\n",
       "      <td>6.0</td>\n",
       "      <td>Z</td>\n",
       "      <td>12.8</td>\n",
       "      <td>9.0</td>\n",
       "      <td>11.1</td>\n",
       "      <td>25</td>\n",
       "      <td>255</td>\n",
       "    </tr>\n",
       "    <tr>\n",
       "      <th>8</th>\n",
       "      <td>5078440341669063360</td>\n",
       "      <td>MID-SIZE</td>\n",
       "      <td>3.7</td>\n",
       "      <td>6</td>\n",
       "      <td>M</td>\n",
       "      <td>6.0</td>\n",
       "      <td>Z</td>\n",
       "      <td>13.4</td>\n",
       "      <td>9.5</td>\n",
       "      <td>11.6</td>\n",
       "      <td>24</td>\n",
       "      <td>267</td>\n",
       "    </tr>\n",
       "    <tr>\n",
       "      <th>9</th>\n",
       "      <td>6962476287174217737</td>\n",
       "      <td>COMPACT</td>\n",
       "      <td>2.4</td>\n",
       "      <td>4</td>\n",
       "      <td>A</td>\n",
       "      <td>5.0</td>\n",
       "      <td>Z</td>\n",
       "      <td>10.6</td>\n",
       "      <td>7.5</td>\n",
       "      <td>9.2</td>\n",
       "      <td>31</td>\n",
       "      <td>212</td>\n",
       "    </tr>\n",
       "  </tbody>\n",
       "</table>\n",
       "</div>"
      ],
      "text/plain": [
       "              UniqueID Vehicle Class  Engine Size(L)  Cylinders Transmission  \\\n",
       "0  4431257050385092718       COMPACT             2.0          4            A   \n",
       "1  7272501878989789175       COMPACT             2.4          4            M   \n",
       "2   871771505959663499       COMPACT             1.5          4            A   \n",
       "3  6497200756518372995           SUV             3.5          6            A   \n",
       "4  7315936316372124351           SUV             3.5          6            A   \n",
       "5  9004354585794528778      MID-SIZE             3.5          6            A   \n",
       "6  6584920238876815891      MID-SIZE             3.5          6            A   \n",
       "7  2758529413893964523      MID-SIZE             3.7          6            A   \n",
       "8  5078440341669063360      MID-SIZE             3.7          6            M   \n",
       "9  6962476287174217737       COMPACT             2.4          4            A   \n",
       "\n",
       "   Number of Gear Fuel Type  Fuel Consumption City (L/100 km)  \\\n",
       "0             5.0         Z                               9.9   \n",
       "1             6.0         Z                              11.2   \n",
       "2             7.0         Z                               6.0   \n",
       "3             6.0         Z                              12.7   \n",
       "4             6.0         Z                              12.1   \n",
       "5             6.0         Z                              11.9   \n",
       "6             6.0         Z                              11.8   \n",
       "7             6.0         Z                              12.8   \n",
       "8             6.0         Z                              13.4   \n",
       "9             5.0         Z                              10.6   \n",
       "\n",
       "   Fuel Consumption Hwy (L/100 km)  Fuel Consumption Comb (L/100 km)  \\\n",
       "0                              6.7                               8.5   \n",
       "1                              7.7                               9.6   \n",
       "2                              5.8                               5.9   \n",
       "3                              9.1                              11.1   \n",
       "4                              8.7                              10.6   \n",
       "5                              7.7                              10.0   \n",
       "6                              8.1                              10.1   \n",
       "7                              9.0                              11.1   \n",
       "8                              9.5                              11.6   \n",
       "9                              7.5                               9.2   \n",
       "\n",
       "   Fuel Consumption Comb (mpg)  CO2 Emissions(g/km)  \n",
       "0                           33                  196  \n",
       "1                           29                  221  \n",
       "2                           48                  136  \n",
       "3                           25                  255  \n",
       "4                           27                  244  \n",
       "5                           28                  230  \n",
       "6                           28                  232  \n",
       "7                           25                  255  \n",
       "8                           24                  267  \n",
       "9                           31                  212  "
      ]
     },
     "execution_count": 93,
     "metadata": {},
     "output_type": "execute_result"
    }
   ],
   "source": [
    "# YOUR CODE HERE\n",
    "data = pd.read_csv(\"data/Q4Q5.csv\")\n",
    "data.head(10)"
   ]
  },
  {
   "cell_type": "code",
   "execution_count": 94,
   "metadata": {},
   "outputs": [
    {
     "name": "stdout",
     "output_type": "stream",
     "text": [
      "These columns have nan:  ['Vehicle Class', 'Number of Gear']\n",
      "After pre-processing, these columns have Nan:  ['Vehicle Class']\n"
     ]
    }
   ],
   "source": [
    "# Check for missing values\n",
    "print(\"These columns have nan: \", data.columns[data.isna().any()].tolist())\n",
    "cols = ['Number of Gear']\n",
    "data[cols] = data[cols].fillna(data.mean().iloc[0])\n",
    "print(\"After pre-processing, these columns have Nan: \", data.columns[data.isna().any()].tolist())"
   ]
  },
  {
   "cell_type": "code",
   "execution_count": 95,
   "metadata": {},
   "outputs": [
    {
     "data": {
      "text/html": [
       "<div>\n",
       "<style scoped>\n",
       "    .dataframe tbody tr th:only-of-type {\n",
       "        vertical-align: middle;\n",
       "    }\n",
       "\n",
       "    .dataframe tbody tr th {\n",
       "        vertical-align: top;\n",
       "    }\n",
       "\n",
       "    .dataframe thead th {\n",
       "        text-align: right;\n",
       "    }\n",
       "</style>\n",
       "<table border=\"1\" class=\"dataframe\">\n",
       "  <thead>\n",
       "    <tr style=\"text-align: right;\">\n",
       "      <th></th>\n",
       "      <th>UniqueID</th>\n",
       "      <th>Vehicle Class</th>\n",
       "      <th>Engine Size(L)</th>\n",
       "      <th>Cylinders</th>\n",
       "      <th>Transmission</th>\n",
       "      <th>Number of Gear</th>\n",
       "      <th>Fuel Type</th>\n",
       "      <th>Fuel Consumption City (L/100 km)</th>\n",
       "      <th>Fuel Consumption Hwy (L/100 km)</th>\n",
       "      <th>Fuel Consumption Comb (L/100 km)</th>\n",
       "      <th>Fuel Consumption Comb (mpg)</th>\n",
       "      <th>CO2 Emissions(g/km)</th>\n",
       "    </tr>\n",
       "  </thead>\n",
       "  <tbody>\n",
       "    <tr>\n",
       "      <th>0</th>\n",
       "      <td>4431257050385092718</td>\n",
       "      <td>0</td>\n",
       "      <td>2.0</td>\n",
       "      <td>4</td>\n",
       "      <td>0</td>\n",
       "      <td>5.0</td>\n",
       "      <td>4</td>\n",
       "      <td>9.9</td>\n",
       "      <td>6.7</td>\n",
       "      <td>8.5</td>\n",
       "      <td>33</td>\n",
       "      <td>196</td>\n",
       "    </tr>\n",
       "    <tr>\n",
       "      <th>1</th>\n",
       "      <td>7272501878989789175</td>\n",
       "      <td>0</td>\n",
       "      <td>2.4</td>\n",
       "      <td>4</td>\n",
       "      <td>1</td>\n",
       "      <td>6.0</td>\n",
       "      <td>4</td>\n",
       "      <td>11.2</td>\n",
       "      <td>7.7</td>\n",
       "      <td>9.6</td>\n",
       "      <td>29</td>\n",
       "      <td>221</td>\n",
       "    </tr>\n",
       "    <tr>\n",
       "      <th>2</th>\n",
       "      <td>871771505959663499</td>\n",
       "      <td>0</td>\n",
       "      <td>1.5</td>\n",
       "      <td>4</td>\n",
       "      <td>0</td>\n",
       "      <td>7.0</td>\n",
       "      <td>4</td>\n",
       "      <td>6.0</td>\n",
       "      <td>5.8</td>\n",
       "      <td>5.9</td>\n",
       "      <td>48</td>\n",
       "      <td>136</td>\n",
       "    </tr>\n",
       "    <tr>\n",
       "      <th>3</th>\n",
       "      <td>6497200756518372995</td>\n",
       "      <td>4</td>\n",
       "      <td>3.5</td>\n",
       "      <td>6</td>\n",
       "      <td>0</td>\n",
       "      <td>6.0</td>\n",
       "      <td>4</td>\n",
       "      <td>12.7</td>\n",
       "      <td>9.1</td>\n",
       "      <td>11.1</td>\n",
       "      <td>25</td>\n",
       "      <td>255</td>\n",
       "    </tr>\n",
       "    <tr>\n",
       "      <th>4</th>\n",
       "      <td>7315936316372124351</td>\n",
       "      <td>4</td>\n",
       "      <td>3.5</td>\n",
       "      <td>6</td>\n",
       "      <td>0</td>\n",
       "      <td>6.0</td>\n",
       "      <td>4</td>\n",
       "      <td>12.1</td>\n",
       "      <td>8.7</td>\n",
       "      <td>10.6</td>\n",
       "      <td>27</td>\n",
       "      <td>244</td>\n",
       "    </tr>\n",
       "    <tr>\n",
       "      <th>5</th>\n",
       "      <td>9004354585794528778</td>\n",
       "      <td>2</td>\n",
       "      <td>3.5</td>\n",
       "      <td>6</td>\n",
       "      <td>0</td>\n",
       "      <td>6.0</td>\n",
       "      <td>4</td>\n",
       "      <td>11.9</td>\n",
       "      <td>7.7</td>\n",
       "      <td>10.0</td>\n",
       "      <td>28</td>\n",
       "      <td>230</td>\n",
       "    </tr>\n",
       "    <tr>\n",
       "      <th>6</th>\n",
       "      <td>6584920238876815891</td>\n",
       "      <td>2</td>\n",
       "      <td>3.5</td>\n",
       "      <td>6</td>\n",
       "      <td>0</td>\n",
       "      <td>6.0</td>\n",
       "      <td>4</td>\n",
       "      <td>11.8</td>\n",
       "      <td>8.1</td>\n",
       "      <td>10.1</td>\n",
       "      <td>28</td>\n",
       "      <td>232</td>\n",
       "    </tr>\n",
       "    <tr>\n",
       "      <th>7</th>\n",
       "      <td>2758529413893964523</td>\n",
       "      <td>2</td>\n",
       "      <td>3.7</td>\n",
       "      <td>6</td>\n",
       "      <td>0</td>\n",
       "      <td>6.0</td>\n",
       "      <td>4</td>\n",
       "      <td>12.8</td>\n",
       "      <td>9.0</td>\n",
       "      <td>11.1</td>\n",
       "      <td>25</td>\n",
       "      <td>255</td>\n",
       "    </tr>\n",
       "    <tr>\n",
       "      <th>8</th>\n",
       "      <td>5078440341669063360</td>\n",
       "      <td>2</td>\n",
       "      <td>3.7</td>\n",
       "      <td>6</td>\n",
       "      <td>1</td>\n",
       "      <td>6.0</td>\n",
       "      <td>4</td>\n",
       "      <td>13.4</td>\n",
       "      <td>9.5</td>\n",
       "      <td>11.6</td>\n",
       "      <td>24</td>\n",
       "      <td>267</td>\n",
       "    </tr>\n",
       "    <tr>\n",
       "      <th>9</th>\n",
       "      <td>6962476287174217737</td>\n",
       "      <td>0</td>\n",
       "      <td>2.4</td>\n",
       "      <td>4</td>\n",
       "      <td>0</td>\n",
       "      <td>5.0</td>\n",
       "      <td>4</td>\n",
       "      <td>10.6</td>\n",
       "      <td>7.5</td>\n",
       "      <td>9.2</td>\n",
       "      <td>31</td>\n",
       "      <td>212</td>\n",
       "    </tr>\n",
       "  </tbody>\n",
       "</table>\n",
       "</div>"
      ],
      "text/plain": [
       "              UniqueID  Vehicle Class  Engine Size(L)  Cylinders  \\\n",
       "0  4431257050385092718              0             2.0          4   \n",
       "1  7272501878989789175              0             2.4          4   \n",
       "2   871771505959663499              0             1.5          4   \n",
       "3  6497200756518372995              4             3.5          6   \n",
       "4  7315936316372124351              4             3.5          6   \n",
       "5  9004354585794528778              2             3.5          6   \n",
       "6  6584920238876815891              2             3.5          6   \n",
       "7  2758529413893964523              2             3.7          6   \n",
       "8  5078440341669063360              2             3.7          6   \n",
       "9  6962476287174217737              0             2.4          4   \n",
       "\n",
       "   Transmission  Number of Gear  Fuel Type  Fuel Consumption City (L/100 km)  \\\n",
       "0             0             5.0          4                               9.9   \n",
       "1             1             6.0          4                              11.2   \n",
       "2             0             7.0          4                               6.0   \n",
       "3             0             6.0          4                              12.7   \n",
       "4             0             6.0          4                              12.1   \n",
       "5             0             6.0          4                              11.9   \n",
       "6             0             6.0          4                              11.8   \n",
       "7             0             6.0          4                              12.8   \n",
       "8             1             6.0          4                              13.4   \n",
       "9             0             5.0          4                              10.6   \n",
       "\n",
       "   Fuel Consumption Hwy (L/100 km)  Fuel Consumption Comb (L/100 km)  \\\n",
       "0                              6.7                               8.5   \n",
       "1                              7.7                               9.6   \n",
       "2                              5.8                               5.9   \n",
       "3                              9.1                              11.1   \n",
       "4                              8.7                              10.6   \n",
       "5                              7.7                              10.0   \n",
       "6                              8.1                              10.1   \n",
       "7                              9.0                              11.1   \n",
       "8                              9.5                              11.6   \n",
       "9                              7.5                               9.2   \n",
       "\n",
       "   Fuel Consumption Comb (mpg)  CO2 Emissions(g/km)  \n",
       "0                           33                  196  \n",
       "1                           29                  221  \n",
       "2                           48                  136  \n",
       "3                           25                  255  \n",
       "4                           27                  244  \n",
       "5                           28                  230  \n",
       "6                           28                  232  \n",
       "7                           25                  255  \n",
       "8                           24                  267  \n",
       "9                           31                  212  "
      ]
     },
     "execution_count": 95,
     "metadata": {},
     "output_type": "execute_result"
    }
   ],
   "source": [
    "# Atrtibutes to encode - Transmission, Fuel type, Vehicle class\n",
    "le = LabelEncoder()\n",
    "data['Transmission'] = le.fit_transform(data['Transmission'])\n",
    "data['Fuel Type'] = le.fit_transform(data['Fuel Type'])\n",
    "data['Vehicle Class'] = le.fit_transform(data['Vehicle Class'])\n",
    "data.head(10)"
   ]
  },
  {
   "cell_type": "code",
   "execution_count": 96,
   "metadata": {},
   "outputs": [
    {
     "data": {
      "image/png": "[encoded data removed]",
      "text/plain": [
       "<Figure size 1152x576 with 2 Axes>"
      ]
     },
     "metadata": {
      "needs_background": "light"
     },
     "output_type": "display_data"
    }
   ],
   "source": [
    "# Using correlation plot to see which features correlatet the most with vehicle class - Code from assignment\n",
    "def plot_corr_heatmap(data):\n",
    "    '''\n",
    "    plot correlation's matrix to explore dependency between features \n",
    "    '''\n",
    "    corr_matrix = data.corr()\n",
    "    plt.figure(figsize=(16, 8))\n",
    "    heatmap = sns.heatmap(data.corr()[['Vehicle Class']].sort_values(by='Vehicle Class', ascending=False), vmin=-1, vmax=1, annot=True)\n",
    "    plt.show()\n",
    "plot_corr_heatmap(data)\n",
    "# use all positive correrlation features"
   ]
  },
  {
   "cell_type": "code",
   "execution_count": 97,
   "metadata": {},
   "outputs": [
    {
     "data": {
      "text/html": [
       "<div>\n",
       "<style scoped>\n",
       "    .dataframe tbody tr th:only-of-type {\n",
       "        vertical-align: middle;\n",
       "    }\n",
       "\n",
       "    .dataframe tbody tr th {\n",
       "        vertical-align: top;\n",
       "    }\n",
       "\n",
       "    .dataframe thead th {\n",
       "        text-align: right;\n",
       "    }\n",
       "</style>\n",
       "<table border=\"1\" class=\"dataframe\">\n",
       "  <thead>\n",
       "    <tr style=\"text-align: right;\">\n",
       "      <th></th>\n",
       "      <th>Vehicle Class</th>\n",
       "      <th>Engine Size(L)</th>\n",
       "      <th>Cylinders</th>\n",
       "      <th>Number of Gear</th>\n",
       "      <th>Fuel Consumption City (L/100 km)</th>\n",
       "      <th>Fuel Consumption Hwy (L/100 km)</th>\n",
       "      <th>Fuel Consumption Comb (L/100 km)</th>\n",
       "      <th>CO2 Emissions(g/km)</th>\n",
       "    </tr>\n",
       "  </thead>\n",
       "  <tbody>\n",
       "    <tr>\n",
       "      <th>0</th>\n",
       "      <td>0</td>\n",
       "      <td>2.0</td>\n",
       "      <td>4</td>\n",
       "      <td>5.0</td>\n",
       "      <td>9.9</td>\n",
       "      <td>6.7</td>\n",
       "      <td>8.5</td>\n",
       "      <td>196</td>\n",
       "    </tr>\n",
       "    <tr>\n",
       "      <th>1</th>\n",
       "      <td>0</td>\n",
       "      <td>2.4</td>\n",
       "      <td>4</td>\n",
       "      <td>6.0</td>\n",
       "      <td>11.2</td>\n",
       "      <td>7.7</td>\n",
       "      <td>9.6</td>\n",
       "      <td>221</td>\n",
       "    </tr>\n",
       "    <tr>\n",
       "      <th>2</th>\n",
       "      <td>0</td>\n",
       "      <td>1.5</td>\n",
       "      <td>4</td>\n",
       "      <td>7.0</td>\n",
       "      <td>6.0</td>\n",
       "      <td>5.8</td>\n",
       "      <td>5.9</td>\n",
       "      <td>136</td>\n",
       "    </tr>\n",
       "    <tr>\n",
       "      <th>3</th>\n",
       "      <td>4</td>\n",
       "      <td>3.5</td>\n",
       "      <td>6</td>\n",
       "      <td>6.0</td>\n",
       "      <td>12.7</td>\n",
       "      <td>9.1</td>\n",
       "      <td>11.1</td>\n",
       "      <td>255</td>\n",
       "    </tr>\n",
       "    <tr>\n",
       "      <th>4</th>\n",
       "      <td>4</td>\n",
       "      <td>3.5</td>\n",
       "      <td>6</td>\n",
       "      <td>6.0</td>\n",
       "      <td>12.1</td>\n",
       "      <td>8.7</td>\n",
       "      <td>10.6</td>\n",
       "      <td>244</td>\n",
       "    </tr>\n",
       "  </tbody>\n",
       "</table>\n",
       "</div>"
      ],
      "text/plain": [
       "   Vehicle Class  Engine Size(L)  Cylinders  Number of Gear  \\\n",
       "0              0             2.0          4             5.0   \n",
       "1              0             2.4          4             6.0   \n",
       "2              0             1.5          4             7.0   \n",
       "3              4             3.5          6             6.0   \n",
       "4              4             3.5          6             6.0   \n",
       "\n",
       "   Fuel Consumption City (L/100 km)  Fuel Consumption Hwy (L/100 km)  \\\n",
       "0                               9.9                              6.7   \n",
       "1                              11.2                              7.7   \n",
       "2                               6.0                              5.8   \n",
       "3                              12.7                              9.1   \n",
       "4                              12.1                              8.7   \n",
       "\n",
       "   Fuel Consumption Comb (L/100 km)  CO2 Emissions(g/km)  \n",
       "0                               8.5                  196  \n",
       "1                               9.6                  221  \n",
       "2                               5.9                  136  \n",
       "3                              11.1                  255  \n",
       "4                              10.6                  244  "
      ]
     },
     "execution_count": 97,
     "metadata": {},
     "output_type": "execute_result"
    }
   ],
   "source": [
    "data = data.drop(columns=['Fuel Consumption Comb (mpg)', 'Fuel Type', 'Transmission', 'UniqueID'], axis=1)\n",
    "data.head()"
   ]
  },
  {
   "cell_type": "code",
   "execution_count": 98,
   "metadata": {},
   "outputs": [
    {
     "data": {
      "text/html": [
       "<div>\n",
       "<style scoped>\n",
       "    .dataframe tbody tr th:only-of-type {\n",
       "        vertical-align: middle;\n",
       "    }\n",
       "\n",
       "    .dataframe tbody tr th {\n",
       "        vertical-align: top;\n",
       "    }\n",
       "\n",
       "    .dataframe thead th {\n",
       "        text-align: right;\n",
       "    }\n",
       "</style>\n",
       "<table border=\"1\" class=\"dataframe\">\n",
       "  <thead>\n",
       "    <tr style=\"text-align: right;\">\n",
       "      <th></th>\n",
       "      <th>Vehicle Class</th>\n",
       "      <th>Engine Size(L)</th>\n",
       "      <th>Cylinders</th>\n",
       "      <th>Number of Gear</th>\n",
       "      <th>Fuel Consumption City (L/100 km)</th>\n",
       "      <th>Fuel Consumption Hwy (L/100 km)</th>\n",
       "      <th>Fuel Consumption Comb (L/100 km)</th>\n",
       "      <th>CO2 Emissions(g/km)</th>\n",
       "    </tr>\n",
       "  </thead>\n",
       "  <tbody>\n",
       "    <tr>\n",
       "      <th>count</th>\n",
       "      <td>7385.000000</td>\n",
       "      <td>7.385000e+03</td>\n",
       "      <td>7.385000e+03</td>\n",
       "      <td>7.385000e+03</td>\n",
       "      <td>7.385000e+03</td>\n",
       "      <td>7.385000e+03</td>\n",
       "      <td>7.385000e+03</td>\n",
       "      <td>7.385000e+03</td>\n",
       "    </tr>\n",
       "    <tr>\n",
       "      <th>mean</th>\n",
       "      <td>2.463372</td>\n",
       "      <td>7.931668e-17</td>\n",
       "      <td>4.669401e-17</td>\n",
       "      <td>1.628435e-15</td>\n",
       "      <td>-1.540763e-16</td>\n",
       "      <td>1.186518e-17</td>\n",
       "      <td>-1.359178e-16</td>\n",
       "      <td>-9.971054e-17</td>\n",
       "    </tr>\n",
       "    <tr>\n",
       "      <th>std</th>\n",
       "      <td>1.928655</td>\n",
       "      <td>1.000068e+00</td>\n",
       "      <td>1.000068e+00</td>\n",
       "      <td>1.000068e+00</td>\n",
       "      <td>1.000068e+00</td>\n",
       "      <td>1.000068e+00</td>\n",
       "      <td>1.000068e+00</td>\n",
       "      <td>1.000068e+00</td>\n",
       "    </tr>\n",
       "    <tr>\n",
       "      <th>min</th>\n",
       "      <td>0.000000</td>\n",
       "      <td>-1.669081e+00</td>\n",
       "      <td>-1.430399e+00</td>\n",
       "      <td>-2.039801e-01</td>\n",
       "      <td>-2.387556e+00</td>\n",
       "      <td>-2.266643e+00</td>\n",
       "      <td>-2.377017e+00</td>\n",
       "      <td>-2.642080e+00</td>\n",
       "    </tr>\n",
       "    <tr>\n",
       "      <th>25%</th>\n",
       "      <td>0.000000</td>\n",
       "      <td>-8.567210e-01</td>\n",
       "      <td>-8.834076e-01</td>\n",
       "      <td>-2.039801e-01</td>\n",
       "      <td>-7.018593e-01</td>\n",
       "      <td>-6.931179e-01</td>\n",
       "      <td>-7.174441e-01</td>\n",
       "      <td>-7.278351e-01</td>\n",
       "    </tr>\n",
       "    <tr>\n",
       "      <th>50%</th>\n",
       "      <td>2.000000</td>\n",
       "      <td>-1.182115e-01</td>\n",
       "      <td>2.105750e-01</td>\n",
       "      <td>-2.039801e-01</td>\n",
       "      <td>-1.304368e-01</td>\n",
       "      <td>-1.536237e-01</td>\n",
       "      <td>-1.296787e-01</td>\n",
       "      <td>-7.835924e-02</td>\n",
       "    </tr>\n",
       "    <tr>\n",
       "      <th>75%</th>\n",
       "      <td>4.000000</td>\n",
       "      <td>3.987451e-01</td>\n",
       "      <td>2.105750e-01</td>\n",
       "      <td>-2.039801e-01</td>\n",
       "      <td>5.838414e-01</td>\n",
       "      <td>5.207440e-01</td>\n",
       "      <td>5.618100e-01</td>\n",
       "      <td>6.394825e-01</td>\n",
       "    </tr>\n",
       "    <tr>\n",
       "      <th>max</th>\n",
       "      <td>6.000000</td>\n",
       "      <td>3.869740e+00</td>\n",
       "      <td>5.680488e+00</td>\n",
       "      <td>4.902438e+00</td>\n",
       "      <td>5.155222e+00</td>\n",
       "      <td>5.196360e+00</td>\n",
       "      <td>5.229359e+00</td>\n",
       "      <td>4.638887e+00</td>\n",
       "    </tr>\n",
       "  </tbody>\n",
       "</table>\n",
       "</div>"
      ],
      "text/plain": [
       "       Vehicle Class  Engine Size(L)     Cylinders  Number of Gear  \\\n",
       "count    7385.000000    7.385000e+03  7.385000e+03    7.385000e+03   \n",
       "mean        2.463372    7.931668e-17  4.669401e-17    1.628435e-15   \n",
       "std         1.928655    1.000068e+00  1.000068e+00    1.000068e+00   \n",
       "min         0.000000   -1.669081e+00 -1.430399e+00   -2.039801e-01   \n",
       "25%         0.000000   -8.567210e-01 -8.834076e-01   -2.039801e-01   \n",
       "50%         2.000000   -1.182115e-01  2.105750e-01   -2.039801e-01   \n",
       "75%         4.000000    3.987451e-01  2.105750e-01   -2.039801e-01   \n",
       "max         6.000000    3.869740e+00  5.680488e+00    4.902438e+00   \n",
       "\n",
       "       Fuel Consumption City (L/100 km)  Fuel Consumption Hwy (L/100 km)  \\\n",
       "count                      7.385000e+03                     7.385000e+03   \n",
       "mean                      -1.540763e-16                     1.186518e-17   \n",
       "std                        1.000068e+00                     1.000068e+00   \n",
       "min                       -2.387556e+00                    -2.266643e+00   \n",
       "25%                       -7.018593e-01                    -6.931179e-01   \n",
       "50%                       -1.304368e-01                    -1.536237e-01   \n",
       "75%                        5.838414e-01                     5.207440e-01   \n",
       "max                        5.155222e+00                     5.196360e+00   \n",
       "\n",
       "       Fuel Consumption Comb (L/100 km)  CO2 Emissions(g/km)  \n",
       "count                      7.385000e+03         7.385000e+03  \n",
       "mean                      -1.359178e-16        -9.971054e-17  \n",
       "std                        1.000068e+00         1.000068e+00  \n",
       "min                       -2.377017e+00        -2.642080e+00  \n",
       "25%                       -7.174441e-01        -7.278351e-01  \n",
       "50%                       -1.296787e-01        -7.835924e-02  \n",
       "75%                        5.618100e-01         6.394825e-01  \n",
       "max                        5.229359e+00         4.638887e+00  "
      ]
     },
     "execution_count": 98,
     "metadata": {},
     "output_type": "execute_result"
    }
   ],
   "source": [
    "# Scale the dataset\n",
    "sc = StandardScaler()\n",
    "data.iloc[:, 1:] = sc.fit_transform(data.iloc[:, 1:])\n",
    "data.describe()"
   ]
  },
  {
   "cell_type": "code",
   "execution_count": 99,
   "metadata": {},
   "outputs": [
    {
     "name": "stdout",
     "output_type": "stream",
     "text": [
      "training shape:  (5908, 7) (5908,)\n",
      "testing shape:  (1477, 7) (1477,)\n"
     ]
    }
   ],
   "source": [
    "# Split the dataset\n",
    "X = data.iloc[:, 1:]      # feature variables\n",
    "y = data['Vehicle Class'] # target variable\n",
    "\n",
    "# split and train\n",
    "X_train, X_test, y_train, y_test = train_test_split(X, y, train_size=0.8, random_state=2420)\n",
    "\n",
    "print(\"training shape: \", X_train.shape, y_train.shape)\n",
    "print(\"testing shape: \", X_test.shape, y_test.shape)"
   ]
  },
  {
   "cell_type": "raw",
   "metadata": {},
   "source": [
    "# YOUR ANSWER HERE\n",
    "First I filled in missing values using the mean method. Then I encoded categorical attributes using Label Encoder. Next using a coprrelation heatmap, I dropped features that have a negative correlation with the class to predict. Then I scaled the data set because CO2 emission had a higher range than other features.\n",
    "To split the dataset, I went with the standard train size of 0.8."
   ]
  },
  {
   "cell_type": "markdown",
   "metadata": {},
   "source": [
    "#### Q5.2.2: Fit a Decision Tree Model\n",
    "\n",
    "Now you need to **fit the training data using a decision tree model**.\n",
    "<span style= 'float: right;'><b>[2 marks]</b></span>"
   ]
  },
  {
   "cell_type": "code",
   "execution_count": 100,
   "metadata": {},
   "outputs": [],
   "source": [
    "# YOUR CODE HERE\n",
    "decisionTree = DecisionTreeClassifier()\n",
    "decisionTreeModel = decisionTree.fit(X_train, y_train)"
   ]
  },
  {
   "cell_type": "markdown",
   "metadata": {},
   "source": [
    "#### Q5.2.3: Plot the top three nodes of the decision tree and answer the following questions:\n",
    "1. For each of the nodes, how many samples are there in the node before split?\n",
    "2. For each of the nodes, what feature and value is the node split on?\n",
    "3. For the **top node only**, using the plot as a reference, do your own calculation to verify the gini or entropy impurity value shown. (refer to [week 5](https://comp.anu.edu.au/courses/comp2420/lectures/campus_only/2022/W5_1_COMP2420_6420_Decision_Trees__PKJ_.pdf) slide 21)\n",
    "\n",
    "<span style= 'float: right;'><b>[6 marks]</b></span>"
   ]
  },
  {
   "cell_type": "code",
   "execution_count": 178,
   "metadata": {},
   "outputs": [],
   "source": [
    "# YOUR CODE HERE\n",
    "tree.export_graphviz(decisionTreeModel, \"tree.dot\")"
   ]
  },
  {
   "cell_type": "markdown",
   "metadata": {},
   "source": [
    "![Tree](image/tree.png)"
   ]
  },
  {
   "cell_type": "raw",
   "metadata": {},
   "source": [
    "# YOUR ANSWER HERE\n"
   ]
  },
  {
   "cell_type": "markdown",
   "metadata": {},
   "source": [
    "#### Q5.2.4. Report the overall mean accuracy on the training set and the overall mean accuracy on the testing set.\n",
    "<span style= 'float: right;'><b>[2 marks]</b></span>"
   ]
  },
  {
   "cell_type": "code",
   "execution_count": 102,
   "metadata": {},
   "outputs": [
    {
     "name": "stdout",
     "output_type": "stream",
     "text": [
      "Training set score: 0.954\n",
      "Test set score: 0.739\n"
     ]
    }
   ],
   "source": [
    "# YOUR CODE HERE\n",
    "print(\"Training set score: {:.3f}\".format(decisionTree.score(X_train,y_train)))\n",
    "print(\"Test set score: {:.3f}\".format(decisionTree.score(X_test,y_test)))"
   ]
  },
  {
   "cell_type": "markdown",
   "metadata": {},
   "source": [
    "#### Q5.2.5. Report the accuracy for the target class `MID-SIZE` only using the testing set.\n",
    "<span style= 'float: right;'><b>[3 marks]</b></span>"
   ]
  },
  {
   "cell_type": "code",
   "execution_count": 108,
   "metadata": {},
   "outputs": [
    {
     "name": "stdout",
     "output_type": "stream",
     "text": [
      "              precision    recall  f1-score   support\n",
      "\n",
      "           0       0.72      0.75      0.73       415\n",
      "           1       0.68      0.69      0.68       127\n",
      "           2       0.67      0.58      0.62       245\n",
      "           3       0.87      0.87      0.87       134\n",
      "           4       0.82      0.84      0.83       369\n",
      "           5       0.70      0.83      0.76        75\n",
      "           6       0.61      0.57      0.59       112\n",
      "\n",
      "    accuracy                           0.74      1477\n",
      "   macro avg       0.72      0.73      0.73      1477\n",
      "weighted avg       0.74      0.74      0.74      1477\n",
      "\n"
     ]
    }
   ],
   "source": [
    "# YOUR CODE HERE\n",
    "y_pred = decisionTreeModel.predict(X_test)\n",
    "print(classification_report(y_test, y_pred))"
   ]
  },
  {
   "cell_type": "markdown",
   "metadata": {},
   "source": [
    "#### Q5.2.6 Print the confusion matrix, interpret the stengths and weaknesses of the model on the dataset.\n",
    "<span style= 'float: right;'><b>[5 marks]</b></span>"
   ]
  },
  {
   "cell_type": "code",
   "execution_count": 62,
   "metadata": {},
   "outputs": [
    {
     "name": "stdout",
     "output_type": "stream",
     "text": [
      "[[309  17  35   0  16  16  22]\n",
      " [ 14  90  19   1   2   0   1]\n",
      " [ 64  16 139   3  12   5   6]\n",
      " [  2   0   1 117  13   1   0]\n",
      " [ 19   4   7  13 315   3   8]\n",
      " [  7   2   3   1   2  60   0]\n",
      " [ 21   1   6   0  16   3  65]]\n"
     ]
    }
   ],
   "source": [
    "# YOUR CODE HERE\n",
    "y_pred = decisionTreeModel.predict(X_test)\n",
    "cm = confusion_matrix(y_test, y_pred)\n",
    "print(cm)\n"
   ]
  },
  {
   "cell_type": "raw",
   "metadata": {},
   "source": [
    "# YOUR ANSWER HERE\n"
   ]
  },
  {
   "cell_type": "markdown",
   "metadata": {},
   "source": [
    "#### Q5.2.7 **(COMP6420 ONLY)** Is the model overfitting or underfitting? If it is, can you mitigate the issue and achieve better test set performance?\n",
    "<span style= 'float: right;'><b>[5 marks]</b></span>"
   ]
  },
  {
   "cell_type": "raw",
   "metadata": {},
   "source": [
    "# YOUR ANSWER HERE\n"
   ]
  },
  {
   "cell_type": "markdown",
   "metadata": {},
   "source": [
    "****\n",
    "## IMPORTANT - SUBMISSION CHECKLIST\n",
    "### Please type YES to this submission question to indicate that you are aware of the following and have completed or will complete the relevant associated tasks by their deadlines:\n",
    "\n",
    "(1.1) You have ensured that the answers to the Jupyter notebook have been saved before you do your final COMMIT and PUSH for submission to the gitlab server.  \n",
    "\n",
    "(1.2)Your Jupyter notebook needs to be in an unzipped format with its original naming. do NOT zip up your notebook for submission and do NOT rename it. \n",
    "\n",
    "(2) You have filled in and submitted your Statement of Originality by the deadline of the exam.  A late submission of the Statement of Originality will NOT be accepted and will invalidate your exam submission.\n",
    "\n",
    "(3.1) Your self-invigilation video includes your screen capture showing all open windows you have used on your computer, sound and live web cam showing you clearly.  \n",
    "\n",
    "(3.2) Your self-invigilation video will be submitted on Wattle by the deadline of 05.00pm Tuesday 07 June 2022 (3 days after the exam is taken). No late submission will be accepted and will constitute a breach of examination conditions.  \n",
    "\n",
    "(3.3) If you had issues with recording your self-invigilation video then you need to let us know about this by filling in the relevant form available on Wattle.  In this case, you will very likely be called for an oral examination.\n",
    "\n",
    "\n"
   ]
  },
  {
   "cell_type": "markdown",
   "metadata": {},
   "source": [
    "### Type your acknowledgement of the submission checklist here to make sure your submission is valid"
   ]
  },
  {
   "cell_type": "raw",
   "metadata": {},
   "source": [
    "Yes"
   ]
  }
 ],
 "metadata": {
  "kernelspec": {
   "display_name": "Python 3 (ipykernel)",
   "language": "python",
   "name": "python3"
  },
  "language_info": {
   "codemirror_mode": {
    "name": "ipython",
    "version": 3
   },
   "file_extension": ".py",
   "mimetype": "text/x-python",
   "name": "python",
   "nbconvert_exporter": "python",
   "pygments_lexer": "ipython3",
   "version": "3.7.11"
  }
 },
 "nbformat": 4,
 "nbformat_minor": 4
}
