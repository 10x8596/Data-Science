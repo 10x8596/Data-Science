{
 "cells": [
  {
   "cell_type": "markdown",
   "metadata": {},
   "source": [
    "<h1 align='center'> COMP2420/COMP6420 - Introduction to Data Management, Analysis and Security</h1>\n",
    "\n",
    "<h2 align='center'> Lab 06 - Decision Trees & Clustering</h2>\n",
    "<h5 align='center'><sub> Author: Afzal Ahmad, 2020 </sub></h5>\n",
    "\n",
    "*****"
   ]
  },
  {
   "cell_type": "markdown",
   "metadata": {},
   "source": [
    "## Note\n",
    "Dear Students, Please do not worry if you are finding it difficult to finish all the lab exercises during the allocated time. The labs were designed to help you think about the weekly topic being studied in depth and contain exercises in increasing order of complexity. You can finish what's left in your free time at home or in the computer labs on campus. If you need input, please go to the drop-in sessions available weekly and/or post your questions on Piazza.\n",
    "***"
   ]
  },
  {
   "cell_type": "markdown",
   "metadata": {},
   "source": [
    "## Aim\n",
    "There are three main aims in this lab:\n",
    "- Introduce you to the Decision Tree algorithm\n",
    "- Describe the difference between supervised and unsupervised algorithms\n",
    "- Introduce the Clustering algorithm as an unsupervised algorithm\n",
    "*****"
   ]
  },
  {
   "cell_type": "markdown",
   "metadata": {},
   "source": [
    "## Learning Outcomes\n",
    "The following course learning outcomes apply to this lab:\n",
    "- L03: Demonstrate basic knowledge and understanding of descriptive and predictive data analysis methods, optimization and search, and knowledge representation.\n",
    "- L04: Formulate and extract descriptive and predictive statistics from data\n",
    "- L05: Analyse and interpret results from descriptive and predictive data analysis\n",
    "- L06: Apply their knowledge to a given problem domain and articulate potential data analysis problems\n",
    "\n",
    "***"
   ]
  },
  {
   "cell_type": "markdown",
   "metadata": {},
   "source": [
    "## Preparation\n",
    "\n",
    "Before starting this lab, we suggest you complete the following:\n",
    "- Watch the lectures this week\n",
    "- Complete both Lab04 (regression) and Lab05 (classification) and become familiar with both categories of techniques\n",
    "\n",
    "\n",
    "The following functions may be useful for this lab:\n",
    "\n",
    "| Function                     | Description |\n",
    "| ---:                         | :---        |\n",
    "| `DecisionTreeClassifier`, `DecisionTreeRegressor`              | create instances of the respective Decision Tree modules |\n",
    "| `tree.export_graphviz(model, output)`         | export `model`'s tree construction to the `output` file |\n",
    "| `KMeans()`, `PCA()`  | create instances of the K-Means Classifier and Principle Components Analysis modules |\n",
    "| `kmc_model.labels_` | returns `N` cluster labels, where `N` is the number of observations in the fitted data |\n",
    "| `kmc_model.cluster_centers_` | returns `K` cluster centres, where `K` is the number of clusters\n",
    "\n",
    "***"
   ]
  },
  {
   "cell_type": "code",
   "execution_count": 1,
   "metadata": {},
   "outputs": [],
   "source": [
    "# code imports\n",
    "import numpy as np\n",
    "import pandas as pd\n",
    "from sklearn.preprocessing import LabelEncoder            # encooding variables\n",
    "from sklearn.preprocessing import StandardScaler          # Scaling variables\n",
    "from sklearn.model_selection import train_test_split      # testing our models\n",
    "from sklearn.model_selection import cross_validate        # cross validation\n",
    "from sklearn.model_selection import cross_val_score       # cross-validation\n",
    "from sklearn.model_selection import KFold                 # Scikit-learn K-Folds cross-validator\n",
    "k_fold = KFold(n_splits=10, shuffle=True, random_state=0) # KFold configuration\n",
    "from sklearn.model_selection import GridSearchCV          # GridSearch\n",
    "from sklearn.metrics import accuracy_score,recall_score,precision_score,f1_score\n",
    "from sklearn.metrics import confusion_matrix\n",
    "\n",
    "# decision trees\n",
    "from sklearn.tree import DecisionTreeClassifier\n",
    "from sklearn.tree import DecisionTreeRegressor\n",
    "from sklearn import tree\n",
    "\n",
    "# k-means clustering\n",
    "from sklearn.decomposition import PCA\n",
    "from sklearn.cluster import KMeans\n",
    "\n",
    "import matplotlib.pyplot as plt    # plotting, if you need it\n",
    "import seaborn as sns\n",
    "plt.style.use('seaborn')\n",
    "\n",
    "np.random.seed(5123690)"
   ]
  },
  {
   "cell_type": "markdown",
   "metadata": {},
   "source": [
    "### Exercise 1: Planting Roots\n",
    "\n",
    "We've still got one more **supervised** (more on this later, if you're not already familiar) machine learning algorithm to introduce: **Decision Trees**. This is because it's a versatile algorithm; it can be used for **both numerical regression and categorical classification**. Before we dive into it, let's go through some terminology:\n",
    "- a Decision Tree consists of **nodes** and **branches**, and (like most trees you'll see in computer science) looks like an upside-down tree, with the starting point at the top and the branches growing downwards\n",
    "- the \"starting point\" is called the **root node**, and this represents the whole set of observations in the data\n",
    "- intermediate nodes, called a **decision node**, is a node that represents a subset of the observations\n",
    "- each \"ending point\" is called a **leaf node**, or terminal node, and is defined as a node that has no branches leading (downwards) from it\n",
    "- each non-leaf node will have (usually two) **branches**, with each branch representing a decision - for example, the left branch might split the data dependent on `Age<=10` and thus the right branch will have the remaining data, with `Age>10`\n",
    "\n",
    "The Decision Tree algorithm will try to choose these branches so that the training data in the leaf nodes are homogenous. As an example, suppose you have a two-class classification, `Survival` = 0 or 1. The algorithm will try to construct the tree so that each leaf node has either all 0s or all 1s as the targets.\n",
    "\n",
    "How does it do this? Using metrics called **Entropy** and **Information Gain**. Loosely, the entropy of a set of information is based on how similar all points are; when all information points have the same value(s), entropy is 0, and when all information points have unique value(s) entropy is maximised. In the context of Decision Trees, the algorithm tries to minimise the entropy of the information in each leaf node. Thus, at each decision node, it maximises the Information Gain, which is the difference between the entropy before the split and the entropy after splitting.\n",
    "\n"
   ]
  },
  {
   "cell_type": "markdown",
   "metadata": {},
   "source": [
    "### Exercise 2: Classifying Trees\n",
    "\n",
    "Time to use Decision Trees for a classification problem. Because we've been using the Titanic dataset in Lab05, let's use it again. Here's the description of the columns, in case you need to refer to them:\n",
    "\n",
    "| Name           | Description |\n",
    "| ---:           | :---        |\n",
    "| `PassengerId`  | an arbitrary ID assigned to each passenger |\n",
    "| `Survived`     | status of passenger's survival<br>(`0`=No, `1`=Yes) |\n",
    "| `Pclass`       | passenger's ticket class<br>(`1`=Upper, `2`=Middle, `3`=Lower) |\n",
    "| `Name`         | full title and name of passenger |\n",
    "| `Sex`          | gender of passenger |\n",
    "| `Age`          | age of passenger<br>fractional if less than 1, xx.5 if estimated |\n",
    "| `SibSp`        | number of siblings and spouses aboard<br>brother / sister / stepbrother / stepsister / husband / wife |\n",
    "| `Parch`        | number of parents and children aboard<br>mother / father / daughter / son / stepdaughter / stepson |\n",
    "| `Ticket`       | ticket ID |\n",
    "| `Fare`         | passenger fare ($) |\n",
    "| `Cabin`        | cabin number |\n",
    "| `Embarked`     | port of embarkation<br>(`C`=Cherbourg, `Q`=Queenstown, `S`=Southampton) |\n",
    "\n",
    "#### 2.1 I Tried So Hard, And Got So Far\n",
    "\n",
    "The `DecisionTreeClassifier` module is very similar to other Scikit-Learn modules you've been using. Import the data, transform your data to prepare it for classification, create a Decision Tree module instance, split the data, fit the model using the training data, and score the model on both the training and testing sets. In short: **import**, **prepare**, **split**, **fit**, **score**. Maybe you can make a rhyme out of that."
   ]
  },
  {
   "cell_type": "code",
   "execution_count": 2,
   "metadata": {},
   "outputs": [],
   "source": [
    "# TODO: IMPORT\n",
    "titanic = pd.read_csv(\"data/titanic.csv\")"
   ]
  },
  {
   "cell_type": "code",
   "execution_count": 3,
   "metadata": {},
   "outputs": [
    {
     "name": "stdout",
     "output_type": "stream",
     "text": [
      "No more nan values.\n"
     ]
    },
    {
     "data": {
      "text/html": [
       "<div>\n",
       "<style scoped>\n",
       "    .dataframe tbody tr th:only-of-type {\n",
       "        vertical-align: middle;\n",
       "    }\n",
       "\n",
       "    .dataframe tbody tr th {\n",
       "        vertical-align: top;\n",
       "    }\n",
       "\n",
       "    .dataframe thead th {\n",
       "        text-align: right;\n",
       "    }\n",
       "</style>\n",
       "<table border=\"1\" class=\"dataframe\">\n",
       "  <thead>\n",
       "    <tr style=\"text-align: right;\">\n",
       "      <th></th>\n",
       "      <th>PassengerId</th>\n",
       "      <th>Pclass</th>\n",
       "      <th>Age</th>\n",
       "      <th>SibSp</th>\n",
       "      <th>Parch</th>\n",
       "      <th>Fare</th>\n",
       "      <th>Sex</th>\n",
       "      <th>Embarked</th>\n",
       "      <th>Survived</th>\n",
       "    </tr>\n",
       "  </thead>\n",
       "  <tbody>\n",
       "    <tr>\n",
       "      <th>count</th>\n",
       "      <td>8.910000e+02</td>\n",
       "      <td>891.000000</td>\n",
       "      <td>8.910000e+02</td>\n",
       "      <td>891.000000</td>\n",
       "      <td>891.000000</td>\n",
       "      <td>8.910000e+02</td>\n",
       "      <td>891.000000</td>\n",
       "      <td>891.000000</td>\n",
       "      <td>891.000000</td>\n",
       "    </tr>\n",
       "    <tr>\n",
       "      <th>mean</th>\n",
       "      <td>2.517004e-17</td>\n",
       "      <td>2.308642</td>\n",
       "      <td>2.562796e-16</td>\n",
       "      <td>0.523008</td>\n",
       "      <td>0.381594</td>\n",
       "      <td>-4.373606e-17</td>\n",
       "      <td>0.647587</td>\n",
       "      <td>1.536476</td>\n",
       "      <td>0.383838</td>\n",
       "    </tr>\n",
       "    <tr>\n",
       "      <th>std</th>\n",
       "      <td>1.000562e+00</td>\n",
       "      <td>0.836071</td>\n",
       "      <td>1.000562e+00</td>\n",
       "      <td>1.102743</td>\n",
       "      <td>0.806057</td>\n",
       "      <td>1.000562e+00</td>\n",
       "      <td>0.477990</td>\n",
       "      <td>0.791503</td>\n",
       "      <td>0.486592</td>\n",
       "    </tr>\n",
       "    <tr>\n",
       "      <th>min</th>\n",
       "      <td>-1.730108e+00</td>\n",
       "      <td>1.000000</td>\n",
       "      <td>-2.253155e+00</td>\n",
       "      <td>0.000000</td>\n",
       "      <td>0.000000</td>\n",
       "      <td>-6.484217e-01</td>\n",
       "      <td>0.000000</td>\n",
       "      <td>0.000000</td>\n",
       "      <td>0.000000</td>\n",
       "    </tr>\n",
       "    <tr>\n",
       "      <th>25%</th>\n",
       "      <td>-8.650540e-01</td>\n",
       "      <td>2.000000</td>\n",
       "      <td>-5.924806e-01</td>\n",
       "      <td>0.000000</td>\n",
       "      <td>0.000000</td>\n",
       "      <td>-4.891482e-01</td>\n",
       "      <td>0.000000</td>\n",
       "      <td>1.000000</td>\n",
       "      <td>0.000000</td>\n",
       "    </tr>\n",
       "    <tr>\n",
       "      <th>50%</th>\n",
       "      <td>0.000000e+00</td>\n",
       "      <td>3.000000</td>\n",
       "      <td>0.000000e+00</td>\n",
       "      <td>0.000000</td>\n",
       "      <td>0.000000</td>\n",
       "      <td>-3.573909e-01</td>\n",
       "      <td>1.000000</td>\n",
       "      <td>2.000000</td>\n",
       "      <td>0.000000</td>\n",
       "    </tr>\n",
       "    <tr>\n",
       "      <th>75%</th>\n",
       "      <td>8.650540e-01</td>\n",
       "      <td>3.000000</td>\n",
       "      <td>4.079260e-01</td>\n",
       "      <td>1.000000</td>\n",
       "      <td>0.000000</td>\n",
       "      <td>-2.424635e-02</td>\n",
       "      <td>1.000000</td>\n",
       "      <td>2.000000</td>\n",
       "      <td>1.000000</td>\n",
       "    </tr>\n",
       "    <tr>\n",
       "      <th>max</th>\n",
       "      <td>1.730108e+00</td>\n",
       "      <td>3.000000</td>\n",
       "      <td>3.870872e+00</td>\n",
       "      <td>8.000000</td>\n",
       "      <td>6.000000</td>\n",
       "      <td>9.667167e+00</td>\n",
       "      <td>1.000000</td>\n",
       "      <td>2.000000</td>\n",
       "      <td>1.000000</td>\n",
       "    </tr>\n",
       "  </tbody>\n",
       "</table>\n",
       "</div>"
      ],
      "text/plain": [
       "        PassengerId      Pclass           Age       SibSp       Parch  \\\n",
       "count  8.910000e+02  891.000000  8.910000e+02  891.000000  891.000000   \n",
       "mean   2.517004e-17    2.308642  2.562796e-16    0.523008    0.381594   \n",
       "std    1.000562e+00    0.836071  1.000562e+00    1.102743    0.806057   \n",
       "min   -1.730108e+00    1.000000 -2.253155e+00    0.000000    0.000000   \n",
       "25%   -8.650540e-01    2.000000 -5.924806e-01    0.000000    0.000000   \n",
       "50%    0.000000e+00    3.000000  0.000000e+00    0.000000    0.000000   \n",
       "75%    8.650540e-01    3.000000  4.079260e-01    1.000000    0.000000   \n",
       "max    1.730108e+00    3.000000  3.870872e+00    8.000000    6.000000   \n",
       "\n",
       "               Fare         Sex    Embarked    Survived  \n",
       "count  8.910000e+02  891.000000  891.000000  891.000000  \n",
       "mean  -4.373606e-17    0.647587    1.536476    0.383838  \n",
       "std    1.000562e+00    0.477990    0.791503    0.486592  \n",
       "min   -6.484217e-01    0.000000    0.000000    0.000000  \n",
       "25%   -4.891482e-01    0.000000    1.000000    0.000000  \n",
       "50%   -3.573909e-01    1.000000    2.000000    0.000000  \n",
       "75%   -2.424635e-02    1.000000    2.000000    1.000000  \n",
       "max    9.667167e+00    1.000000    2.000000    1.000000  "
      ]
     },
     "execution_count": 3,
     "metadata": {},
     "output_type": "execute_result"
    }
   ],
   "source": [
    "# TODO: PREPARE\n",
    "titanic = titanic.drop(columns=['Cabin', 'Name', 'Ticket'], axis=1)\n",
    "titanic = titanic.fillna(titanic.mean(numeric_only=True))\n",
    "titanic['Embarked'] = titanic['Embarked'].fillna(\"S\")\n",
    "\n",
    "labelEncoder = LabelEncoder()\n",
    "# 1 is male, 0 is female\n",
    "titanic['Sex'] = labelEncoder.fit_transform(titanic['Sex'])\n",
    "titanic['Embarked'] = labelEncoder.fit_transform(titanic['Embarked'])\n",
    "\n",
    "if titanic.isnull().sum().sum() == 0:\n",
    "    print('No more nan values.')\n",
    "else:\n",
    "    print('There are still some missing values.')\n",
    "    \n",
    "# Rearrange column for later density graphing\n",
    "titanic = titanic[['PassengerId', 'Pclass', 'Age', 'SibSp', 'Parch', 'Fare', 'Sex','Embarked', 'Survived']]\n",
    "\n",
    "# Scale the data\n",
    "titanic_scaled = titanic.copy()\n",
    "standardScaler = StandardScaler()\n",
    "# scale fare, passengerID and age\n",
    "cols = ['Fare', 'PassengerId', 'Age']\n",
    "titanic_scaled[cols] = standardScaler.fit_transform(titanic[cols])\n",
    "titanic_scaled.describe()"
   ]
  },
  {
   "cell_type": "code",
   "execution_count": 4,
   "metadata": {},
   "outputs": [],
   "source": [
    "# TODO: SPLIT\n",
    "# Selecting the features\n",
    "X = titanic_scaled.iloc[:, :-1].values # feature variables\n",
    "y = titanic_scaled.iloc[:, -1].values  # target variable\n",
    "\n",
    "# Splitting the data\n",
    "X_train, X_test, y_train, y_test = train_test_split(X, y, train_size=0.8, random_state=42)"
   ]
  },
  {
   "cell_type": "code",
   "execution_count": 5,
   "metadata": {},
   "outputs": [],
   "source": [
    "# TODO: FIT\n",
    "decisionTree = DecisionTreeClassifier()\n",
    "decisionTree_model = decisionTree.fit(X_train, y_train)"
   ]
  },
  {
   "cell_type": "code",
   "execution_count": 71,
   "metadata": {},
   "outputs": [
    {
     "name": "stdout",
     "output_type": "stream",
     "text": [
      "Training set score: 0.876\n",
      "Test set score: 0.838\n",
      "Cross validated scores: 0.8048708920187793\n"
     ]
    }
   ],
   "source": [
    "# TODO: SCORE\n",
    "print(\"Training set score: {:.3f}\".format(decisionTree.score(X_train,y_train)))\n",
    "print(\"Test set score: {:.3f}\".format(decisionTree.score(X_test,y_test)))\n",
    "print(\"Cross validated scores:\",(cross_val_score(decisionTree, X_train, y_train, cv=k_fold).mean()))"
   ]
  },
  {
   "cell_type": "markdown",
   "metadata": {},
   "source": [
    "Notice anything interesting? Unless you changed the parameters of the `DecisionTreeClassifier`, you'll likely find that your training score and your testing scores differ significantly. Why might that be?\n",
    "\n",
    "#### 2.2 But In The End, It Didn't Even Matter\n",
    "\n",
    "Luckily, you can view the actual tree that the algorithm created. To do this, run `tree.export_graphviz(<model>, \"tree.dot\")`, where `<model>` is the name of the Decision Tree model you created."
   ]
  },
  {
   "cell_type": "code",
   "execution_count": 7,
   "metadata": {},
   "outputs": [],
   "source": [
    "# TODO: export tree\n",
    "tree.export_graphviz(decisionTree_model, \"tree.dot\")"
   ]
  },
  {
   "cell_type": "markdown",
   "metadata": {},
   "source": [
    "Now there's the question of compiling the exported `.dot` file into an image that you can read. This is optional, but highly recommended to understand how Decision Trees work. There's a few ways you can do this:\n",
    "- Set up the tools on your machine to be able to convert it in the terminal (note that **this is unlikely to work on the CECS lab computers**):\n",
    "    - Ubuntu\n",
    "        1. `sudo apt install graphviz`\n",
    "        2. `dot -Tpng tree.dot -o tree.png` (in the correct directory)\n",
    "    - OSX (using Homebrew)\n",
    "        1. `brew install graphviz`\n",
    "        2. `dot -Tpng tree.dot -o tree.png` (in the correct directory)\n",
    "    - Windows\n",
    "        1. Install the appropriate packages from [GraphViz on Gitlab](https://graphviz.gitlab.io/_pages/Download/Download_windows.html)\n",
    "        2. Ensure GraphViz is within your PATH\n",
    "        3. In PowerShell: `dot -Tpng tree.dot -o tree.png` (in the correct directory)\n",
    "- Use an online converter which takes the `.dot` file and outputs a `.png` file. One such example is [this website](https://onlineconvertfree.com/convert-format/dot-to-png/). However, **be aware that you are responsible for any risks** that you take in using this or other services."
   ]
  },
  {
   "cell_type": "markdown",
   "metadata": {},
   "source": [
    "If you were able to obtain the image of the tree construction successfully, analyse it. In particular, look at the leaf nodes and the `samples` and `values` for each leaf. What do you notice, and why might this affect the testing score?"
   ]
  },
  {
   "cell_type": "raw",
   "metadata": {},
   "source": [
    "# TODO: analyse the tree (highly recommended)\n"
   ]
  },
  {
   "cell_type": "markdown",
   "metadata": {},
   "source": [
    "If you weren't able to look at the tree, the short story is that the leaf nodes contained (mostly) only values that belonged to one target value (i.e. data relating to each node was usually either all `Survived`=1 or `Survived`=0. Of course, we shouldn't expect anything else - the Decision Tree algorithm is to do exactly that. As a result, the tree was also incredibly large, and up to 20 layers deep. \n",
    "\n",
    "What does this lead to? The kryptonite of machine learning: **overfitting**. Let's look at how to combat this.\n",
    "\n",
    "Use `help(DecisionTreeClassifier)` to look at the parameters available when fitting a model. In particular, look at `max_depth`, `min_samples_split` and `min_samples_leaf`, and see how these might affect the construction of the model's tree."
   ]
  },
  {
   "cell_type": "code",
   "execution_count": 8,
   "metadata": {},
   "outputs": [],
   "source": [
    "# TODO: investigate the algorithm parameters\n",
    "help(DecisionTreeClassifier)"
   ]
  },
  {
   "cell_type": "markdown",
   "metadata": {},
   "source": [
    "#### 2.3 Let's See How Far We've Come\n",
    "\n",
    "Re-fit the model and find the training and testing scores, but this time set the parameters for `max_depth`, `min_samples_split` and/or `min_samples_leaf` to avoid overfitting. If you get stuck, export the model and view the tree to see how you can improve it."
   ]
  },
  {
   "cell_type": "code",
   "execution_count": 73,
   "metadata": {},
   "outputs": [
    {
     "name": "stdout",
     "output_type": "stream",
     "text": [
      "Training set score: 0.876\n",
      "Test set score: 0.838\n",
      "Cross validated scores: 0.8048708920187793\n"
     ]
    }
   ],
   "source": [
    "# TODO: RE-FIT the model with parameters and SCORE\n",
    "decisionTree = DecisionTreeClassifier(max_depth=7, min_samples_split=2, min_samples_leaf=6)\n",
    "decisionTree_model = decisionTree.fit(X_train, y_train)\n",
    "\n",
    "print(\"Training set score: {:.3f}\".format(decisionTree.score(X_train,y_train)))\n",
    "print(\"Test set score: {:.3f}\".format(decisionTree.score(X_test,y_test)))\n",
    "print(\"Cross validated scores:\",(cross_val_score(decisionTree, X_train, y_train, cv=k_fold).mean()))"
   ]
  },
  {
   "cell_type": "markdown",
   "metadata": {},
   "source": [
    "You'll likely still find that the training score is higher than the testing score, but it should be much more indicative than it was before. Careful not to be too specific with these parameters, as this can lead to treating the testing set like a second training set to maximise."
   ]
  },
  {
   "cell_type": "markdown",
   "metadata": {
    "tags": []
   },
   "source": [
    "#### 2.4 Find the best parameter: cross validation and grid search\n",
    "\n",
    "Learning the parameters of a prediction function and testing it on the same data is a methodological mistake: a model that would just repeat the labels of the samples that it has just seen would have a perfect score but would fail to predict anything useful on yet-unseen data. This situation is called overfitting. To avoid it, it is common practice when performing a (supervised) machine learning experiment to hold out part of the available data as a test set ```test_X```, ```test_y```. Note that the word “experiment” is not intended to denote academic use only, because even in commercial settings machine learning usually starts out experimentally. Here is a flowchart of typical cross validation workflow in model training. The best parameters can be determined by **grid search** techniques.\n"
   ]
  },
  {
   "cell_type": "markdown",
   "metadata": {},
   "source": [
    "<img src=\"./grid_search_workflow.png\" alt=\"grid_search_flow\" width=\"600\"/>"
   ]
  },
  {
   "cell_type": "markdown",
   "metadata": {},
   "source": [
    "When evaluating different settings (“hyperparameters”) for estimators, such as the ```C``` setting that must be manually set for a decision tree, there is still a risk of overfitting on the test set because the parameters can be tweaked until the estimator performs optimally. This way, knowledge about the test set can “leak” into the model and evaluation metrics no longer report on generalization performance. To solve this problem, yet another part of the dataset can be held out as a so-called “validation set”: training proceeds on the training set, after which evaluation is done on the validation set, and when the experiment seems to be successful, final evaluation can be done on the test set.\n",
    "\n",
    "However, by partitioning the available data into three sets, we drastically reduce the number of samples which can be used for learning the model, and the results can depend on a particular random choice for the pair of (train, validation) sets.\n",
    "\n",
    "A solution to this problem is a procedure called **cross-validation** (CV for short). A test set should still be held out for final evaluation, but the validation set is no longer needed when doing CV. In the basic approach, called k-fold CV, the training set is split into k smaller sets (other approaches are described below, but generally follow the same principles). The following procedure is followed for each of the k “folds”:\n",
    "\n",
    "A model is trained using  of the folds as training data;\n",
    "\n",
    "the resulting model is validated on the remaining part of the data (i.e., it is used as a test set to compute a performance measure such as accuracy).\n",
    "\n",
    "The performance measure reported by k-fold cross-validation is then the average of the values computed in the loop. This approach can be computationally expensive, but does not waste too much data (as is the case when fixing an arbitrary validation set), which is a major advantage in problems such as inverse inference where the number of samples is very small. (https://scikit-learn.org/stable/modules/cross_validation.html)"
   ]
  },
  {
   "cell_type": "markdown",
   "metadata": {},
   "source": [
    "<img src=\"./grid_search_cross_validation.png\" alt=\"grid_search_flow\" width=\"600\"/>"
   ]
  },
  {
   "cell_type": "markdown",
   "metadata": {},
   "source": [
    "#### 2.4.1 Now, let's see how to use cross validation to evaluate the models we build for 2.1 and 2.3."
   ]
  },
  {
   "cell_type": "code",
   "execution_count": 90,
   "metadata": {},
   "outputs": [
    {
     "name": "stdout",
     "output_type": "stream",
     "text": [
      "the 5 fold average cross validation score of model in 2.1 is 0.7332\n",
      "the 5 fold average cross validation score of model in 2.3 is 0.8090\n"
     ]
    }
   ],
   "source": [
    "dt = DecisionTreeClassifier()\n",
    "scores = cross_validate(dt, X_train, y_train, cv=5 ,scoring='accuracy')\n",
    "print(f\"the 5 fold average cross validation score of model in 2.1 is {np.mean(scores['test_score']):.4f}\")\n",
    "\n",
    "dt = DecisionTreeClassifier(max_depth=10, min_samples_split=10, min_samples_leaf=10)\n",
    "scores = cross_validate(dt, X_train, y_train, cv=5 ,scoring='accuracy')\n",
    "print(f\"the 5 fold average cross validation score of model in 2.3 is {np.mean(scores['test_score']):.4f}\")"
   ]
  },
  {
   "cell_type": "markdown",
   "metadata": {},
   "source": [
    "#### 2.4.2 Now, let's first determine the hyperparameters range you want to search.\n",
    "For this is the first time we do a grid search over parameters, we have done it for you."
   ]
  },
  {
   "cell_type": "code",
   "execution_count": 79,
   "metadata": {},
   "outputs": [],
   "source": [
    "hyperparameters_dict = {'max_depth': range(2,20,2),\n",
    "                   'min_samples_split': range(2, 20, 2), \n",
    "                   'min_samples_leaf': range(2, 20, 2) }"
   ]
  },
  {
   "cell_type": "markdown",
   "metadata": {
    "tags": []
   },
   "source": [
    "##### Todo: How many train-test iterations will be needed if you want to do a 5-fold cross validation for each of the parameter combinations in ```hyperparameters_dict```?"
   ]
  },
  {
   "cell_type": "markdown",
   "metadata": {},
   "source": [
    "len(list(range(2,20,2)))*3 5= 3645. As you can see it is very computationally expansive."
   ]
  },
  {
   "cell_type": "markdown",
   "metadata": {},
   "source": [
    "#### 2.4.3 Do a grid search for all the combination in the ```hyperparameters_dict```\n",
    "    1. report the best parameter combination you find.\n",
    "    2. report the best average accuracy you find for the best parameter combination."
   ]
  },
  {
   "cell_type": "code",
   "execution_count": 82,
   "metadata": {},
   "outputs": [
    {
     "name": "stdout",
     "output_type": "stream",
     "text": [
      "the best model parameter: {'max_depth': 6, 'min_samples_split': 2, 'min_samples_leaf': 14} and the best mean accuracy: 0.8174\n",
      "Wall time: 5.62 s\n"
     ]
    }
   ],
   "source": [
    "%%time\n",
    "# TODO: fill in the blank\n",
    "best_score = -1\n",
    "best_parameter = {'max_depth': 0,\n",
    "                   'min_samples_split': 0, \n",
    "                   'min_samples_leaf': 0 }\n",
    "\n",
    "for max_depth in hyperparameters_dict['max_depth']:\n",
    "    for min_samples_split in hyperparameters_dict['min_samples_split']:\n",
    "        for min_samples_leaf in hyperparameters_dict['min_samples_leaf']:\n",
    "            dt = DecisionTreeClassifier(max_depth=max_depth, min_samples_split=min_samples_split, min_samples_leaf=min_samples_leaf)\n",
    "            \n",
    "            scores = cross_validate(dt, X_train, y_train, cv=5 ,scoring='accuracy')['test_score']\n",
    "            mean_score = np.mean(scores)\n",
    "            if mean_score > best_score:\n",
    "                best_parameter['max_depth'] = max_depth\n",
    "                best_parameter['min_samples_split'] = min_samples_split\n",
    "                best_parameter['min_samples_leaf'] = min_samples_leaf\n",
    "                best_score = mean_score\n",
    "                \n",
    "print(f'the best model parameter: {best_parameter} and the best mean accuracy: {best_score:.4f}')"
   ]
  },
  {
   "cell_type": "markdown",
   "metadata": {},
   "source": [
    "#### 2.4.5 Now use the best set of parameter and train on the ```train_x``` set and test it again on the ```test_x``` data set we created in 2.1"
   ]
  },
  {
   "cell_type": "code",
   "execution_count": 84,
   "metadata": {},
   "outputs": [
    {
     "name": "stdout",
     "output_type": "stream",
     "text": [
      "Best Model Training Score: 0.8469101123595506\n",
      "Best Model Testing Score:  0.7988826815642458\n"
     ]
    }
   ],
   "source": [
    "#TODO: train the model with best set of the parameters and evaluate the train and test score\n",
    "dt_best = DecisionTreeClassifier(max_depth=6, min_samples_split=2, min_samples_leaf=14)\n",
    "dt_best_model = dt_best.fit(X_train, y_train)\n",
    "print(\"Best Model Training Score:\", dt_best_model.score(X_train, y_train))\n",
    "print(\"Best Model Testing Score: \", dt_best_model.score(X_test, y_test))"
   ]
  },
  {
   "cell_type": "markdown",
   "metadata": {},
   "source": [
    "#### Using SKlearn's GridSearchCV for all the combination in the ```hyperparameters_dict```"
   ]
  },
  {
   "cell_type": "code",
   "execution_count": 96,
   "metadata": {},
   "outputs": [
    {
     "name": "stdout",
     "output_type": "stream",
     "text": [
      "The best parameters are: {'max_depth': 6, 'min_samples_leaf': 14, 'min_samples_split': 2}\n",
      "Wall time: 5.49 s\n"
     ]
    }
   ],
   "source": [
    "%%time\n",
    "# Create a list of hyperparameters dictionary\n",
    "hyperparameters = {'max_depth': range(2,20,2),\n",
    "                   'min_samples_split': range(2, 20, 2), \n",
    "                   'min_samples_leaf': range(2, 20, 2) }\n",
    "\n",
    "# Instantiate the model\n",
    "decisionTree = DecisionTreeClassifier()\n",
    "\n",
    "# Instantiate  GridSearchCV and pass in the parameters\n",
    "gridSearch = GridSearchCV(decisionTree, hyperparameters, scoring='accuracy')\n",
    "\n",
    "# Fit \n",
    "best_model = gridSearch.fit(X_train, y_train)\n",
    "print(\"The best parameters are:\", best_model.best_params_)"
   ]
  },
  {
   "cell_type": "raw",
   "metadata": {},
   "source": [
    "Gave the same answer.\n",
    "Refs:\n",
    "[1] https://scikit-learn.org/stable/modules/generated/sklearn.model_selection.GridSearchCV.html"
   ]
  },
  {
   "cell_type": "code",
   "execution_count": 4,
   "metadata": {},
   "outputs": [
    {
     "name": "stdout",
     "output_type": "stream",
     "text": [
      "<class 'range'>\n"
     ]
    }
   ],
   "source": [
    "l = range(2,20,2)\n",
    "print(type(l))"
   ]
  },
  {
   "cell_type": "code",
   "execution_count": 98,
   "metadata": {},
   "outputs": [
    {
     "name": "stdout",
     "output_type": "stream",
     "text": [
      "Accuracy Score : 0.7988826815642458\n",
      "Precision Score : 0.7714285714285715\n",
      "Recall Score : 0.7297297297297297\n",
      "F1 Score : 0.75\n"
     ]
    },
    {
     "data": {
      "text/plain": [
       "array([[89, 16],\n",
       "       [20, 54]], dtype=int64)"
      ]
     },
     "execution_count": 98,
     "metadata": {},
     "output_type": "execute_result"
    }
   ],
   "source": [
    "# Predict values based on new parameters\n",
    "best_y_pred = best_model.predict(X_test)\n",
    "# best model evaluation metrics\n",
    "print('Accuracy Score : ' + str(accuracy_score(y_test,best_y_pred)))\n",
    "print('Precision Score : ' + str(precision_score(y_test,best_y_pred)))\n",
    "print('Recall Score : ' + str(recall_score(y_test,best_y_pred)))\n",
    "print('F1 Score : ' + str(f1_score(y_test,best_y_pred)))\n",
    "\n",
    "#Logistic Regression (Grid Search) Confusion matrix\n",
    "confusion_matrix(y_test,best_y_pred)"
   ]
  },
  {
   "cell_type": "markdown",
   "metadata": {},
   "source": [
    "Compare this testing score to the score you got in Lab05 - which is higher? Of course, keep in mind that no single machine learning algorithm is better than the rest; each has their advantages and disadvantages depending on the data that they're given."
   ]
  },
  {
   "cell_type": "raw",
   "metadata": {},
   "source": [
    "# TODO: discussion on Decision Trees\n",
    "Lab05 KNN scores:\n",
    "Training Score: 0.8160112359550562\n",
    "Test score:  0.7988826815642458\n",
    "\n",
    "Lab06 Decision Trees scores:\n",
    "Best Model Training Score: 0.8469101123595506\n",
    "Best Model Testing Score:  0.7988826815642458\n",
    "\n",
    "Testing scores are literally the same. Training scores higher though."
   ]
  },
  {
   "cell_type": "markdown",
   "metadata": {},
   "source": [
    "If you haven't already done so, export the tree and view it if possible. How does it differ from the classifying tree?"
   ]
  },
  {
   "cell_type": "code",
   "execution_count": 95,
   "metadata": {},
   "outputs": [],
   "source": [
    "# TODO: export and view, if possible\n",
    "tree.export_graphviz(decisionTree_model, \"best_model_tree.dot\")\n",
    "# dot -Tpng tree.dot -o tree.png in terminal"
   ]
  },
  {
   "cell_type": "markdown",
   "metadata": {},
   "source": [
    "### Exercise 3: No More Adult Supervision\n",
    "\n",
    "#### 3.1 Supervised vs Unsupervised\n",
    "\n",
    "So far, all of the machine learning algorithms (linear regression, logistic regression, kNN and Decision Trees) have been **supervised** algorithms. If you're not already familiar, a supervised algorithm **requires that the target is labelled**. For example, we've been using the Titanic dataset which has `Survived` as either `0` or `1` for each person. The name \"supervised\" comes from the idea that you, the supervisor, have given it everything it needs to work with.\n",
    "\n",
    "This is in contrast to **semi-supervised** (not covered in this course) and **unsupervised** algorithms. Unsupervised algorithms have **no labelled target values**, and it's the job of the algorithm to categorise the data so that you can determine what label each category is. One example that we'll see soon is a scenario where a store wants to categorise customers so that they can understand the distinct types of shoppers that visit their store, and potentially advertise relevant products towards them.\n",
    "\n",
    "The unsupervised algorithm we'll be teaching in this course is **K-Means Clustering**. This splits the data into a specified number of clusters to be analysed by you later. **Don't get mixed up between k-Nearest Neighbour and K-Means Clustering**, especially because both are graphical, distance-based algorithms that use a `K` parameter as one of its main aspects.\n",
    "\n",
    "#### 3.2 Iris Clusters\n",
    "\n",
    "Let's start off easy. Import the Iris dataset (`data/IRIS.csv`) and **perform a clustering based on all the columns except the `species` column**. When creating the module instance, set `n_clusters=3` (why?). **Save the model with the name `kmc_model`**. Don't worry about splitting or testing your data - after all, unsupervised algorithms have no target labels to test with."
   ]
  },
  {
   "cell_type": "code",
   "execution_count": 13,
   "metadata": {},
   "outputs": [
    {
     "data": {
      "text/html": [
       "<div>\n",
       "<style scoped>\n",
       "    .dataframe tbody tr th:only-of-type {\n",
       "        vertical-align: middle;\n",
       "    }\n",
       "\n",
       "    .dataframe tbody tr th {\n",
       "        vertical-align: top;\n",
       "    }\n",
       "\n",
       "    .dataframe thead th {\n",
       "        text-align: right;\n",
       "    }\n",
       "</style>\n",
       "<table border=\"1\" class=\"dataframe\">\n",
       "  <thead>\n",
       "    <tr style=\"text-align: right;\">\n",
       "      <th></th>\n",
       "      <th>sepal_length</th>\n",
       "      <th>sepal_width</th>\n",
       "      <th>petal_length</th>\n",
       "      <th>petal_width</th>\n",
       "      <th>species</th>\n",
       "    </tr>\n",
       "  </thead>\n",
       "  <tbody>\n",
       "    <tr>\n",
       "      <th>0</th>\n",
       "      <td>5.1</td>\n",
       "      <td>3.5</td>\n",
       "      <td>1.4</td>\n",
       "      <td>0.2</td>\n",
       "      <td>Iris-setosa</td>\n",
       "    </tr>\n",
       "    <tr>\n",
       "      <th>1</th>\n",
       "      <td>4.9</td>\n",
       "      <td>3.0</td>\n",
       "      <td>1.4</td>\n",
       "      <td>0.2</td>\n",
       "      <td>Iris-setosa</td>\n",
       "    </tr>\n",
       "    <tr>\n",
       "      <th>2</th>\n",
       "      <td>4.7</td>\n",
       "      <td>3.2</td>\n",
       "      <td>1.3</td>\n",
       "      <td>0.2</td>\n",
       "      <td>Iris-setosa</td>\n",
       "    </tr>\n",
       "    <tr>\n",
       "      <th>3</th>\n",
       "      <td>4.6</td>\n",
       "      <td>3.1</td>\n",
       "      <td>1.5</td>\n",
       "      <td>0.2</td>\n",
       "      <td>Iris-setosa</td>\n",
       "    </tr>\n",
       "    <tr>\n",
       "      <th>4</th>\n",
       "      <td>5.0</td>\n",
       "      <td>3.6</td>\n",
       "      <td>1.4</td>\n",
       "      <td>0.2</td>\n",
       "      <td>Iris-setosa</td>\n",
       "    </tr>\n",
       "  </tbody>\n",
       "</table>\n",
       "</div>"
      ],
      "text/plain": [
       "   sepal_length  sepal_width  petal_length  petal_width      species\n",
       "0           5.1          3.5           1.4          0.2  Iris-setosa\n",
       "1           4.9          3.0           1.4          0.2  Iris-setosa\n",
       "2           4.7          3.2           1.3          0.2  Iris-setosa\n",
       "3           4.6          3.1           1.5          0.2  Iris-setosa\n",
       "4           5.0          3.6           1.4          0.2  Iris-setosa"
      ]
     },
     "execution_count": 13,
     "metadata": {},
     "output_type": "execute_result"
    }
   ],
   "source": [
    "# TODO: import and fit\n",
    "iris = pd.read_csv('data/IRIS.csv')\n",
    "iris_data = iris.iloc[:, :-1].values\n",
    "kmc = KMeans(n_clusters=3)\n",
    "kmc_model = kmc.fit(iris_data)\n",
    "iris.head()"
   ]
  },
  {
   "cell_type": "markdown",
   "metadata": {},
   "source": [
    "If you've fit the model with the correct name, you should be able to use the next code block to plot your clusters. Change `dim_1` and `dim_2` to look at the data using different features (essentially, looking at it from a different angle). After you've explored that, change the `n_clusters` parameter above to a different number to see how that changes the clustering."
   ]
  },
  {
   "cell_type": "code",
   "execution_count": 14,
   "metadata": {},
   "outputs": [
    {
     "data": {
      "image/png": "[encoded data removed]",
      "text/plain": [
       "<Figure size 864x576 with 1 Axes>"
      ]
     },
     "metadata": {},
     "output_type": "display_data"
    }
   ],
   "source": [
    "# feel free to change the colours to your liking\n",
    "colors=[\"red\",\"blue\",\"green\",\"purple\",\"orange\"]\n",
    "dim_1 = 0    # change, between 0 and 3\n",
    "dim_2 = 1    # between 0 and 3, dim_2!=dim_1\n",
    "\n",
    "# plotting with different coloured clusters and showing cluster centres\n",
    "plt.figure(figsize=(12,8))\n",
    "for i in range(np.max(kmc_model.labels_)+1):\n",
    "    plt.scatter(iris[kmc_model.labels_==i].iloc[:,dim_1], iris[kmc_model.labels_==i].iloc[:,dim_2], label=i, c=colors[i], alpha=0.5)\n",
    "plt.scatter(kmc_model.cluster_centers_[:,dim_1], kmc_model.cluster_centers_[:,dim_2], label='Cluster Centers', c=\"black\", s=200)\n",
    "plt.title(\"K-Means Clustering of Iris Data\",size=20)\n",
    "plt.xlabel(iris.columns[dim_1], size=16)\n",
    "plt.ylabel(iris.columns[dim_2], size=16)\n",
    "plt.legend()\n",
    "plt.show()"
   ]
  },
  {
   "cell_type": "markdown",
   "metadata": {},
   "source": [
    "Explore the data and compare the `species` label to the `kmc_model.labels_` label. Do the labels accurately categorise the species?"
   ]
  },
  {
   "cell_type": "code",
   "execution_count": 4,
   "metadata": {},
   "outputs": [
    {
     "name": "stdout",
     "output_type": "stream",
     "text": [
      "[['Iris-setosa']\n",
      " [50]] \n",
      "\n",
      "[['Iris-versicolor' 'Iris-virginica']\n",
      " [26 13]] \n",
      "\n",
      "[['Iris-virginica']\n",
      " [12]] \n",
      "\n",
      "[['Iris-virginica']\n",
      " [24]] \n",
      "\n",
      "[['Iris-versicolor' 'Iris-virginica']\n",
      " [24 1]] \n",
      "\n"
     ]
    }
   ],
   "source": [
    "# TODO: explore data vs clusters\n",
    "for i in range(np.max(kmc_model.labels_)+1):\n",
    "    unique, counts = np.unique(iris[kmc_model.labels_==i][\"species\"], return_counts=True)\n",
    "    print(np.asarray((unique, counts)), \"\\n\")"
   ]
  },
  {
   "cell_type": "raw",
   "metadata": {},
   "source": []
  },
  {
   "cell_type": "markdown",
   "metadata": {},
   "source": [
    "Frustrated that you can only see in two dimensions on a screen at a time? What if you had 10 variables to look at? That'd give you 45 different angles to look at the clusters from!\n",
    "\n",
    "Fortunately, we can reduce the dimensionality of the data using **Principle Components Analysis** (PCA), allowing you to look at the data from the \"best\" angle. PCA decomposes all of the variables into the desired number of dimensions that maximise the variance between them. As a result, you can look at the data on a screen that can only show two dimensions, but it also means that the dimensions that you view the data at doesn't have much meaning in the context of the data.\n",
    "\n",
    "Use the `PCA` module in Scikit-Learn to **reduce the data down to two dimensions**, using the `fit_transform` function with `n_components=2`. Be sure to exclude the `species` column beforehand. Save the decomposition to an object called `iris_reduced`."
   ]
  },
  {
   "cell_type": "code",
   "execution_count": 5,
   "metadata": {},
   "outputs": [],
   "source": [
    "# TODO: decompose the iris data\n",
    "pca = PCA(n_components=2)\n",
    "iris_reduced = pca.fit_transform(iris.iloc[:,:-1])"
   ]
  },
  {
   "cell_type": "markdown",
   "metadata": {},
   "source": [
    "Now redo the clustering above using the `iris_reduced` data, and run the code block below to plot the data."
   ]
  },
  {
   "cell_type": "code",
   "execution_count": 6,
   "metadata": {},
   "outputs": [],
   "source": [
    "# TODO: re-cluster\n",
    "kmc = KMeans(n_clusters=3)\n",
    "kmc_model = kmc.fit(iris_reduced)"
   ]
  },
  {
   "cell_type": "code",
   "execution_count": 7,
   "metadata": {},
   "outputs": [
    {
     "data": {
      "image/png": "[encoded data removed]",
      "text/plain": [
       "<Figure size 864x576 with 1 Axes>"
      ]
     },
     "metadata": {},
     "output_type": "display_data"
    }
   ],
   "source": [
    "# feel free to change the colours to your liking\n",
    "colors=[\"red\",\"blue\",\"green\",\"purple\",\"orange\"]\n",
    "\n",
    "# plotting with different coloured clusters and showing cluster centres\n",
    "plt.figure(figsize=(12,8))\n",
    "for i in range(np.max(kmc_model.labels_)+1):\n",
    "    plt.scatter(iris_reduced[kmc_model.labels_==i][:,0], iris_reduced[kmc_model.labels_==i][:,1], label=i, c=colors[i], alpha=0.5)\n",
    "plt.scatter(kmc_model.cluster_centers_[:,0], kmc_model.cluster_centers_[:,1], label='Cluster Centers', c=\"black\", s=200)\n",
    "plt.title(\"K-Means Clustering of Iris Data\",size=20)\n",
    "plt.xlabel(\"Principle Component 1\", size=16)\n",
    "plt.ylabel(\"Principle Component 2\", size=16)\n",
    "plt.legend()\n",
    "plt.show()"
   ]
  },
  {
   "cell_type": "markdown",
   "metadata": {},
   "source": [
    "Now you can see the data from the best angle, without needing to look at it with different dimensions to make sure the clustering is well-separated. You might not see much difference here, but it'll certainly help as you move on to more complicated datasets."
   ]
  },
  {
   "cell_type": "markdown",
   "metadata": {},
   "source": [
    "#### 3.3 Crowds of Customers\n",
    "\n",
    "Let's do the same as above, but this time we'll be working on customer data.\n",
    "\n",
    "Import the data (`data/customers.csv`) and perform a clustering on the reduced data (i.e. after using PCA). We leave it up to you to **decide how many clusters you should create**, as realistically this is usually not given to you. Ideally, you should **maximise the distance between clusters**, and **minimise the distance within clusters**."
   ]
  },
  {
   "cell_type": "code",
   "execution_count": 8,
   "metadata": {},
   "outputs": [
    {
     "data": {
      "image/png": "[encoded data removed]",
      "text/plain": [
       "<Figure size 864x576 with 1 Axes>"
      ]
     },
     "metadata": {},
     "output_type": "display_data"
    }
   ],
   "source": [
    "# TODO: create clustering for customers data\n",
    "# import\n",
    "customers = pd.read_csv(\"data/customers.csv\")\n",
    "\n",
    "# encode\n",
    "le = LabelEncoder()\n",
    "customers[\"Gender\"] = le.fit_transform(customers[\"Gender\"])\n",
    "\n",
    "# decompose\n",
    "pca = PCA(n_components=2)\n",
    "cust_reduced = pca.fit_transform(customers)\n",
    "\n",
    "# cluster\n",
    "# random seed set so that analysis is consistent below\n",
    "kmc = KMeans(n_clusters=5, random_state=0)\n",
    "kmc_model = kmc.fit(cust_reduced)\n",
    "\n",
    "# plotting\n",
    "colors=[\"red\",\"blue\",\"green\",\"purple\",\"orange\",\"brown\"]\n",
    "plt.figure(figsize=(12,8))\n",
    "for i in range(np.max(kmc_model.labels_)+1):\n",
    "    plt.scatter(cust_reduced[kmc_model.labels_==i][:,0], cust_reduced[kmc_model.labels_==i][:,1], label=i, c=colors[i], alpha=0.5)\n",
    "plt.scatter(kmc_model.cluster_centers_[:,0], kmc_model.cluster_centers_[:,1], label='Cluster Centers', c=\"black\", s=200)\n",
    "plt.title(\"K-Means Clustering of Customer Data\",size=20)\n",
    "plt.xlabel(\"Principle Component 1\", size=16)\n",
    "plt.ylabel(\"Principle Component 2\", size=16)\n",
    "plt.legend()\n",
    "plt.show()"
   ]
  },
  {
   "cell_type": "raw",
   "metadata": {},
   "source": [
    "From the principle components, we see that there are 5 distinct groups, so we choose 5 clusters."
   ]
  },
  {
   "cell_type": "markdown",
   "metadata": {},
   "source": [
    "After you've created the clusters, be sure to plot the results to see if it can be improved. Once you've done that, **create a DataFrame for each cluster's data** and identify their main attributes - how do these clusters differ from each other? *Hint: your analysis can include studying the mean age, average annual income & deviation in income, size of each cluster, and male-to-female ratio of each cluster.*"
   ]
  },
  {
   "cell_type": "code",
   "execution_count": 9,
   "metadata": {},
   "outputs": [
    {
     "data": {
      "text/html": [
       "<div>\n",
       "<style scoped>\n",
       "    .dataframe tbody tr th:only-of-type {\n",
       "        vertical-align: middle;\n",
       "    }\n",
       "\n",
       "    .dataframe tbody tr th {\n",
       "        vertical-align: top;\n",
       "    }\n",
       "\n",
       "    .dataframe thead th {\n",
       "        text-align: right;\n",
       "    }\n",
       "</style>\n",
       "<table border=\"1\" class=\"dataframe\">\n",
       "  <thead>\n",
       "    <tr style=\"text-align: right;\">\n",
       "      <th></th>\n",
       "      <th>Cluster</th>\n",
       "      <th>Size</th>\n",
       "      <th>Mean Age</th>\n",
       "      <th>Mean Annual Income ($000's)</th>\n",
       "      <th>Std Dev Annual Income ($000's)</th>\n",
       "      <th>Mean Spending Score</th>\n",
       "      <th>Male-Female Ratio</th>\n",
       "    </tr>\n",
       "  </thead>\n",
       "  <tbody>\n",
       "    <tr>\n",
       "      <th>0</th>\n",
       "      <td>0</td>\n",
       "      <td>66</td>\n",
       "      <td>42.73</td>\n",
       "      <td>57.76</td>\n",
       "      <td>6.87</td>\n",
       "      <td>49.47</td>\n",
       "      <td>28 : 38</td>\n",
       "    </tr>\n",
       "    <tr>\n",
       "      <th>1</th>\n",
       "      <td>1</td>\n",
       "      <td>36</td>\n",
       "      <td>40.81</td>\n",
       "      <td>87.92</td>\n",
       "      <td>16.23</td>\n",
       "      <td>17.89</td>\n",
       "      <td>19 : 17</td>\n",
       "    </tr>\n",
       "    <tr>\n",
       "      <th>2</th>\n",
       "      <td>2</td>\n",
       "      <td>39</td>\n",
       "      <td>32.69</td>\n",
       "      <td>86.54</td>\n",
       "      <td>16.31</td>\n",
       "      <td>82.13</td>\n",
       "      <td>18 : 21</td>\n",
       "    </tr>\n",
       "    <tr>\n",
       "      <th>3</th>\n",
       "      <td>3</td>\n",
       "      <td>35</td>\n",
       "      <td>45.31</td>\n",
       "      <td>31.80</td>\n",
       "      <td>10.06</td>\n",
       "      <td>30.31</td>\n",
       "      <td>13 : 22</td>\n",
       "    </tr>\n",
       "    <tr>\n",
       "      <th>4</th>\n",
       "      <td>4</td>\n",
       "      <td>24</td>\n",
       "      <td>25.83</td>\n",
       "      <td>26.96</td>\n",
       "      <td>8.36</td>\n",
       "      <td>77.79</td>\n",
       "      <td>10 : 14</td>\n",
       "    </tr>\n",
       "  </tbody>\n",
       "</table>\n",
       "</div>"
      ],
      "text/plain": [
       "   Cluster  Size  Mean Age  Mean Annual Income ($000's)  \\\n",
       "0        0    66     42.73                        57.76   \n",
       "1        1    36     40.81                        87.92   \n",
       "2        2    39     32.69                        86.54   \n",
       "3        3    35     45.31                        31.80   \n",
       "4        4    24     25.83                        26.96   \n",
       "\n",
       "   Std Dev Annual Income ($000's)  Mean Spending Score Male-Female Ratio  \n",
       "0                            6.87                49.47           28 : 38  \n",
       "1                           16.23                17.89           19 : 17  \n",
       "2                           16.31                82.13           18 : 21  \n",
       "3                           10.06                30.31           13 : 22  \n",
       "4                            8.36                77.79           10 : 14  "
      ]
     },
     "execution_count": 9,
     "metadata": {},
     "output_type": "execute_result"
    }
   ],
   "source": [
    "# TODO: split data and analyse\n",
    "k = np.max(kmc_model.labels_)+1\n",
    "df_clusters = [customers[kmc_model.labels_==i] for i in range(k)]\n",
    "\n",
    "stat_dict = { \n",
    "    'Cluster' : list(range(k)),\n",
    "    'Size' :    [len(df_clusters[i]) for i in range(k)],\n",
    "    'Mean Age' :                        [round(df_clusters[i]['Age'].mean(), 2) for i in range(k)],\n",
    "    'Mean Annual Income ($000\\'s)' :    [round(df_clusters[i]['Annual Income (k$)'].mean(), 2) for i in range(k)],\n",
    "    'Std Dev Annual Income ($000\\'s)' : [round(df_clusters[i]['Annual Income (k$)'].std(), 2) for i in range(k)],\n",
    "    'Mean Spending Score' :             [round(df_clusters[i]['Spending Score (1-100)'].mean(), 2) for i in range(k)],\n",
    "    'Male-Female Ratio' :               [str(len(df_clusters[i][df_clusters[i]['Gender']==1])) + ' : ' + \n",
    "                                         str(len(df_clusters[i][df_clusters[i]['Gender']==0])) for i in range(k)]\n",
    "}\n",
    "df_cluster_stats = pd.DataFrame(stat_dict)\n",
    "df_cluster_stats"
   ]
  },
  {
   "cell_type": "raw",
   "metadata": {},
   "source": []
  },
  {
   "cell_type": "markdown",
   "metadata": {},
   "source": [
    "*****"
   ]
  },
  {
   "cell_type": "markdown",
   "metadata": {},
   "source": [
    "## Homework & Extension Questions\n"
   ]
  },
  {
   "cell_type": "markdown",
   "metadata": {},
   "source": [
    "### Exercise 3: Regressing Trees\n",
    "\n",
    "Now let's see how the Decision Tree algorithm works for a regression problem. We'll use the same Houses dataset that was used in Lab04; the description of the variables are listed below:\n",
    "\n",
    "| Name           | Description |\n",
    "| ---:           | :---        |\n",
    "| `LotArea`      | size of lot in square feet |\n",
    "| `OverallQual`  | rating of the overall material and finish of the house (higher is better) |\n",
    "| `OverallCond`  | rating of the current condition of the house (higher is better) |\n",
    "| `YearBuilt`    | original construction date |\n",
    "| `YearRemodAdd` | date that the last remodelling was done (=`YearBuilt` if no remodelling)\n",
    "| `GrLivArea`    | above-ground living area in square feet |\n",
    "| `FullBath`     | number of above-ground, full-sized bathrooms |\n",
    "| `BedroomAbvGr` | number of above-ground bedrooms |\n",
    "| `KitchenAbvGr` | number of above-ground kitchens |\n",
    "| `GarageArea`   | size of garage in square feet |\n",
    "| `YrSold`       | year that the lot was sold |\n",
    "| `LotShape`     | general shape of property<br>(`Reg`=Regular, `IR1`=Slightly irregular, `IR2`=Moderately irregular, `IR3`=Very irregular)\n",
    "| `LotConfig`    | configuration of lot<br>(`Inside`, `Corner`, `CulDSac`=Cul-de-sac lot, `FR2`=Frontage on 2 sides, `FR3`=Frontage on 3 sides)\n",
    "| `SalePrice`    | property's sale price in dollars |\n",
    "\n",
    "Use the `DecisionTreeRegressor` module to fit a regression Decision Tree model to this data to predict `SalePrice`, and report both the training and testing scores. Remember to set the parameters for the module instance."
   ]
  },
  {
   "cell_type": "code",
   "execution_count": 10,
   "metadata": {},
   "outputs": [],
   "source": [
    "# TODO: import, prepare, split, fit, score\n",
    "houses = pd.read_csv(\"./data/houses_sub.csv\", index_col=0)\n",
    "\n",
    "# choose columns, drop NA, recode\n",
    "houses = houses.dropna()\n",
    "houses_y = houses['SalePrice']\n",
    "houses_X = houses.drop([\"LotShape\", \"LotConfig\", \"SalePrice\"], axis=1)"
   ]
  },
  {
   "cell_type": "code",
   "execution_count": 11,
   "metadata": {},
   "outputs": [
    {
     "name": "stdout",
     "output_type": "stream",
     "text": [
      "Training Score: 0.846743987127097\n",
      "Testing Score:  0.8043021899162421\n"
     ]
    }
   ],
   "source": [
    "# split, fit, score\n",
    "train_x, test_x, train_y, test_y = train_test_split(houses_X, houses_y, test_size=0.2)\n",
    "\n",
    "dt = DecisionTreeRegressor(max_depth=100, min_samples_split=10, min_samples_leaf=10)\n",
    "dt_hss_class = dt.fit(train_x, train_y)\n",
    "print(\"Training Score:\", dt_hss_class.score(train_x, train_y))\n",
    "print(\"Testing Score: \", dt_hss_class.score(test_x, test_y))"
   ]
  },
  {
   "cell_type": "markdown",
   "metadata": {},
   "source": [
    "This is slightly higher than the best score from Lab04, but this is highly dependent on your model from Lab04 and your model here."
   ]
  },
  {
   "cell_type": "code",
   "execution_count": 12,
   "metadata": {},
   "outputs": [],
   "source": [
    "# TODO: export and view, if possible\n",
    "tree.export_graphviz(dt_hss_class, \"tree.dot\")"
   ]
  },
  {
   "cell_type": "markdown",
   "metadata": {},
   "source": [
    "The regression tree still has the condition (\"X[k] < c\") and the samples, but now it gives the MSE and the value, representing the Mean Squared Error of the points attributed to the node and the predicted value for those points. Thus there are only as many unique predictions as there are leaf nodes."
   ]
  },
  {
   "cell_type": "code",
   "execution_count": null,
   "metadata": {},
   "outputs": [],
   "source": []
  }
 ],
 "metadata": {
  "kernelspec": {
   "display_name": "Python 3 (ipykernel)",
   "language": "python",
   "name": "python3"
  },
  "language_info": {
   "codemirror_mode": {
    "name": "ipython",
    "version": 3
   },
   "file_extension": ".py",
   "mimetype": "text/x-python",
   "name": "python",
   "nbconvert_exporter": "python",
   "pygments_lexer": "ipython3",
   "version": "3.7.11"
  }
 },
 "nbformat": 4,
 "nbformat_minor": 4
}
