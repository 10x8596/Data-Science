{
 "cells": [
  {
   "cell_type": "markdown",
   "metadata": {},
   "source": [
    "<h1 align='center'> COMP2420/COMP6420 - Introduction to Data Management, Analysis and Security</h1>\n",
    "\n",
    "<h2 align='center'> Lab 04 - Data Analysis: Linear Regression & Prediction </h2>\n",
    "\n",
    "*****"
   ]
  },
  {
   "cell_type": "markdown",
   "metadata": {},
   "source": [
    "## Aim\n",
    "There are three aims in this lab:\n",
    "1. Outline the common terms used in data analysis and machine learning models\n",
    "2. Introduce basic machine learning techniques used for numerical prediction\n",
    "3. Describe the theory and rationales behind these techniques, to enable accurate and well-guided decisions when creating models\n",
    "\n",
    "*****"
   ]
  },
  {
   "cell_type": "markdown",
   "metadata": {},
   "source": [
    "## Learning Outcomes\n",
    "- L03: Demonstrate basic knowledge and understanding of descriptive and predictive data analysis methods, optimization and search, and knowledge representation.\n",
    "- L04: Formulate and extract descriptive and predictive statistics from data\n",
    "- L05: Analyse and interpret results from descriptive and predictive data analysis\n",
    "- L06: Apply their knowledge to a given problem domain and articulate potential data analysis problems\n",
    "\n",
    "***"
   ]
  },
  {
   "cell_type": "markdown",
   "metadata": {},
   "source": [
    "## Preparation\n",
    "<sub> This can include lectures or external videos. Take your pick</sub>\n",
    "\n",
    "\n",
    "Before starting this lab, we suggest you complete the following:\n",
    "- Watch the lectures this week\n",
    "- Ensure you've completed and are familiar with Lab02 and Lab03 in particular\n",
    "\n",
    "\n",
    "The following functions may be useful for this lab:\n",
    "\n",
    "| Function | Description |\n",
    "| ---: |:---|\n",
    "| `lm.fit()` | fits and returns a linear model |\n",
    "| `model.predict()` | predict Y using the linear model with estimated coefficients |\n",
    "| `model.score()` | returns the coefficient of determination ( $R^2$ ) |\n",
    "| `model.intercept_`  | returns estimated intercept |\n",
    "| `model.coef_`  | returns estimated coefficients |\n",
    "| `train_test_split()` | splits your data into training and testing sets |\n",
    "| `pd.get_dummies()` | encode a categorical variable into separate columns (typically use `drop_first=True`) |\n",
    "\n",
    "***"
   ]
  },
  {
   "cell_type": "code",
   "execution_count": 51,
   "metadata": {},
   "outputs": [],
   "source": [
    "# import packages\n",
    "import numpy as np\n",
    "import pandas as pd\n",
    "from sklearn.linear_model import LinearRegression       # linear regression\n",
    "from sklearn.model_selection import train_test_split    # train-test split\n",
    "from sklearn.preprocessing import OneHotEncoder         # nominal variable\n",
    "\n",
    "import matplotlib.pyplot as plt\n",
    "import seaborn as sns\n",
    "plt.style.use('seaborn')"
   ]
  },
  {
   "cell_type": "markdown",
   "metadata": {},
   "source": [
    "### Exercise 1: Predicting Pounds"
   ]
  },
  {
   "cell_type": "markdown",
   "metadata": {},
   "source": [
    "We're going to use a simple dataset for this exercise with 200 records of only two variables: **height** and **weight**. Let's load this dataset from its web link."
   ]
  },
  {
   "cell_type": "code",
   "execution_count": 52,
   "metadata": {},
   "outputs": [
    {
     "data": {
      "text/html": [
       "<div>\n",
       "<style scoped>\n",
       "    .dataframe tbody tr th:only-of-type {\n",
       "        vertical-align: middle;\n",
       "    }\n",
       "\n",
       "    .dataframe tbody tr th {\n",
       "        vertical-align: top;\n",
       "    }\n",
       "\n",
       "    .dataframe thead th {\n",
       "        text-align: right;\n",
       "    }\n",
       "</style>\n",
       "<table border=\"1\" class=\"dataframe\">\n",
       "  <thead>\n",
       "    <tr style=\"text-align: right;\">\n",
       "      <th></th>\n",
       "      <th>Height(Inches)</th>\n",
       "      <th>Weight(Pounds)</th>\n",
       "    </tr>\n",
       "    <tr>\n",
       "      <th>Index</th>\n",
       "      <th></th>\n",
       "      <th></th>\n",
       "    </tr>\n",
       "  </thead>\n",
       "  <tbody>\n",
       "    <tr>\n",
       "      <th>1</th>\n",
       "      <td>65.78</td>\n",
       "      <td>112.99</td>\n",
       "    </tr>\n",
       "    <tr>\n",
       "      <th>2</th>\n",
       "      <td>71.52</td>\n",
       "      <td>136.49</td>\n",
       "    </tr>\n",
       "    <tr>\n",
       "      <th>3</th>\n",
       "      <td>69.40</td>\n",
       "      <td>153.03</td>\n",
       "    </tr>\n",
       "    <tr>\n",
       "      <th>4</th>\n",
       "      <td>68.22</td>\n",
       "      <td>142.34</td>\n",
       "    </tr>\n",
       "    <tr>\n",
       "      <th>5</th>\n",
       "      <td>67.79</td>\n",
       "      <td>144.30</td>\n",
       "    </tr>\n",
       "  </tbody>\n",
       "</table>\n",
       "</div>"
      ],
      "text/plain": [
       "       Height(Inches)  Weight(Pounds)\n",
       "Index                                \n",
       "1               65.78          112.99\n",
       "2               71.52          136.49\n",
       "3               69.40          153.03\n",
       "4               68.22          142.34\n",
       "5               67.79          144.30"
      ]
     },
     "execution_count": 52,
     "metadata": {},
     "output_type": "execute_result"
    }
   ],
   "source": [
    "url = 'http://wiki.stat.ucla.edu/socr/index.php/SOCR_Data_Dinov_020108_HeightsWeights'\n",
    "df_hw = pd.read_html(url, header=0, index_col=0)[1]\n",
    "df_hw.head()"
   ]
  },
  {
   "cell_type": "markdown",
   "metadata": {},
   "source": [
    "#### 1.1 Simple Linear Regression\n",
    "**Simple linear regression** is a method used to understand the relationship between the response variable (`y`) and the predictor (`x`), particularly where there is **only one predictor**. Thinking back to plotting straight lines, this has the form $$ y = \\beta_0 + \\beta_1 x $$\n",
    "(Note that this is similar to $ y = mx + b $, if you've seen that equation before). $\\beta_0$ is the coefficient that denotes the **intercept** (i.e. the value we expect `y` to be when `x`=0), and $\\beta_1$ denotes the **slope with respect to `x`** (i.e. the amount we expect `y` to increase if `x` increases by 1).\n",
    "\n",
    "If you haven't seen this before, it can be confusing. We'll guide you through this exercise to help you understand it. Given the dataset above, we want to see if there's a relationship between height and weight - and, most importantly, we want to understand this relationship as much as possible. We'll use Scikit-learn (`sklearn`)'s Linear Regression package to do it for us. Please check the formal documentation for Linear Regression module provided by (`sklearn`) <a href=\"https://scikit-learn.org/stable/modules/generated/sklearn.linear_model.LinearRegression.html\"> here</a>.\n",
    "\n",
    "First, let's **assign the columns** to `x` and `y`. Remember, we want to predict the weight (response) using the height (predictor)."
   ]
  },
  {
   "cell_type": "code",
   "execution_count": 53,
   "metadata": {},
   "outputs": [],
   "source": [
    "# assign the predictor to x\n",
    "x = df_hw[\"Height(Inches)\"]\n",
    "\n",
    "# assign the response to y\n",
    "y = df_hw[\"Weight(Pounds)\"]"
   ]
  },
  {
   "cell_type": "markdown",
   "metadata": {},
   "source": [
    "Now let's call the `LinearRegression` module (make sure you run the imports code block at the start)."
   ]
  },
  {
   "cell_type": "code",
   "execution_count": 54,
   "metadata": {},
   "outputs": [
    {
     "name": "stdout",
     "output_type": "stream",
     "text": [
      "The intercept of this model is: -106.02770644878126\n",
      "The slope coefficient of this model is: 3.432676129271628\n",
      "\n",
      "Thus the equation is: Weight = -106.03 + 3.43 * Height\n"
     ]
    }
   ],
   "source": [
    "# create a LinearRegression instance\n",
    "lr = LinearRegression()\n",
    "\n",
    "# fit the data using linear regression\n",
    "# the reshaping is because the function expects more columns in x\n",
    "model = lr.fit(np.array(x).reshape(-1,1),y)\n",
    "\n",
    "# now let's see the coefficients\n",
    "print(\"The intercept of this model is:\", model.intercept_)\n",
    "print(\"The slope coefficient of this model is:\", model.coef_[0])\n",
    "print(\"\")\n",
    "print(\"Thus the equation is: Weight =\", model.intercept_.round(2), \"+\", model.coef_[0].round(2), \"* Height\")"
   ]
  },
  {
   "cell_type": "markdown",
   "metadata": {},
   "source": [
    "We can see the relationship as an equation now! It's interesting that the intercept is -106.03 (which indicates that when Height is very small then Weight is negative, which would be impossible), but that's just because our data has a very limited range.\n",
    "\n",
    "As great as an equation is, it'd be better if we could understand it visually. Let's plot the points and add the regression line."
   ]
  },
  {
   "cell_type": "code",
   "execution_count": 55,
   "metadata": {},
   "outputs": [
    {
     "data": {
      "image/png": "[encoded data removed]",
      "text/plain": [
       "<Figure size 576x396 with 1 Axes>"
      ]
     },
     "metadata": {},
     "output_type": "display_data"
    }
   ],
   "source": [
    "fig = plt.figure()\n",
    "ax = fig.add_subplot(111)\n",
    "\n",
    "# scatter the points\n",
    "plt.scatter(x,y)\n",
    "\n",
    "# add the regression line\n",
    "b0 = model.intercept_\n",
    "b1 = model.coef_[0]\n",
    "x_range = [x.min(), x.max()]                      # get the bounds for x\n",
    "y_range = [b0+b1*x_range[0], b0+b1*x_range[1]]    # get the bounds for y\n",
    "plt.plot(x_range, y_range, c=\"red\")\n",
    "\n",
    "# add some labels and titles\n",
    "ax.set_xlabel(\"Height (Inches)\")\n",
    "ax.set_ylabel(\"Weight (Pounds)\")\n",
    "ax.set_title(\"Model of Weight vs Height\")\n",
    "\n",
    "plt.show()"
   ]
  },
  {
   "cell_type": "markdown",
   "metadata": {},
   "source": [
    "How's that? We can see a clear relationship between height and weight, and we also know the exact equation of the relationship. Now let's see how accurately it fit the data."
   ]
  },
  {
   "cell_type": "code",
   "execution_count": 56,
   "metadata": {},
   "outputs": [
    {
     "data": {
      "text/plain": [
       "0.31009833265482667"
      ]
     },
     "execution_count": 56,
     "metadata": {},
     "output_type": "execute_result"
    }
   ],
   "source": [
    "model.score(np.array(df_hw[\"Height(Inches)\"]).reshape(-1,1), df_hw[\"Weight(Pounds)\"])"
   ]
  },
  {
   "cell_type": "markdown",
   "metadata": {},
   "source": [
    "The output of that function is the $ R^2 $, or **R-squared** score. It ranges from 0 to 1 (although some very bad models can have negative scores), and the higher the score the better. The score penalises predictions that are far away from the actual value (where the vertical distance between the prediction and the actual point is called the **residual**).\n",
    "\n",
    "The score above isn't great, because there's so much variation - that is, for the same height, there are many different weights. Because of this, keep in mind that the $R^2$ score is **relative**, and changes depending on the data you're working with.\n",
    "\n",
    "Suppose you know someone who's **70 inches** (178cm) tall, but you don't know their weight (and you'd guess they have an \"average\" build). Using the equation we found, estimate their weight."
   ]
  },
  {
   "cell_type": "code",
   "execution_count": 57,
   "metadata": {},
   "outputs": [
    {
     "name": "stdout",
     "output_type": "stream",
     "text": [
      "Weight is predicted to be 134.07 pounds\n"
     ]
    }
   ],
   "source": [
    "# TODO: your answer here\n",
    "print(\"Weight is predicted to be\", np.round(-106.03 + 3.43 * 70, 2), \"pounds\")"
   ]
  },
  {
   "cell_type": "markdown",
   "metadata": {},
   "source": [
    "Now suppose you know a toddler who's **30 inches** (76cm) tall. Using the equation again, estimate their weight."
   ]
  },
  {
   "cell_type": "code",
   "execution_count": 58,
   "metadata": {},
   "outputs": [
    {
     "name": "stdout",
     "output_type": "stream",
     "text": [
      "Weight is predicted to be -3.13 pounds\n"
     ]
    }
   ],
   "source": [
    "# TODO: your answer here\n",
    "print(\"Weight is predicted to be\", np.round(-106.03 + 3.43 * 30, 2), \"pounds\")"
   ]
  },
  {
   "cell_type": "markdown",
   "metadata": {},
   "source": [
    "Did you get a weird answer? *Hint: you should have.* How come? If you're not sure why, discuss with your classmates or tutor."
   ]
  },
  {
   "cell_type": "markdown",
   "metadata": {},
   "source": [
    "Weird answer is because this data is only fit to people who are between 63 and 74 inches tall - predicting for values well outside this range would be assuming that the data follows the same linear trend overall (which is certainly not true for weight vs height)."
   ]
  },
  {
   "cell_type": "markdown",
   "metadata": {},
   "source": [
    "### Exercise 2: Huts, Homes & Houses\n",
    "Let's look at a sample of a <a href=\"https://www.kaggle.com/c/house-prices-advanced-regression-techniques/data\">dataset from Kaggle</a> on the sale price of a house based on a variety of other metrics. We'll try to **predict the sale price** using regression techniques.\n",
    "\n",
    "Here are the descriptions of the columns. We won't necessarily be using all of them (although you'll have a chance to pick and choose in the extension section of this lab), but it's useful to know what you're working with.\n",
    "\n",
    "| Name           | Description |\n",
    "| ---:           | :---        |\n",
    "| `LotArea`      | size of lot in square feet |\n",
    "| `OverallQual`  | rating of the overall material and finish of the house (higher is better) |\n",
    "| `OverallCond`  | rating of the current condition of the house (higher is better) |\n",
    "| `YearBuilt`    | original construction date |\n",
    "| `YearRemodAdd` | date that the last remodelling was done (=`YearBuilt` if no remodelling)\n",
    "| `GrLivArea`    | above-ground living area in square feet |\n",
    "| `FullBath`     | number of above-ground, full-sized bathrooms |\n",
    "| `BedroomAbvGr` | number of above-ground bedrooms |\n",
    "| `KitchenAbvGr` | number of above-ground kitchens |\n",
    "| `GarageArea`   | size of garage in square feet |\n",
    "| `YrSold`       | year that the lot was sold |\n",
    "| `LotShape`     | general shape of property<br>(`Reg`=Regular, `IR1`=Slightly irregular, `IR2`=Moderately irregular, `IR3`=Very irregular)\n",
    "| `LotConfig`    | configuration of lot<br>(`Inside`, `Corner`, `CulDSac`=Cul-de-sac lot, `FR2`=Frontage on 2 sides, `FR3`=Frontage on 3 sides)\n",
    "| `SalePrice`    | property's sale price in dollars |\n",
    "\n",
    "Let's import and have a look at our data."
   ]
  },
  {
   "cell_type": "code",
   "execution_count": 59,
   "metadata": {},
   "outputs": [
    {
     "name": "stdout",
     "output_type": "stream",
     "text": [
      "Index(['LotArea', 'OverallQual', 'OverallCond', 'YearBuilt', 'YearRemodAdd',\n",
      "       'GrLivArea', 'FullBath', 'BedroomAbvGr', 'KitchenAbvGr', 'GarageArea',\n",
      "       'YrSold', 'LotShape', 'LotConfig', 'SalePrice'],\n",
      "      dtype='object')\n"
     ]
    },
    {
     "data": {
      "text/html": [
       "<div>\n",
       "<style scoped>\n",
       "    .dataframe tbody tr th:only-of-type {\n",
       "        vertical-align: middle;\n",
       "    }\n",
       "\n",
       "    .dataframe tbody tr th {\n",
       "        vertical-align: top;\n",
       "    }\n",
       "\n",
       "    .dataframe thead th {\n",
       "        text-align: right;\n",
       "    }\n",
       "</style>\n",
       "<table border=\"1\" class=\"dataframe\">\n",
       "  <thead>\n",
       "    <tr style=\"text-align: right;\">\n",
       "      <th></th>\n",
       "      <th>LotArea</th>\n",
       "      <th>OverallQual</th>\n",
       "      <th>OverallCond</th>\n",
       "      <th>YearBuilt</th>\n",
       "      <th>YearRemodAdd</th>\n",
       "      <th>GrLivArea</th>\n",
       "      <th>FullBath</th>\n",
       "      <th>BedroomAbvGr</th>\n",
       "      <th>KitchenAbvGr</th>\n",
       "      <th>GarageArea</th>\n",
       "      <th>YrSold</th>\n",
       "      <th>SalePrice</th>\n",
       "    </tr>\n",
       "  </thead>\n",
       "  <tbody>\n",
       "    <tr>\n",
       "      <th>count</th>\n",
       "      <td>1460.000000</td>\n",
       "      <td>1460.000000</td>\n",
       "      <td>1460.000000</td>\n",
       "      <td>1460.000000</td>\n",
       "      <td>1460.000000</td>\n",
       "      <td>1460.000000</td>\n",
       "      <td>1460.000000</td>\n",
       "      <td>1460.000000</td>\n",
       "      <td>1460.000000</td>\n",
       "      <td>1460.000000</td>\n",
       "      <td>1460.000000</td>\n",
       "      <td>1460.000000</td>\n",
       "    </tr>\n",
       "    <tr>\n",
       "      <th>mean</th>\n",
       "      <td>10516.828082</td>\n",
       "      <td>6.099315</td>\n",
       "      <td>5.575342</td>\n",
       "      <td>1971.267808</td>\n",
       "      <td>1984.865753</td>\n",
       "      <td>1515.463699</td>\n",
       "      <td>1.565068</td>\n",
       "      <td>2.866438</td>\n",
       "      <td>1.046575</td>\n",
       "      <td>472.980137</td>\n",
       "      <td>2007.815753</td>\n",
       "      <td>180921.195890</td>\n",
       "    </tr>\n",
       "    <tr>\n",
       "      <th>std</th>\n",
       "      <td>9981.264932</td>\n",
       "      <td>1.382997</td>\n",
       "      <td>1.112799</td>\n",
       "      <td>30.202904</td>\n",
       "      <td>20.645407</td>\n",
       "      <td>525.480383</td>\n",
       "      <td>0.550916</td>\n",
       "      <td>0.815778</td>\n",
       "      <td>0.220338</td>\n",
       "      <td>213.804841</td>\n",
       "      <td>1.328095</td>\n",
       "      <td>79442.502883</td>\n",
       "    </tr>\n",
       "    <tr>\n",
       "      <th>min</th>\n",
       "      <td>1300.000000</td>\n",
       "      <td>1.000000</td>\n",
       "      <td>1.000000</td>\n",
       "      <td>1872.000000</td>\n",
       "      <td>1950.000000</td>\n",
       "      <td>334.000000</td>\n",
       "      <td>0.000000</td>\n",
       "      <td>0.000000</td>\n",
       "      <td>0.000000</td>\n",
       "      <td>0.000000</td>\n",
       "      <td>2006.000000</td>\n",
       "      <td>34900.000000</td>\n",
       "    </tr>\n",
       "    <tr>\n",
       "      <th>25%</th>\n",
       "      <td>7553.500000</td>\n",
       "      <td>5.000000</td>\n",
       "      <td>5.000000</td>\n",
       "      <td>1954.000000</td>\n",
       "      <td>1967.000000</td>\n",
       "      <td>1129.500000</td>\n",
       "      <td>1.000000</td>\n",
       "      <td>2.000000</td>\n",
       "      <td>1.000000</td>\n",
       "      <td>334.500000</td>\n",
       "      <td>2007.000000</td>\n",
       "      <td>129975.000000</td>\n",
       "    </tr>\n",
       "    <tr>\n",
       "      <th>50%</th>\n",
       "      <td>9478.500000</td>\n",
       "      <td>6.000000</td>\n",
       "      <td>5.000000</td>\n",
       "      <td>1973.000000</td>\n",
       "      <td>1994.000000</td>\n",
       "      <td>1464.000000</td>\n",
       "      <td>2.000000</td>\n",
       "      <td>3.000000</td>\n",
       "      <td>1.000000</td>\n",
       "      <td>480.000000</td>\n",
       "      <td>2008.000000</td>\n",
       "      <td>163000.000000</td>\n",
       "    </tr>\n",
       "    <tr>\n",
       "      <th>75%</th>\n",
       "      <td>11601.500000</td>\n",
       "      <td>7.000000</td>\n",
       "      <td>6.000000</td>\n",
       "      <td>2000.000000</td>\n",
       "      <td>2004.000000</td>\n",
       "      <td>1776.750000</td>\n",
       "      <td>2.000000</td>\n",
       "      <td>3.000000</td>\n",
       "      <td>1.000000</td>\n",
       "      <td>576.000000</td>\n",
       "      <td>2009.000000</td>\n",
       "      <td>214000.000000</td>\n",
       "    </tr>\n",
       "    <tr>\n",
       "      <th>max</th>\n",
       "      <td>215245.000000</td>\n",
       "      <td>10.000000</td>\n",
       "      <td>9.000000</td>\n",
       "      <td>2010.000000</td>\n",
       "      <td>2010.000000</td>\n",
       "      <td>5642.000000</td>\n",
       "      <td>3.000000</td>\n",
       "      <td>8.000000</td>\n",
       "      <td>3.000000</td>\n",
       "      <td>1418.000000</td>\n",
       "      <td>2010.000000</td>\n",
       "      <td>755000.000000</td>\n",
       "    </tr>\n",
       "  </tbody>\n",
       "</table>\n",
       "</div>"
      ],
      "text/plain": [
       "             LotArea  OverallQual  OverallCond    YearBuilt  YearRemodAdd  \\\n",
       "count    1460.000000  1460.000000  1460.000000  1460.000000   1460.000000   \n",
       "mean    10516.828082     6.099315     5.575342  1971.267808   1984.865753   \n",
       "std      9981.264932     1.382997     1.112799    30.202904     20.645407   \n",
       "min      1300.000000     1.000000     1.000000  1872.000000   1950.000000   \n",
       "25%      7553.500000     5.000000     5.000000  1954.000000   1967.000000   \n",
       "50%      9478.500000     6.000000     5.000000  1973.000000   1994.000000   \n",
       "75%     11601.500000     7.000000     6.000000  2000.000000   2004.000000   \n",
       "max    215245.000000    10.000000     9.000000  2010.000000   2010.000000   \n",
       "\n",
       "         GrLivArea     FullBath  BedroomAbvGr  KitchenAbvGr   GarageArea  \\\n",
       "count  1460.000000  1460.000000   1460.000000   1460.000000  1460.000000   \n",
       "mean   1515.463699     1.565068      2.866438      1.046575   472.980137   \n",
       "std     525.480383     0.550916      0.815778      0.220338   213.804841   \n",
       "min     334.000000     0.000000      0.000000      0.000000     0.000000   \n",
       "25%    1129.500000     1.000000      2.000000      1.000000   334.500000   \n",
       "50%    1464.000000     2.000000      3.000000      1.000000   480.000000   \n",
       "75%    1776.750000     2.000000      3.000000      1.000000   576.000000   \n",
       "max    5642.000000     3.000000      8.000000      3.000000  1418.000000   \n",
       "\n",
       "            YrSold      SalePrice  \n",
       "count  1460.000000    1460.000000  \n",
       "mean   2007.815753  180921.195890  \n",
       "std       1.328095   79442.502883  \n",
       "min    2006.000000   34900.000000  \n",
       "25%    2007.000000  129975.000000  \n",
       "50%    2008.000000  163000.000000  \n",
       "75%    2009.000000  214000.000000  \n",
       "max    2010.000000  755000.000000  "
      ]
     },
     "execution_count": 59,
     "metadata": {},
     "output_type": "execute_result"
    }
   ],
   "source": [
    "# import data\n",
    "houses = pd.read_csv(\"./data/houses_sub.csv\", index_col=0)\n",
    "\n",
    "# always nice to look at columns and summary info\n",
    "print(houses.columns)\n",
    "houses.describe()\n",
    "\n",
    "# notice that LotShape and LotConfig do not show in the describe() table\n",
    "# this is because they are categorical variables, not numerical"
   ]
  },
  {
   "cell_type": "markdown",
   "metadata": {},
   "source": [
    "#### 2.1 Understanding the experiment and data\n",
    "\n",
    "Before diving into the data, we should understand the nature of the data - not only because it will help you perform better analysis and reach more accurate conclusions, but also for reasons that will become clear during the Ethics section of this course. Answer the discussion questions below.\n",
    "\n",
    "An **independent variable** (also called a predictor, explanatory variable, feature, or simply `X`) is an element that we use to predict the **dependent variable** (response, explained variable, target, or simply `Y`) - these terms are used interchangably with their synonyms so be prepared to see any of these in future lectures, labs and assessment.\n",
    "\n",
    "**Identify the response** for this dataset. To make things interesting, also **guess which predictors would be best for predicting the response**."
   ]
  },
  {
   "cell_type": "markdown",
   "metadata": {},
   "source": [
    "### TODO: your answer here\n",
    "Response: SalePrice\n",
    "Best predictors: LotArea, YearBuilt, BedroomAbvGr (no correct answer here)"
   ]
  },
  {
   "cell_type": "markdown",
   "metadata": {},
   "source": [
    "To help you understand the data, plot a **histogram of the sales price**. Then plot a **side-by-side boxplot of price based on the year the house was built**. To reduce the number of boxplots, group all houses before 1920 in one category, houses in 1921-1950 in another category, and then group by decades after that (1951-1960, 1961-1970, ...) - or if you're feeling adventurous, you can choose another grouping. What do you notice?"
   ]
  },
  {
   "cell_type": "code",
   "execution_count": 60,
   "metadata": {},
   "outputs": [
    {
     "data": {
      "image/png": "[encoded data removed]",
      "text/plain": [
       "<Figure size 1152x576 with 2 Axes>"
      ]
     },
     "metadata": {},
     "output_type": "display_data"
    }
   ],
   "source": [
    "# TODO: your answer here\n",
    "fig = plt.figure(figsize=(16,8))\n",
    "\n",
    "# histogram\n",
    "ax1 = fig.add_subplot(121)\n",
    "ax1.hist(houses[\"SalePrice\"])\n",
    "ax1.set_title(\"Distribution of Sales Price\")\n",
    "ax1.set_xlabel(\"Price ($)\")\n",
    "\n",
    "# side-by-side boxplot\n",
    "ax2 = fig.add_subplot(122)\n",
    "yr_built = houses[\"YearBuilt\"]\n",
    "year_bound = [np.min(yr_built)-1, 1920, 1950, 1960, 1970, 1980, 1990, 2000, 2010]\n",
    "ax2.boxplot([houses[\"SalePrice\"][yr_built>year_bound[i]][yr_built<=year_bound[i+1]] for i,yr in enumerate(year_bound[:-1])])\n",
    "ax2.set_xticklabels([str(year) for year in year_bound[:-1]])\n",
    "\n",
    "plt.show()"
   ]
  },
  {
   "cell_type": "markdown",
   "metadata": {},
   "source": [
    "We encourage you to do some more exploratory data analysis. If you haven't already done so, you should use the Pandas `unique()` function for the categorical variables (check the formal documentation to learn about it: https://pandas.pydata.org/docs/reference/api/pandas.unique.html)."
   ]
  },
  {
   "cell_type": "code",
   "execution_count": 61,
   "metadata": {},
   "outputs": [
    {
     "name": "stdout",
     "output_type": "stream",
     "text": [
      "['Reg' 'IR1' 'IR2' 'IR3']\n",
      "['Inside' 'FR2' 'Corner' 'CulDSac' 'FR3']\n"
     ]
    }
   ],
   "source": [
    "# TODO: your answer here (if needed)\n",
    "print(houses[\"LotShape\"].unique())\n",
    "print(houses[\"LotConfig\"].unique())"
   ]
  },
  {
   "cell_type": "markdown",
   "metadata": {},
   "source": [
    "#### 2.2 Simple linear regression - your turn"
   ]
  },
  {
   "cell_type": "markdown",
   "metadata": {},
   "source": [
    "We've done simple linear regression (SLR) already, but now we want you to do it by yourself. You can use the example we gave above as a template if you wish.\n",
    "\n",
    "Create a **simple linear regression model** of **sale price** based on **lot area**. Report the coefficients (intercept and slope) of your model and interpret what they mean."
   ]
  },
  {
   "cell_type": "code",
   "execution_count": 62,
   "metadata": {},
   "outputs": [
    {
     "name": "stdout",
     "output_type": "stream",
     "text": [
      "The intercept of this model is: 158836.15189687657\n",
      "The slope coefficient of this model is: 2.0999719517076754\n",
      "\n",
      "Thus the equation is: SalePrice = 158836.15 + 2.1 * LotArea\n"
     ]
    }
   ],
   "source": [
    "x = houses[\"LotArea\"]\n",
    "y = houses[\"SalePrice\"]\n",
    "\n",
    "# create a LinearRegression instance\n",
    "lr = LinearRegression()\n",
    "\n",
    "# fit the data using linear regression\n",
    "# the reshaping is because the function expects more columns in x\n",
    "model = lr.fit(np.array(x).reshape(-1,1),y)\n",
    "\n",
    "# now let's see the coefficients\n",
    "print(\"The intercept of this model is:\", model.intercept_)\n",
    "print(\"The slope coefficient of this model is:\", model.coef_[0])\n",
    "print(\"\")\n",
    "print(\"Thus the equation is: SalePrice =\", model.intercept_.round(2), \"+\", model.coef_[0].round(2), \"* LotArea\")"
   ]
  },
  {
   "cell_type": "markdown",
   "metadata": {},
   "source": [
    "For every incremental increase in square feet of lot area, the sales price increases by $2.10 on average. The intercept also indicates a lower bound on the mean price of a house, regardless of lot area."
   ]
  },
  {
   "cell_type": "code",
   "execution_count": 63,
   "metadata": {},
   "outputs": [
    {
     "data": {
      "image/png": "[encoded data removed]",
      "text/plain": [
       "<Figure size 576x396 with 1 Axes>"
      ]
     },
     "metadata": {},
     "output_type": "display_data"
    }
   ],
   "source": [
    "fig = plt.figure()\n",
    "ax = fig.add_subplot(111)\n",
    "\n",
    "# scatter the points\n",
    "plt.scatter(x,y)\n",
    "\n",
    "# add the regression line\n",
    "b0 = model.intercept_\n",
    "b1 = model.coef_[0]\n",
    "x_range = [x.min(), x.max()]                      # get the bounds for x\n",
    "y_range = [b0+b1*x_range[0], b0+b1*x_range[1]]    # get the bounds for y\n",
    "plt.plot(x_range, y_range, c=\"red\")\n",
    "\n",
    "# add some labels and titles\n",
    "ax.set_xlabel(\"Lot Area\")\n",
    "ax.set_ylabel(\"Price\")\n",
    "ax.set_title(\"Model of Weight vs Height\")\n",
    "\n",
    "plt.show()"
   ]
  },
  {
   "cell_type": "markdown",
   "metadata": {},
   "source": [
    "You want to sell your home, which has a lot area of 36,000 square feet. Based only on your model above, what do you expect your house will sell for? First use the equation directly, then let sklearn's `model.predict()` function estimate it for you. *Hint: you should get the same answer.*"
   ]
  },
  {
   "cell_type": "code",
   "execution_count": 64,
   "metadata": {},
   "outputs": [
    {
     "name": "stdout",
     "output_type": "stream",
     "text": [
      "Sale Price is predicted to be  $ 234436.15\n",
      "sklearn predicts sale price of $ 234435.14\n"
     ]
    }
   ],
   "source": [
    "# TODO: your answer here\n",
    "print(\"Sale Price is predicted to be  $\", 158836.15 + 2.1*36000)\n",
    "print(\"sklearn predicts sale price of $\", model.predict(np.array([36000]).reshape(-1,1))[0].round(2))"
   ]
  },
  {
   "cell_type": "markdown",
   "metadata": {},
   "source": [
    "#### 2.3 Not So Simple Anymore\n",
    "\n",
    "Now that you know how to create an SLR model, can you extend it to a Multiple Linear Regression (MLR) model? This time, assign a list of variables to `x` (still only one column for `y`), and the output of `model.coef_` will have slope coefficients in the same order as the variables in `x`.\n",
    "\n",
    "Create a **multiple linear regression model** with **sales price** dependent on **lot area** and **year built**. Report the coefficients and compare this to the first model."
   ]
  },
  {
   "cell_type": "code",
   "execution_count": 65,
   "metadata": {},
   "outputs": [
    {
     "name": "stdout",
     "output_type": "stream",
     "text": [
      "The intercept of this model is: -2532856.024570322\n",
      "The slope coefficient of this model is: [   2.04117215 1365.77615312]\n",
      "\n",
      "Thus the equation is: SalePrice = -2532856.02 + 2.04 * LotArea + 1365.78 * YearBuilt\n"
     ]
    }
   ],
   "source": [
    "# TODO: your answer here\n",
    "X = houses.loc[:,[\"LotArea\",\"YearBuilt\"]]\n",
    "y = houses[\"SalePrice\"]\n",
    "\n",
    "# create a LinearRegression instance\n",
    "lr = LinearRegression()\n",
    "\n",
    "# fit the data using linear regression\n",
    "# the reshaping is because the function expects more columns in x\n",
    "model = lr.fit(X,y)\n",
    "\n",
    "# now let's see the coefficients\n",
    "print(\"The intercept of this model is:\", model.intercept_)\n",
    "print(\"The slope coefficient of this model is:\", model.coef_)\n",
    "print(\"\")\n",
    "print(\"Thus the equation is: SalePrice =\", model.intercept_.round(2), \"+\", \n",
    "      \" + \".join([\" \".join([str(coef.round(2)),\"*\",X.columns[i]]) for i,coef in enumerate(model.coef_)]))"
   ]
  },
  {
   "cell_type": "markdown",
   "metadata": {},
   "source": [
    "LotArea coefficient is similar but not the same (slight codependence). Also, the intercept has changed drastically."
   ]
  },
  {
   "cell_type": "markdown",
   "metadata": {},
   "source": [
    "You might have noticed that the coefficient for `LotArea` is different to your SLR model. This is because the coefficients are dependent on the existence of other variables in the model. As you add or remove or swap variables, these coefficients will change - especially if the variables are **codependent** (i.e. not independent; a change in one variable is likely to cause a change in the other). Because of this, it can be harder to interpret each coefficient, and to do so would require \"holding all other variables constant\" (which is unrealistic)."
   ]
  },
  {
   "cell_type": "markdown",
   "metadata": {},
   "source": [
    "#### 2.4 Evaluate Your Model on a Test Set\n",
    "\n",
    "Before, we asked you to estimate your house price by using a SLR and a MLR, and you have seen - but how do you know how accurate that estimates are?\n",
    "\n",
    "Let's introduce the concept of a **train-test split**. The name gives it away: you split your data into a **training set** and a **testing set** (usually 80% or 90% training); **build your model** using only the training set, and **test your model** using the testing set.\n",
    "\n",
    "As an analogy, imagine your model is a student. Of course, you want to teach your student how to solve problems, but you also want to test its performance at some point. If you show the student the test (and the solutions) before you test them, that defeats the purpose - you're not gauging their performance, only their ability to memorise the solutions. That's why you hide the test while they learn, and then *Pop Quiz!* test their abilities.\n",
    "\n",
    "Let's use the same dataset, but this time we'll split it into two sets, with 80% of the datapoints for training and the other 20% for testing. You can do this using Scikit-learn's `train_test_split()` function."
   ]
  },
  {
   "cell_type": "code",
   "execution_count": 74,
   "metadata": {},
   "outputs": [
    {
     "data": {
      "text/plain": [
       "((1168, 14), (292, 14))"
      ]
     },
     "execution_count": 74,
     "metadata": {},
     "output_type": "execute_result"
    }
   ],
   "source": [
    "# train-test split\n",
    "train, test = train_test_split(houses, test_size=0.2)\n",
    "# make sure you've split it correctly\n",
    "train.shape, test.shape"
   ]
  },
  {
   "cell_type": "markdown",
   "metadata": {},
   "source": [
    "Now train the same SLR model (**sales price** dependent on **lot area**) and MLR model (**sales price** dependent on **lot area** and **year built**) on the train split."
   ]
  },
  {
   "cell_type": "code",
   "execution_count": 87,
   "metadata": {},
   "outputs": [],
   "source": [
    "# TODO: train model\n",
    "x_train_SLR = np.array(train[\"LotArea\"]).reshape(-1,1)\n",
    "x_train_MLR = np.array(train.loc[:,[\"LotArea\",\"YearBuilt\"]])\n",
    "y_train = train[\"SalePrice\"]\n",
    "\n",
    "# fit model\n",
    "lr_SLR = LinearRegression()\n",
    "lr_MLR = LinearRegression()\n",
    "\n",
    "model_SLR = lr_SLR.fit(x_train_SLR, y_train)\n",
    "model_MLR = lr_MLR.fit(x_train_MLR, y_train)"
   ]
  },
  {
   "cell_type": "markdown",
   "metadata": {},
   "source": [
    "Then, using the `score()` function, test the models' performance on the testing data (`test`). You will (likely, depending on the split of the data) notice that the **the MLR testing score is higher than the SLR testing score**. Why would this be the case?"
   ]
  },
  {
   "cell_type": "code",
   "execution_count": 90,
   "metadata": {},
   "outputs": [
    {
     "name": "stdout",
     "output_type": "stream",
     "text": [
      "SLR Test Score:  0.08515086564369412\n",
      "MLR Test Score:  0.37912015869882454\n"
     ]
    }
   ],
   "source": [
    "# TODO: check the test score and training score of your models\n",
    "x_test_SLR = np.array(test[\"LotArea\"]).reshape(-1,1)\n",
    "x_test_MLR = np.array(test.loc[:,[\"LotArea\",\"YearBuilt\"]])\n",
    "\n",
    "y_test = test[\"SalePrice\"]\n",
    "print(\"SLR Test Score: \", model_SLR.score(x_test_SLR, y_test))\n",
    "print(\"MLR Test Score: \", model_MLR.score(x_test_MLR, y_test))"
   ]
  },
  {
   "cell_type": "markdown",
   "metadata": {},
   "source": [
    "### Exercise 3: Playing With Variables\n",
    "Sometimes your variables are useful as predictors, but not quite in the form you have them. You may need to apply some changes to the variable - particularly by **transforming** the variable by taking its square or **recoding** an ordinal variable to have a numerical value."
   ]
  },
  {
   "cell_type": "markdown",
   "metadata": {},
   "source": [
    "#### 3.1 Believe In A Higher Power\n",
    "The relationship between a predictor and the target may not be linear, but instead have a upwards-curving relationship. For example, if we try to predict the volume of a tree trunk (which is usually cylindrical) with its radius and height, we would get a more accurate prediction by using squared radius.\n",
    "\n",
    "To illustrate this, plot the relationship between `SalePrice` and `OverallQual` in a scatterplot. Include a line showing the relationship of the means of `SalePrice` for each level of `OverallQual`."
   ]
  },
  {
   "cell_type": "code",
   "execution_count": 16,
   "metadata": {},
   "outputs": [
    {
     "data": {
      "image/png": "[encoded data removed]",
      "text/plain": [
       "<Figure size 576x396 with 1 Axes>"
      ]
     },
     "metadata": {},
     "output_type": "display_data"
    }
   ],
   "source": [
    "# TODO: plot SalePrice against OverallQual\n",
    "plt.scatter(houses[\"OverallQual\"], houses[\"SalePrice\"])\n",
    "plt.title(\"Sales Price vs Overall Quality\")\n",
    "plt.ylabel(\"Sales Price ($)\")\n",
    "plt.xlabel(\"Overall Quality Rating\")\n",
    "plt.show()"
   ]
  },
  {
   "cell_type": "markdown",
   "metadata": {},
   "source": [
    "You'll notice that this has a slightly curved relationship. To take advantage of this, split the data into training and testing sets, and create two models:\n",
    " - a **simple linear regression** model \n",
    " - a **multiple linear regression** model\n",
    "\n",
    "Remember, you can use `np.square()` on a Pandas Series object to take the square of the column. **Find the testing score** for each model and compare them. Which one gets the higher score?"
   ]
  },
  {
   "cell_type": "code",
   "execution_count": 91,
   "metadata": {},
   "outputs": [
    {
     "data": {
      "text/plain": [
       "((1168, 14), (292, 14))"
      ]
     },
     "execution_count": 91,
     "metadata": {},
     "output_type": "execute_result"
    }
   ],
   "source": [
    "# TODO: split data, create and compare the two models\n",
    "train, test = train_test_split(houses, test_size=0.2)\n",
    "train.shape, test.shape    # check the shapes to make sure we got it right"
   ]
  },
  {
   "cell_type": "code",
   "execution_count": 92,
   "metadata": {},
   "outputs": [
    {
     "name": "stdout",
     "output_type": "stream",
     "text": [
      "SLR Test Score: 0.6355048594421405\n",
      "MLR Test Score: 0.7137532465378682\n"
     ]
    }
   ],
   "source": [
    "# set x and y for training\n",
    "x_train = np.array(train[\"OverallQual\"]).reshape(-1,1)\n",
    "x_train2 = np.array([train[\"OverallQual\"], np.square(train[\"OverallQual\"])]).T\n",
    "y_train = train[\"SalePrice\"]\n",
    "\n",
    "# set x and y for testing\n",
    "x_test = np.array(test[\"OverallQual\"]).reshape(-1,1)\n",
    "x_test2 = np.array([test[\"OverallQual\"], np.square(test[\"OverallQual\"])]).T\n",
    "y_test = test[\"SalePrice\"]\n",
    "\n",
    "# fit and score the simple linear regression model\n",
    "lr1 = LinearRegression()\n",
    "model1 = lr1.fit(x_train, y_train)\n",
    "print(\"SLR Test Score:\", model1.score(x_test, y_test))\n",
    "\n",
    "# fit and score the multiple linear regression model\n",
    "lr2 = LinearRegression()\n",
    "model2 = lr2.fit(x_train2, y_train)\n",
    "print(\"MLR Test Score:\", model2.score(x_test2, y_test))"
   ]
  },
  {
   "cell_type": "markdown",
   "metadata": {},
   "source": [
    "The MLR score is higher, as it more accurately fits the curved relationship."
   ]
  },
  {
   "cell_type": "markdown",
   "metadata": {},
   "source": [
    "Generally, if we include the squared variable ($\\text{OverallQual}^2$), then we should also include the original variable ($\\text{OverallQual}$). Thinking back to the form of a parabola, this is to account for shifts in the curve in the `x`-direction."
   ]
  },
  {
   "cell_type": "markdown",
   "metadata": {},
   "source": [
    "#### 3.2 Categorical Variables\n",
    "Sometimes we deal with categorical variables, which can be difficult to use for predicting. After all, using the form $Y = \\beta_0 + \\beta_1 X_1$ doesn't work if $X_1$ isn't a numerical variable. So what can we do?\n",
    "\n",
    "We have two scenarios:\n",
    "- The variable is a **nominal** variable (such as Gender, Occupation or Suburb), where there is no ordering between the values. In this case, we'll use a **One-Hot Encoder**, where we create `K-1` new columns where each of these columns (2, ..., `K`) represent a value that the variable can take. Then, each of these columns can be either 0 or 1. Note that `k=1` is dropped because it's redundant (if all other columns are 0, then the first must be 1).\n",
    "- The variable is an **ordinal** variable (such as Rating, Shirt Size or in certain cases Weekday), where there is a natural ordering. This can simply be encoded into a single column based on this ordering - we'll explore this more in the next section.\n",
    "\n",
    "Let's first look at a nominal variable, `LotConfig`. To start, create a side-by-side boxplot with `SalePrice` against each of the values of `LotConfig`."
   ]
  },
  {
   "cell_type": "code",
   "execution_count": 19,
   "metadata": {},
   "outputs": [
    {
     "data": {
      "image/png": "[encoded data removed]",
      "text/plain": [
       "<Figure size 576x396 with 1 Axes>"
      ]
     },
     "metadata": {},
     "output_type": "display_data"
    }
   ],
   "source": [
    "# TODO: side-by-side boxplot for each unique value of LotConfig\n",
    "plt.boxplot([houses[\"SalePrice\"][houses[\"LotConfig\"]==category] \n",
    "             for category in houses[\"LotConfig\"].unique()])\n",
    "plt.xticks(list(range(1,len(houses[\"LotConfig\"].unique())+1)), houses[\"LotConfig\"].unique())\n",
    "plt.show()"
   ]
  },
  {
   "cell_type": "markdown",
   "metadata": {},
   "source": [
    "Because this is a new concept, we'll do the code for you. Go through it and understand what each line does."
   ]
  },
  {
   "cell_type": "code",
   "execution_count": 20,
   "metadata": {},
   "outputs": [
    {
     "name": "stdout",
     "output_type": "stream",
     "text": [
      "Intercept is 181623\n",
      "Coefficient for Corner is 0 (because we dropped the first dummy level)\n",
      "Coefficient for CulDSac is 42231\n",
      "Coefficient for FR2 is -3688\n",
      "Coefficient for FR3 is 26851\n",
      "Coefficient for Inside is -4685\n"
     ]
    }
   ],
   "source": [
    "# we'll do the encoding for you today\n",
    "X = houses[\"LotConfig\"]\n",
    "enc_X = pd.get_dummies(X, drop_first=True)             # create K-1 new columns, ignore the first level\n",
    "dropped_level = np.sort(houses[\"LotConfig\"].unique())[0]\n",
    "\n",
    "# fitting the regression\n",
    "y = houses[\"SalePrice\"]\n",
    "lr = LinearRegression()\n",
    "model = lr.fit(enc_X, y)                               # same as before, using an encoded variable\n",
    "\n",
    "# outputting the results\n",
    "categories = enc_X.columns\n",
    "print(\"Intercept is\", int(model.intercept_))\n",
    "print(\"Coefficient for\", dropped_level, \"is 0 (because we dropped the first dummy level)\")\n",
    "for i, coef in enumerate(model.coef_):\n",
    "    print(\"Coefficient for\", categories[i], \"is\", int(coef))"
   ]
  },
  {
   "cell_type": "markdown",
   "metadata": {},
   "source": [
    "Suppose $I_k$ is an **indicator variable** for category $k$ (for simplicity we'll use 1-indexed coding, eg. for $k$=2, category is `CulDSac`). \n",
    "\n",
    "Using the output above, what are the values of each $\\beta$? Then interpret the meaning of each $\\beta$.\n",
    "*Hint: think about what the value of $I_k$ would be, and what that means for the corresponding $\\beta_k$.*"
   ]
  },
  {
   "cell_type": "markdown",
   "metadata": {},
   "source": [
    "### TODO: identify value for each beta\n",
    "for I_1=Corner, I_2=CulDSac, I_3=FR2, I_4=FR3, I_5=Inside\n",
    "beta_0 = 181,623: mean value for the reference level (Corner)\n",
    "beta_1 = 0:       Corner is reference level, so intercept already covers it\n",
    "beta_2 = 42,231:  CulDSac's mean value is beta_0 + beta_2 = 223,854\n",
    "beta_3 = -3,688:  FR2's mean value is 177,935\n",
    "beta_4 = 26,851:  FR3's mean value is 208,474\n",
    "beta_5 = -4,685:  Inside's mean value is 176,938"
   ]
  },
  {
   "cell_type": "markdown",
   "metadata": {},
   "source": [
    "Suppose you only know that a house has frontage on two sides of the property (that is, it belongs to category `FR2`). Using the model, **what would the predicted sales price be**? First use the equation directly, then use the `model.predict()` function to calculate it for you."
   ]
  },
  {
   "cell_type": "markdown",
   "metadata": {},
   "source": [
    "### TODO: calculate sales price estimate for category FR2\n",
    "All I_k except FR2 (I_3) is 0, so using the equation,\n",
    "    Y = 181623 + 0 + 0 - 3688 + 0 + 0 = 177935\n",
    "We see that this is equivalent to the mean value found above."
   ]
  },
  {
   "cell_type": "code",
   "execution_count": 21,
   "metadata": {},
   "outputs": [
    {
     "data": {
      "text/plain": [
       "array([177934.57446809])"
      ]
     },
     "execution_count": 21,
     "metadata": {},
     "output_type": "execute_result"
    }
   ],
   "source": [
    "# TODO: use model.predict()\n",
    "new = pd.DataFrame(columns=[\"CulDSac\", \"FR2\", \"FR3\", \"Inside\"])\n",
    "new.loc[0] = [0, 1, 0, 0]    # adjust this to show FR2=1\n",
    "model.predict(new)"
   ]
  },
  {
   "cell_type": "markdown",
   "metadata": {},
   "source": [
    "Of course, we're using very little information here - you can't reliably estimate the sales price of a house purely on its lot configuration. In future assessment, be prepared to use an **encoding of a nominal variable along with numerical variables** to create a model. This is similar to what you've done for multiple linear regression, but you should keep in mind that the encoded variable (`enc_X` here) actually has $K$ columns, rather than a single column."
   ]
  },
  {
   "cell_type": "markdown",
   "metadata": {},
   "source": [
    "#### 3.3 Recoding an Ordinal Variable\n",
    "What if we have an ordering in our variable? Of course, we can ignore this ordering and treat it like we would a nominal variable, but then we would lose the information that we have - and it's also unnecessary work for us.\n",
    "\n",
    "For this course, we'll recode an ordinal variable as consecutive integers, usually with the lowest value in the order as `0` or `1` (depending on whether the lowest value is similar to a null value). Here, we'll use `LotShape` for our recoding.\n",
    "\n",
    "Previously, we've given you clear directions on what you can do to understand a variable. Now, we'll let you do it yourself."
   ]
  },
  {
   "cell_type": "code",
   "execution_count": 22,
   "metadata": {},
   "outputs": [
    {
     "data": {
      "image/png": "[encoded data removed]",
      "text/plain": [
       "<Figure size 576x396 with 1 Axes>"
      ]
     },
     "metadata": {},
     "output_type": "display_data"
    },
    {
     "name": "stdout",
     "output_type": "stream",
     "text": [
      "Reg    925\n",
      "IR1    484\n",
      "IR2     41\n",
      "IR3     10\n",
      "Name: LotShape, dtype: int64\n"
     ]
    }
   ],
   "source": [
    "# TODO: explore the variable with relation to SalePrice\n",
    "plt.boxplot([houses[\"SalePrice\"][houses[\"LotShape\"]==category] \n",
    "             for category in houses[\"LotShape\"].unique()])\n",
    "plt.xticks(list(range(1,len(houses[\"LotShape\"].unique())+1)), houses[\"LotShape\"].unique())\n",
    "plt.show()\n",
    "\n",
    "print(houses[\"LotShape\"].value_counts())"
   ]
  },
  {
   "cell_type": "markdown",
   "metadata": {},
   "source": [
    "Now **recode** the variable with respect to the irregularity of the lot shape, with `Reg`=0, `IR1`=1, `IR2`=2 and `IR3`=3."
   ]
  },
  {
   "cell_type": "code",
   "execution_count": 23,
   "metadata": {},
   "outputs": [
    {
     "data": {
      "text/plain": [
       "0    925\n",
       "1    484\n",
       "2     41\n",
       "3     10\n",
       "Name: LotShapeRecode, dtype: int64"
      ]
     },
     "execution_count": 23,
     "metadata": {},
     "output_type": "execute_result"
    }
   ],
   "source": [
    "# TODO: recode LotShape to be numeric\n",
    "# we can use factorize to do this easily\n",
    "houses[\"LotShapeRecode\"] = pd.factorize(houses[\"LotShape\"])[0]\n",
    "houses[\"LotShapeRecode\"].value_counts()    # compare to previous value counts"
   ]
  },
  {
   "cell_type": "markdown",
   "metadata": {},
   "source": [
    "Now that it's a numerical variable, we just need to fit a model. Fit a **simple linear regression** with `SalePrice` as the target and the recoding of `LotShape` as the predictor."
   ]
  },
  {
   "cell_type": "code",
   "execution_count": 24,
   "metadata": {},
   "outputs": [
    {
     "name": "stdout",
     "output_type": "stream",
     "text": [
      "Shapes: (1168, 15) (292, 15)\n",
      "Train Score: 0.06434832755900799\n",
      "Test Score:  0.09667636343246544\n"
     ]
    }
   ],
   "source": [
    "# TODO: fit regression model\n",
    "train, test = train_test_split(houses, test_size = 0.2)\n",
    "print(\"Shapes:\", train.shape, test.shape)\n",
    "\n",
    "x_train = np.array(train[\"LotShapeRecode\"]).reshape(-1,1)\n",
    "y_train = train[\"SalePrice\"]\n",
    "x_test = np.array(test[\"LotShapeRecode\"]).reshape(-1,1)\n",
    "y_test = test[\"SalePrice\"]\n",
    "\n",
    "lr = LinearRegression()\n",
    "model = lr.fit(x_train, y_train)\n",
    "print(\"Train Score:\", model.score(x_train, y_train))\n",
    "print(\"Test Score: \", model.score(x_test, y_test))"
   ]
  },
  {
   "cell_type": "markdown",
   "metadata": {},
   "source": [
    "(This is actually a very inaccurate model - an R^2 of less than 0.1 is almost as useless as a model that predicts purely on the mean. But this is simply because LotShape is not a great predictor for SalePrice)"
   ]
  },
  {
   "cell_type": "markdown",
   "metadata": {},
   "source": [
    "#### 4.4 Time to combine everything together.\n",
    "While we've covered all the topics, we haven't actually put it all together yet. In this section, we would like you to **create a train-test split**, **encode `LotConfig` using the one-hot encoder**, **recode `LotShape` as a numerical variable**, **fit a MLR model using at least 4 columns, plus `LotShape` and `LotConfig`**, and **report the test score** of the model.\n",
    "\n",
    "This question likely requires concatenation, slicing and dropping of Pandas DataFrames, so make sure you're familiar with those topics as well. We've set a random seed so that you can compare answers with classmates and the solutions once they're released.\n",
    "\n",
    "We expect this question will be **very difficult**, but if you're able to complete it successfully then we believe you've mastered both Lab02 and Lab04 (this lab)."
   ]
  },
  {
   "cell_type": "code",
   "execution_count": 126,
   "metadata": {},
   "outputs": [],
   "source": [
    "# re-import data so we start fresh\n",
    "houses = pd.read_csv(\"data/houses_sub.csv\")"
   ]
  },
  {
   "cell_type": "code",
   "execution_count": 127,
   "metadata": {},
   "outputs": [
    {
     "name": "stdout",
     "output_type": "stream",
     "text": [
      "Test Score: 0.6986643473561756\n"
     ]
    }
   ],
   "source": [
    "np.random.seed(2420)\n",
    "\n",
    "# reconfiguring the non-numeric columns\n",
    "lotconfig = pd.get_dummies(houses[\"LotConfig\"], drop_first=True)\n",
    "lotshape = pd.Series(pd.factorize(houses[\"LotShape\"])[0])\n",
    "\n",
    "# dropping the non-configured and appending the configured columns\n",
    "houses2 = houses.copy()\n",
    "houses2.drop([\"LotShape\",\"LotConfig\"], axis=1, inplace=True)\n",
    "houses2 = pd.concat([houses2, lotconfig, lotshape], axis=1)\n",
    "\n",
    "# split the data into training and testing\n",
    "train, test = train_test_split(houses2, test_size=0.2)\n",
    "x_train = train.drop(\"SalePrice\", axis=1)\n",
    "y_train = train[\"SalePrice\"]\n",
    "x_test = test.drop(\"SalePrice\", axis=1)\n",
    "y_test = test[\"SalePrice\"]\n",
    "\n",
    "# fit and score the model\n",
    "lr = LinearRegression()\n",
    "model = lr.fit(x_train, y_train)\n",
    "print(\"Test Score:\", model.score(x_test, y_test))"
   ]
  },
  {
   "cell_type": "markdown",
   "metadata": {},
   "source": [
    "Congratulations, that's everything you need to know about regression! To summarise, we've covered:\n",
    "- train/test split, to ensure our model is accurate and reliable\n",
    "- simple linear regression (SLR), with one predictor \n",
    "- multiple linear regression (MLR), with more than one predictor \n",
    "- squared transformations of variables \n",
    "- categorical variables as predictors:\n",
    "    - nominal (unordered) variables\n",
    "    - ordinal (ordered) variables, with sensible recoding to numerical values\n",
    "- build a model with numerical, nominal, and ordinal variables\n",
    "    \n",
    "While we've covered a few different topics, we certainly haven't explored all the uses of regression; there are many STAT courses that focus solely on regression analysis, but we don't have the time to cover all that content here. If you're interested in learning more, we suggest that you do some research to expand your horizons!"
   ]
  },
  {
   "cell_type": "markdown",
   "metadata": {},
   "source": [
    "*****"
   ]
  },
  {
   "cell_type": "markdown",
   "metadata": {},
   "source": [
    "## Homework & Extension Questions: Overfitting \n",
    "In Q3.1 we see that when we add a higher order term to the model, the test performance of the model increases - but what if we keep adding higher order term? Will the test performance keep improving?\n",
    "\n",
    "Let's try to explore the relationship between test performance and order of **LotArea**.\n",
    "(**hint:** *polynomial features:https://scikit-learn.org/stable/modules/generated/sklearn.preprocessing.PolynomialFeatures.html*)\n",
    "\n",
    "what you need to do:\n",
    "- apply z-score normalisation to **LotArea** to aviod the value become too large (https://scikit-learn.org/stable/modules/generated/sklearn.preprocessing.StandardScaler.html)\n",
    "- record the train and test performances of the models starting from the SLR model (**SalePrice**=$b_0+b_1 * LotArea$) to the model with **LotArea** to the **power of 5** (**SalePrice**=$b_0+b_1 *LotArea+ ... + b_5 * LotArea^5$)\n",
    "- plot the train and test performances vs the number of order\n",
    "- explain what you see in the plot, is it expected?\n",
    "- explain which order you should use and why"
   ]
  },
  {
   "cell_type": "code",
   "execution_count": 249,
   "metadata": {},
   "outputs": [],
   "source": [
    "from sklearn.preprocessing import PolynomialFeatures, StandardScaler"
   ]
  },
  {
   "cell_type": "code",
   "execution_count": 251,
   "metadata": {},
   "outputs": [
    {
     "data": {
      "image/png": "[encoded data removed]",
      "text/plain": [
       "<Figure size 576x396 with 1 Axes>"
      ]
     },
     "metadata": {},
     "output_type": "display_data"
    }
   ],
   "source": [
    "all_train = []\n",
    "all_test = []\n",
    "scaler = StandardScaler()\n",
    "\n",
    "for fold in range(500): # run 500 times to ensure the results are stable\n",
    "    train_scores = []\n",
    "    test_scores = []\n",
    "    for order in range(1,6):\n",
    "        train, test = train_test_split(houses, test_size=0.2)\n",
    "        poly = PolynomialFeatures(order)\n",
    "        x_train = scaler.fit_transform(np.array(train[\"LotArea\"]).reshape(-1,1))\n",
    "        x_train = poly.fit_transform(x_train)[:,1:]\n",
    "        y_train = train[\"SalePrice\"]\n",
    "\n",
    "        # fit model\n",
    "        lr = LinearRegression()\n",
    "        model = lr.fit(x_train, y_train)\n",
    "        x_test = scaler.fit_transform(np.array(test[\"LotArea\"]).reshape(-1,1))\n",
    "        x_test = poly.fit_transform(x_test)[:,1:]\n",
    "        y_test = test[\"SalePrice\"]\n",
    "        train_scores.append(model.score(x_train, y_train))\n",
    "        test_scores.append(model.score(x_test, y_test))\n",
    "    all_train.append(train_scores)\n",
    "    all_test.append(test_scores)\n",
    "\n",
    "fig = plt.figure()\n",
    "ax = fig.add_subplot(111)\n",
    "plt.plot([i for i in range(1,6)], np.average(np.array(all_train),0), label='train')\n",
    "plt.plot([i for i in range(1,6)], np.average(np.array(all_test),0), label='test')\n",
    "plt.legend()\n",
    "ax.set_xlabel('number of order')\n",
    "ax.set_xticks([i for i in range(1,6)])\n",
    "ax.set_ylabel('score')\n",
    "ax.set_title(\"Train VS Test by Order\")\n",
    "ax.set_ylim([0,0.2])\n",
    "\n",
    "plt.show()"
   ]
  },
  {
   "cell_type": "markdown",
   "metadata": {},
   "source": [
    "Along with the increase of the order, the train performance also increases, but after the 3rd order, the test performance starts to drop. This is where overfitting comes in and this is expected. Therefore, we should use **SalePrice**=$b_0+b_1 *LotArea+ b_2 *LotArea^2 + b_3 * LotArea^3$."
   ]
  },
  {
   "cell_type": "markdown",
   "metadata": {},
   "source": [
    "*****"
   ]
  }
 ],
 "metadata": {
  "kernelspec": {
   "display_name": "Python 3 (ipykernel)",
   "language": "python",
   "name": "python3"
  },
  "language_info": {
   "codemirror_mode": {
    "name": "ipython",
    "version": 3
   },
   "file_extension": ".py",
   "mimetype": "text/x-python",
   "name": "python",
   "nbconvert_exporter": "python",
   "pygments_lexer": "ipython3",
   "version": "3.7.3"
  }
 },
 "nbformat": 4,
 "nbformat_minor": 4
}
